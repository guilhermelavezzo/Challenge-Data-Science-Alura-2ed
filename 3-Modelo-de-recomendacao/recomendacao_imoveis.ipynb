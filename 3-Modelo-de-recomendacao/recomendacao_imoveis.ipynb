{
  "cells": [
    {
      "cell_type": "markdown",
      "metadata": {
        "colab_type": "text",
        "id": "view-in-github"
      },
      "source": [
        "<a href=\"https://colab.research.google.com/github/millenagena/Challenge-Data-Science-Alura-2ed/blob/main/3-Modelo-de-recomendacao/recomendacao_imoveis.ipynb\" target=\"_parent\"><img src=\"https://colab.research.google.com/assets/colab-badge.svg\" alt=\"Open In Colab\"/></a>"
      ]
    },
    {
      "cell_type": "markdown",
      "metadata": {
        "id": "CRMvmLb35dVt"
      },
      "source": [
        "# Semanas 3 e 4"
      ]
    },
    {
      "cell_type": "markdown",
      "metadata": {
        "id": "tZujwQHYXO6G"
      },
      "source": [
        "Durante as semanas 3 e 4 vamos focar em melhorar o sistema de recomendação da InsightPlaces.\n",
        "\n",
        "Nosso sistema não está recebendo os clicks que esperava apenas recomendando imoveis das mesmas regiões e na mesma faixa de preço, por isso como parte do time de Data Science precisamos criar uma nova mecânica de recomendação de imóveis.\n",
        "\n",
        "O objetivo é criar um sistema de recomendação de imóveis baseado em similaridade de características. A base de dados utilizada será a base de dados tratada na semana 2, após transformar as variáveis categóricas em variáveis binárias e antes de aplicarmos a vetorização."
      ]
    },
    {
      "cell_type": "markdown",
      "metadata": {
        "id": "Rmmoq8B_5pGn"
      },
      "source": [
        "## Instalando pyspark"
      ]
    },
    {
      "cell_type": "code",
      "execution_count": 1,
      "metadata": {
        "colab": {
          "base_uri": "https://localhost:8080/"
        },
        "id": "YZBP_mPIsS7K",
        "outputId": "f6389bae-a455-4520-d1ca-b07bd09e6c7f"
      },
      "outputs": [
        {
          "name": "stdout",
          "output_type": "stream",
          "text": [
            "Looking in indexes: https://pypi.org/simple, https://us-python.pkg.dev/colab-wheels/public/simple/\n",
            "Collecting pyspark==3.3.1\n",
            "  Downloading pyspark-3.3.1.tar.gz (281.4 MB)\n",
            "\u001b[K     |████████████████████████████████| 281.4 MB 45 kB/s \n",
            "\u001b[?25hCollecting py4j==0.10.9.5\n",
            "  Downloading py4j-0.10.9.5-py2.py3-none-any.whl (199 kB)\n",
            "\u001b[K     |████████████████████████████████| 199 kB 50.4 MB/s \n",
            "\u001b[?25hBuilding wheels for collected packages: pyspark\n",
            "  Building wheel for pyspark (setup.py) ... \u001b[?25l\u001b[?25hdone\n",
            "  Created wheel for pyspark: filename=pyspark-3.3.1-py2.py3-none-any.whl size=281845512 sha256=437ff611c7b1c4414d4b12a2a2a80f5ba9801356f3bc2a4c92aa154231efeb47\n",
            "  Stored in directory: /root/.cache/pip/wheels/43/dc/11/ec201cd671da62fa9c5cc77078235e40722170ceba231d7598\n",
            "Successfully built pyspark\n",
            "Installing collected packages: py4j, pyspark\n",
            "Successfully installed py4j-0.10.9.5 pyspark-3.3.1\n"
          ]
        }
      ],
      "source": [
        "!pip install pyspark==3.3.1"
      ]
    },
    {
      "cell_type": "markdown",
      "metadata": {
        "id": "3xlNmj-m8Ato"
      },
      "source": [
        "## [SparkSession](https://spark.apache.org/docs/latest/api/python/reference/api/pyspark.sql.SparkSession.html)\n",
        "\n",
        "O ponto de entrada para programar o Spark com a API Dataset e DataFrame.\n",
        "\n",
        "Uma SparkSession pode ser utilizada para criar DataFrames, registrar DataFrames como tabelas, executar consultas SQL em tabelas, armazenar em cache e ler arquivos parquet. Para criar uma SparkSession, use o seguinte padrão de construtor:"
      ]
    },
    {
      "cell_type": "code",
      "execution_count": 2,
      "metadata": {
        "colab": {
          "base_uri": "https://localhost:8080/",
          "height": 219
        },
        "id": "Y9JI2yB6jzxa",
        "outputId": "e36b45a5-5ff5-4ed8-8f2d-9409b68c1408"
      },
      "outputs": [
        {
          "data": {
            "text/html": [
              "\n",
              "            <div>\n",
              "                <p><b>SparkSession - in-memory</b></p>\n",
              "                \n",
              "        <div>\n",
              "            <p><b>SparkContext</b></p>\n",
              "\n",
              "            <p><a href=\"http://2a161dccadf7:4040\">Spark UI</a></p>\n",
              "\n",
              "            <dl>\n",
              "              <dt>Version</dt>\n",
              "                <dd><code>v3.3.1</code></dd>\n",
              "              <dt>Master</dt>\n",
              "                <dd><code>local[*]</code></dd>\n",
              "              <dt>AppName</dt>\n",
              "                <dd><code>recomedacao</code></dd>\n",
              "            </dl>\n",
              "        </div>\n",
              "        \n",
              "            </div>\n",
              "        "
            ],
            "text/plain": [
              "<pyspark.sql.session.SparkSession at 0x7f447f648df0>"
            ]
          },
          "execution_count": 2,
          "metadata": {},
          "output_type": "execute_result"
        }
      ],
      "source": [
        "from pyspark.sql import SparkSession\n",
        "\n",
        "spark = SparkSession\\\n",
        "    .builder\\\n",
        "    .appName('recomedacao')\\\n",
        "    .getOrCreate()\n",
        "    \n",
        "spark"
      ]
    },
    {
      "cell_type": "markdown",
      "metadata": {
        "id": "L9BbcgYFbZMz"
      },
      "source": [
        "## Carregamento dos dados"
      ]
    },
    {
      "cell_type": "code",
      "execution_count": 3,
      "metadata": {
        "colab": {
          "base_uri": "https://localhost:8080/"
        },
        "id": "tgbGnuK5bdPI",
        "outputId": "8e9454a1-6ea5-4c34-ef74-092a5017a370"
      },
      "outputs": [
        {
          "name": "stdout",
          "output_type": "stream",
          "text": [
            "--2022-12-19 18:51:27--  https://caelum-online-public.s3.amazonaws.com/challenge-spark/semanas-3-e-4.zip\n",
            "Resolving caelum-online-public.s3.amazonaws.com (caelum-online-public.s3.amazonaws.com)... 52.216.238.155, 52.216.153.100, 52.217.225.145, ...\n",
            "Connecting to caelum-online-public.s3.amazonaws.com (caelum-online-public.s3.amazonaws.com)|52.216.238.155|:443... connected.\n",
            "HTTP request sent, awaiting response... 200 OK\n",
            "Length: 2588308 (2.5M) [application/zip]\n",
            "Saving to: ‘semanas-3-e-4.zip’\n",
            "\n",
            "\rsemanas-3-e-4.zip     0%[                    ]       0  --.-KB/s               \rsemanas-3-e-4.zip   100%[===================>]   2.47M  --.-KB/s    in 0.1s    \n",
            "\n",
            "2022-12-19 18:51:27 (23.4 MB/s) - ‘semanas-3-e-4.zip’ saved [2588308/2588308]\n",
            "\n",
            "Archive:  semanas-3-e-4.zip\n",
            "   creating: dados/dataset_ml_parquet/\n",
            "  inflating: dados/dataset_ml_parquet/_SUCCESS  \n",
            "  inflating: dados/dataset_ml_parquet/._SUCCESS.crc  \n",
            "  inflating: dados/dataset_ml_parquet/part-00003-a14b227c-f87e-4893-b5f9-4163ed07cb37-c000.snappy.parquet  \n",
            "  inflating: dados/dataset_ml_parquet/part-00001-a14b227c-f87e-4893-b5f9-4163ed07cb37-c000.snappy.parquet  \n",
            "  inflating: dados/dataset_ml_parquet/part-00000-a14b227c-f87e-4893-b5f9-4163ed07cb37-c000.snappy.parquet  \n",
            "  inflating: dados/dataset_ml_parquet/.part-00003-a14b227c-f87e-4893-b5f9-4163ed07cb37-c000.snappy.parquet.crc  \n",
            "  inflating: dados/dataset_ml_parquet/part-00002-a14b227c-f87e-4893-b5f9-4163ed07cb37-c000.snappy.parquet  \n",
            "  inflating: dados/dataset_ml_parquet/.part-00001-a14b227c-f87e-4893-b5f9-4163ed07cb37-c000.snappy.parquet.crc  \n",
            "  inflating: dados/dataset_ml_parquet/.part-00002-a14b227c-f87e-4893-b5f9-4163ed07cb37-c000.snappy.parquet.crc  \n",
            "  inflating: dados/dataset_ml_parquet/.part-00000-a14b227c-f87e-4893-b5f9-4163ed07cb37-c000.snappy.parquet.crc  \n"
          ]
        }
      ],
      "source": [
        "!wget 'https://caelum-online-public.s3.amazonaws.com/challenge-spark/semanas-3-e-4.zip' && unzip semanas-3-e-4.zip -d dados/"
      ]
    },
    {
      "cell_type": "markdown",
      "metadata": {
        "id": "7-dLJ1rq8FRT"
      },
      "source": [
        "## Leitura dos dados"
      ]
    },
    {
      "cell_type": "code",
      "execution_count": 4,
      "metadata": {
        "colab": {
          "base_uri": "https://localhost:8080/"
        },
        "id": "SqyRaHmhkr2j",
        "outputId": "837936da-9ca4-4157-c50b-bc85d48e4945"
      },
      "outputs": [
        {
          "name": "stdout",
          "output_type": "stream",
          "text": [
            "+--------------------+-----+---------+---------+-------+------+----+------------+----------+-----+--------+------------+----------+----------+--------+--------+------------------+-------------+------------------+--------+-------+----------+------------+-----------------+---------------+\n",
            "|                  id|andar|area_util|banheiros|quartos|suites|vaga|      bairro|condominio| iptu|   valor|Zona Central|Zona Norte|Zona Oeste|Zona Sul|Academia|Animais permitidos|Churrasqueira|Condomínio fechado|Elevador|Piscina|Playground|Portaria 24h|Portão eletrônico|Salão de festas|\n",
            "+--------------------+-----+---------+---------+-------+------+----+------------+----------+-----+--------+------------+----------+----------+--------+--------+------------------+-------------+------------------+--------+-------+----------+------------+-----------------+---------------+\n",
            "|00002dd9-cc74-480...|    2|       35|        1|      1|   0.0| 0.0|Santo Cristo|     100.0|100.0|245000.0|           1|         0|         0|       0|       1|                 1|            1|                 1|       1|      1|         1|           1|                1|              1|\n",
            "|0009ca94-2b37-438...|    1|       84|        2|      2|   0.0| 1.0|      Tijuca|     770.0|105.0|474980.0|           0|         1|         0|       0|       0|                 0|            1|                 0|       1|      0|         1|           1|                0|              1|\n",
            "|000e3d28-e3e5-411...|    0|       85|        2|      2|   0.0| 0.0|Santa Teresa|     460.0|661.0|290000.0|           0|         0|         0|       1|       0|                 1|            0|                 0|       1|      0|         0|           0|                0|              0|\n",
            "|000fb707-6cad-496...|    0|       58|        1|      2|   0.0| 1.0|   Pechincha|     550.0|550.0|249000.0|           0|         0|         1|       0|       0|                 0|            0|                 0|       0|      1|         1|           0|                0|              0|\n",
            "|001b6db0-e88d-4eb...|    0|       64|        2|      2|   1.0| 1.0|      Tijuca|     850.0|  0.0|530000.0|           0|         1|         0|       0|       0|                 0|            0|                 0|       0|      0|         0|           0|                0|              0|\n",
            "+--------------------+-----+---------+---------+-------+------+----+------------+----------+-----+--------+------------+----------+----------+--------+--------+------------------+-------------+------------------+--------+-------+----------+------------+-----------------+---------------+\n",
            "only showing top 5 rows\n",
            "\n"
          ]
        }
      ],
      "source": [
        "dados = spark.read.parquet(\"dados/dataset_ml_parquet\")\n",
        "dados.show(5)"
      ]
    },
    {
      "cell_type": "code",
      "execution_count": 5,
      "metadata": {
        "colab": {
          "base_uri": "https://localhost:8080/"
        },
        "id": "q_WokaRnC_UX",
        "outputId": "2c6a8943-60b6-4284-de1f-5c2ba9264bd9"
      },
      "outputs": [
        {
          "name": "stdout",
          "output_type": "stream",
          "text": [
            "root\n",
            " |-- id: string (nullable = true)\n",
            " |-- andar: integer (nullable = true)\n",
            " |-- area_util: integer (nullable = true)\n",
            " |-- banheiros: integer (nullable = true)\n",
            " |-- quartos: integer (nullable = true)\n",
            " |-- suites: double (nullable = true)\n",
            " |-- vaga: double (nullable = true)\n",
            " |-- bairro: string (nullable = true)\n",
            " |-- condominio: double (nullable = true)\n",
            " |-- iptu: double (nullable = true)\n",
            " |-- valor: double (nullable = true)\n",
            " |-- Zona Central: integer (nullable = true)\n",
            " |-- Zona Norte: integer (nullable = true)\n",
            " |-- Zona Oeste: integer (nullable = true)\n",
            " |-- Zona Sul: integer (nullable = true)\n",
            " |-- Academia: integer (nullable = true)\n",
            " |-- Animais permitidos: integer (nullable = true)\n",
            " |-- Churrasqueira: integer (nullable = true)\n",
            " |-- Condomínio fechado: integer (nullable = true)\n",
            " |-- Elevador: integer (nullable = true)\n",
            " |-- Piscina: integer (nullable = true)\n",
            " |-- Playground: integer (nullable = true)\n",
            " |-- Portaria 24h: integer (nullable = true)\n",
            " |-- Portão eletrônico: integer (nullable = true)\n",
            " |-- Salão de festas: integer (nullable = true)\n",
            "\n"
          ]
        }
      ],
      "source": [
        "dados.printSchema()"
      ]
    },
    {
      "cell_type": "code",
      "execution_count": 6,
      "metadata": {
        "colab": {
          "base_uri": "https://localhost:8080/"
        },
        "id": "qsnBtZ2hmCnj",
        "outputId": "223a1c50-74c6-4dbd-ab96-353f4f547b8b"
      },
      "outputs": [
        {
          "name": "stdout",
          "output_type": "stream",
          "text": [
            "Quantidade de linhas: 66551\n",
            "Quantidade de colunas: 25\n"
          ]
        }
      ],
      "source": [
        "print(f\"Quantidade de linhas: {dados.count()}\")\n",
        "print(f\"Quantidade de colunas: {len(dados.columns)}\")"
      ]
    },
    {
      "cell_type": "markdown",
      "metadata": {
        "id": "XLfeX1suXO6L"
      },
      "source": [
        "Vamos verificar a quantidade de dados nulos em cada coluna "
      ]
    },
    {
      "cell_type": "code",
      "execution_count": 7,
      "metadata": {
        "id": "ymFH5cVdqJEk"
      },
      "outputs": [],
      "source": [
        "import pyspark.sql.functions as f"
      ]
    },
    {
      "cell_type": "code",
      "execution_count": 8,
      "metadata": {
        "colab": {
          "base_uri": "https://localhost:8080/"
        },
        "id": "wnCToGjHpb_0",
        "outputId": "054fcf13-ba6a-4d86-8f65-8b5ffa4eedb0"
      },
      "outputs": [
        {
          "name": "stdout",
          "output_type": "stream",
          "text": [
            "+---+-----+---------+---------+-------+------+----+------+----------+----+-----+------------+----------+----------+--------+--------+------------------+-------------+------------------+--------+-------+----------+------------+-----------------+---------------+\n",
            "| id|andar|area_util|banheiros|quartos|suites|vaga|bairro|condominio|iptu|valor|Zona Central|Zona Norte|Zona Oeste|Zona Sul|Academia|Animais permitidos|Churrasqueira|Condomínio fechado|Elevador|Piscina|Playground|Portaria 24h|Portão eletrônico|Salão de festas|\n",
            "+---+-----+---------+---------+-------+------+----+------+----------+----+-----+------------+----------+----------+--------+--------+------------------+-------------+------------------+--------+-------+----------+------------+-----------------+---------------+\n",
            "|  0|    0|        0|        0|      0|     0|   0|     0|         0|   0|    0|           0|         0|         0|       0|       0|                 0|            0|                 0|       0|      0|         0|           0|                0|              0|\n",
            "+---+-----+---------+---------+-------+------+----+------+----------+----+-----+------------+----------+----------+--------+--------+------------------+-------------+------------------+--------+-------+----------+------------+-----------------+---------------+\n",
            "\n"
          ]
        }
      ],
      "source": [
        "dados.select([f.count(f.when(f.isnull(c), 1)).alias(c) for c in dados.columns]).show()"
      ]
    },
    {
      "cell_type": "markdown",
      "metadata": {
        "id": "i06fEz4G8Wt2"
      },
      "source": [
        "## Preparando os dados"
      ]
    },
    {
      "cell_type": "markdown",
      "metadata": {
        "id": "SHzErh0JXO6M"
      },
      "source": [
        "Vamos aplicar as transformações necessárias para utilizar os dados no nosso modelos de clustering.\n",
        "\n",
        "Assim como fizemos em modelos de regressão, é necessário vetorizar os dados com a classe [VectorAssembler](https://spark.apache.org/docs/3.3.1/api/python/reference/api/pyspark.ml.feature.VectorAssembler.html) do PySpark."
      ]
    },
    {
      "cell_type": "code",
      "execution_count": 9,
      "metadata": {
        "id": "ztuE0IDhonzk"
      },
      "outputs": [],
      "source": [
        "from pyspark.ml.feature import VectorAssembler"
      ]
    },
    {
      "cell_type": "code",
      "execution_count": 10,
      "metadata": {
        "colab": {
          "base_uri": "https://localhost:8080/"
        },
        "id": "cyqjbmuMugk9",
        "outputId": "1cdfd873-274c-4b83-9019-91b86ddedadc"
      },
      "outputs": [
        {
          "data": {
            "text/plain": [
              "['id',\n",
              " 'andar',\n",
              " 'area_util',\n",
              " 'banheiros',\n",
              " 'quartos',\n",
              " 'suites',\n",
              " 'vaga',\n",
              " 'bairro',\n",
              " 'condominio',\n",
              " 'iptu',\n",
              " 'valor',\n",
              " 'Zona Central',\n",
              " 'Zona Norte',\n",
              " 'Zona Oeste',\n",
              " 'Zona Sul',\n",
              " 'Academia',\n",
              " 'Animais permitidos',\n",
              " 'Churrasqueira',\n",
              " 'Condomínio fechado',\n",
              " 'Elevador',\n",
              " 'Piscina',\n",
              " 'Playground',\n",
              " 'Portaria 24h',\n",
              " 'Portão eletrônico',\n",
              " 'Salão de festas']"
            ]
          },
          "execution_count": 10,
          "metadata": {},
          "output_type": "execute_result"
        }
      ],
      "source": [
        "dados.columns"
      ]
    },
    {
      "cell_type": "markdown",
      "metadata": {
        "id": "UG2yw4_tXO6M"
      },
      "source": [
        "Vamos utilizar todas as colunas, exceto as colunas: \n",
        "* `id` - por ser um identificador único; \n",
        "* `bairro` - por ser uma variável categórica que não foi transformada em dummy pois possui muitas categorias."
      ]
    },
    {
      "cell_type": "code",
      "execution_count": 11,
      "metadata": {
        "colab": {
          "base_uri": "https://localhost:8080/"
        },
        "id": "yQRS3F2-lgcv",
        "outputId": "6ebbc57f-d559-41b9-fcd0-1306e8915153"
      },
      "outputs": [
        {
          "data": {
            "text/plain": [
              "['andar',\n",
              " 'area_util',\n",
              " 'banheiros',\n",
              " 'quartos',\n",
              " 'suites',\n",
              " 'vaga',\n",
              " 'condominio',\n",
              " 'iptu',\n",
              " 'valor',\n",
              " 'Zona Central',\n",
              " 'Zona Norte',\n",
              " 'Zona Oeste',\n",
              " 'Zona Sul',\n",
              " 'Academia',\n",
              " 'Animais permitidos',\n",
              " 'Churrasqueira',\n",
              " 'Condomínio fechado',\n",
              " 'Elevador',\n",
              " 'Piscina',\n",
              " 'Playground',\n",
              " 'Portaria 24h',\n",
              " 'Portão eletrônico',\n",
              " 'Salão de festas']"
            ]
          },
          "execution_count": 11,
          "metadata": {},
          "output_type": "execute_result"
        }
      ],
      "source": [
        "X = dados.columns\n",
        "X.remove('id')\n",
        "X.remove('bairro')\n",
        "X"
      ]
    },
    {
      "cell_type": "code",
      "execution_count": 12,
      "metadata": {
        "id": "SVAgPzypovyJ"
      },
      "outputs": [],
      "source": [
        "vecAssembler = VectorAssembler(inputCols=X, outputCol='features')"
      ]
    },
    {
      "cell_type": "code",
      "execution_count": 13,
      "metadata": {
        "id": "dM2KOS4sXO6N"
      },
      "outputs": [],
      "source": [
        "dados_vector = vecAssembler.transform(dados).select(['features'])"
      ]
    },
    {
      "cell_type": "code",
      "execution_count": 14,
      "metadata": {
        "colab": {
          "base_uri": "https://localhost:8080/"
        },
        "id": "XJ1-XNvhpFhW",
        "outputId": "7d2d6ad2-b65e-4920-9a14-c95f528c5dee"
      },
      "outputs": [
        {
          "name": "stdout",
          "output_type": "stream",
          "text": [
            "+------------------------------------------------------------------------------------------------------------+\n",
            "|features                                                                                                    |\n",
            "+------------------------------------------------------------------------------------------------------------+\n",
            "|[2.0,35.0,1.0,1.0,0.0,0.0,100.0,100.0,245000.0,1.0,0.0,0.0,0.0,1.0,1.0,1.0,1.0,1.0,1.0,1.0,1.0,1.0,1.0]     |\n",
            "|(23,[0,1,2,3,5,6,7,8,10,15,17,19,20,22],[1.0,84.0,2.0,2.0,1.0,770.0,105.0,474980.0,1.0,1.0,1.0,1.0,1.0,1.0])|\n",
            "|(23,[1,2,3,6,7,8,12,14,17],[85.0,2.0,2.0,460.0,661.0,290000.0,1.0,1.0,1.0])                                 |\n",
            "|(23,[1,2,3,5,6,7,8,11,18,19],[58.0,1.0,2.0,1.0,550.0,550.0,249000.0,1.0,1.0,1.0])                           |\n",
            "|(23,[1,2,3,4,5,6,8,10],[64.0,2.0,2.0,1.0,1.0,850.0,530000.0,1.0])                                           |\n",
            "+------------------------------------------------------------------------------------------------------------+\n",
            "only showing top 5 rows\n",
            "\n"
          ]
        }
      ],
      "source": [
        "dados_vector.show(truncate=False, n=5)"
      ]
    },
    {
      "cell_type": "markdown",
      "metadata": {
        "id": "qjaaOBDq8jIJ"
      },
      "source": [
        "## Padronizando os dados\n",
        "\n",
        "Vamos padronizar os dados com a classe [StandardScaler](https://spark.apache.org/docs/3.3.1/api/python/reference/api/pyspark.ml.feature.StandardScaler.html) do PySpark. Essa classe é utilizada para padronizar os dados, ou seja, transformar os dados para que tenham média 0 e desvio padrão 1, fórmula:\n",
        "\n",
        "$$x_{i} = \\frac{x_{i} - \\mu}{\\sigma}$$"
      ]
    },
    {
      "cell_type": "code",
      "execution_count": 15,
      "metadata": {
        "id": "EU8r37W8iJbn"
      },
      "outputs": [],
      "source": [
        "from pyspark.ml.feature import StandardScaler"
      ]
    },
    {
      "cell_type": "code",
      "execution_count": 16,
      "metadata": {
        "id": "a58xxLEiiL4y"
      },
      "outputs": [],
      "source": [
        "scaler = StandardScaler(inputCol='features', outputCol='scaled_features')\n",
        "scaler_model = scaler.fit(dados_vector)\n",
        "dados_scaler = scaler_model.transform(dados_vector)"
      ]
    },
    {
      "cell_type": "code",
      "execution_count": 17,
      "metadata": {
        "colab": {
          "base_uri": "https://localhost:8080/"
        },
        "id": "A4smw0NgvjjR",
        "outputId": "1b99fa7d-5857-4a28-e1c6-80f74f3a8715"
      },
      "outputs": [
        {
          "name": "stdout",
          "output_type": "stream",
          "text": [
            "+--------------------+--------------------+\n",
            "|            features|     scaled_features|\n",
            "+--------------------+--------------------+\n",
            "|[2.0,35.0,1.0,1.0...|[0.13607726247524...|\n",
            "|(23,[0,1,2,3,5,6,...|(23,[0,1,2,3,5,6,...|\n",
            "|(23,[1,2,3,6,7,8,...|(23,[1,2,3,6,7,8,...|\n",
            "|(23,[1,2,3,5,6,7,...|(23,[1,2,3,5,6,7,...|\n",
            "|(23,[1,2,3,4,5,6,...|(23,[1,2,3,4,5,6,...|\n",
            "+--------------------+--------------------+\n",
            "only showing top 5 rows\n",
            "\n"
          ]
        }
      ],
      "source": [
        "dados_scaler.show(5)"
      ]
    },
    {
      "cell_type": "markdown",
      "metadata": {
        "id": "f7JOMQqG8phq"
      },
      "source": [
        "## Redução de dimensionalidade\n",
        "\n",
        "Para fazer a redução da dimensionalidade, ou em outras palavras reduzir o número de colunas, vamos utilizar a classe [PCA](https://spark.apache.org/docs/3.3.1/api/python/reference/api/pyspark.ml.feature.PCA.html) do PySpark. Com isso teremos um novo conjunto de dados onde as colunas serão combinação linear das colunas originais."
      ]
    },
    {
      "cell_type": "code",
      "execution_count": 18,
      "metadata": {
        "id": "pTFTiazPbblA"
      },
      "outputs": [],
      "source": [
        "from pyspark.ml.feature import PCA"
      ]
    },
    {
      "cell_type": "code",
      "execution_count": 19,
      "metadata": {
        "id": "Eq01saQwmIAS"
      },
      "outputs": [],
      "source": [
        "pca = PCA(k=2, inputCol='scaled_features', outputCol='pca_features')\n",
        "model_pca = pca.fit(dados_scaler)\n",
        "dados_pca = model_pca.transform(dados_scaler)"
      ]
    },
    {
      "cell_type": "code",
      "execution_count": 20,
      "metadata": {
        "colab": {
          "base_uri": "https://localhost:8080/"
        },
        "id": "6XRLX6kJmbGt",
        "outputId": "54269e7d-96b0-40ca-df79-e4a9a2b9998d"
      },
      "outputs": [
        {
          "name": "stdout",
          "output_type": "stream",
          "text": [
            "+-----------------------------------------+\n",
            "|pca_features                             |\n",
            "+-----------------------------------------+\n",
            "|[-6.165125049533812,1.3380985269405694]  |\n",
            "|[-3.2529111812184865,-1.1179591836228857]|\n",
            "|[-1.0611769329629537,-1.6685040058694294]|\n",
            "|[-1.995811900783872,-1.7655796610847843] |\n",
            "|[-0.4181406070145923,-2.131040791141693] |\n",
            "+-----------------------------------------+\n",
            "only showing top 5 rows\n",
            "\n"
          ]
        }
      ],
      "source": [
        "dados_pca.select('pca_features').show(5, truncate=False)"
      ]
    },
    {
      "cell_type": "markdown",
      "metadata": {
        "id": "QuOx-BkW95FI"
      },
      "source": [
        "## Extra: Construindo um pipeline\n",
        "\n",
        "Vamos construir um [pipeline](https://spark.apache.org/docs/3.3.1/api/python/reference/api/pyspark.ml.Pipeline.html) para facilitar a aplicação das transformações nos dados. Podemos definir um pipeline como um conjunto de transformações aplicadas sequencialmente no conjunto de dados."
      ]
    },
    {
      "cell_type": "code",
      "execution_count": 21,
      "metadata": {
        "id": "RhbpXtnpfz9X"
      },
      "outputs": [],
      "source": [
        "from pyspark.ml import Pipeline"
      ]
    },
    {
      "cell_type": "markdown",
      "metadata": {
        "id": "ntC4-2idXO6Q"
      },
      "source": [
        "Para construir um pipeline, precisamos definir um conjunto de estágios, onde cada estágio é uma transformação. No nosso caso, os estágios serão:\n",
        "\n",
        "* `vector_assembler` - vetorização dos dados;\n",
        "* `standard_scaler` - padronização dos dados;\n",
        "* `pca` - redução de dimensionalidade."
      ]
    },
    {
      "cell_type": "code",
      "execution_count": 22,
      "metadata": {
        "id": "W5RFh2bBfz61"
      },
      "outputs": [],
      "source": [
        "pca_pipeline = Pipeline(stages=[vecAssembler, scaler, pca])"
      ]
    },
    {
      "cell_type": "code",
      "execution_count": 23,
      "metadata": {
        "id": "M9wNASLLfzyB"
      },
      "outputs": [],
      "source": [
        "pca_pipeline_model = pca_pipeline.fit(dados)"
      ]
    },
    {
      "cell_type": "code",
      "execution_count": 24,
      "metadata": {
        "id": "9eXWgXrMiN3l"
      },
      "outputs": [],
      "source": [
        "dados_pca = pca_pipeline_model.transform(dados)"
      ]
    },
    {
      "cell_type": "code",
      "execution_count": 25,
      "metadata": {
        "colab": {
          "base_uri": "https://localhost:8080/"
        },
        "id": "l21AK7GxjLze",
        "outputId": "54d615c5-ae8a-4722-b194-23b4664d6030"
      },
      "outputs": [
        {
          "name": "stdout",
          "output_type": "stream",
          "text": [
            "+--------------------+-----+---------+---------+-------+------+----+------------+----------+-----+--------+------------+----------+----------+--------+--------+------------------+-------------+------------------+--------+-------+----------+------------+-----------------+---------------+--------------------+--------------------+--------------------+\n",
            "|                  id|andar|area_util|banheiros|quartos|suites|vaga|      bairro|condominio| iptu|   valor|Zona Central|Zona Norte|Zona Oeste|Zona Sul|Academia|Animais permitidos|Churrasqueira|Condomínio fechado|Elevador|Piscina|Playground|Portaria 24h|Portão eletrônico|Salão de festas|            features|     scaled_features|        pca_features|\n",
            "+--------------------+-----+---------+---------+-------+------+----+------------+----------+-----+--------+------------+----------+----------+--------+--------+------------------+-------------+------------------+--------+-------+----------+------------+-----------------+---------------+--------------------+--------------------+--------------------+\n",
            "|00002dd9-cc74-480...|    2|       35|        1|      1|   0.0| 0.0|Santo Cristo|     100.0|100.0|245000.0|           1|         0|         0|       0|       1|                 1|            1|                 1|       1|      1|         1|           1|                1|              1|[2.0,35.0,1.0,1.0...|[0.13607726247524...|[-6.1651250495338...|\n",
            "|0009ca94-2b37-438...|    1|       84|        2|      2|   0.0| 1.0|      Tijuca|     770.0|105.0|474980.0|           0|         1|         0|       0|       0|                 0|            1|                 0|       1|      0|         1|           1|                0|              1|(23,[0,1,2,3,5,6,...|(23,[0,1,2,3,5,6,...|[-3.2529111812184...|\n",
            "|000e3d28-e3e5-411...|    0|       85|        2|      2|   0.0| 0.0|Santa Teresa|     460.0|661.0|290000.0|           0|         0|         0|       1|       0|                 1|            0|                 0|       1|      0|         0|           0|                0|              0|(23,[1,2,3,6,7,8,...|(23,[1,2,3,6,7,8,...|[-1.0611769329629...|\n",
            "|000fb707-6cad-496...|    0|       58|        1|      2|   0.0| 1.0|   Pechincha|     550.0|550.0|249000.0|           0|         0|         1|       0|       0|                 0|            0|                 0|       0|      1|         1|           0|                0|              0|(23,[1,2,3,5,6,7,...|(23,[1,2,3,5,6,7,...|[-1.9958119007838...|\n",
            "|001b6db0-e88d-4eb...|    0|       64|        2|      2|   1.0| 1.0|      Tijuca|     850.0|  0.0|530000.0|           0|         1|         0|       0|       0|                 0|            0|                 0|       0|      0|         0|           0|                0|              0|(23,[1,2,3,4,5,6,...|(23,[1,2,3,4,5,6,...|[-0.4181406070145...|\n",
            "+--------------------+-----+---------+---------+-------+------+----+------------+----------+-----+--------+------------+----------+----------+--------+--------+------------------+-------------+------------------+--------+-------+----------+------------+-----------------+---------------+--------------------+--------------------+--------------------+\n",
            "only showing top 5 rows\n",
            "\n"
          ]
        }
      ],
      "source": [
        "dados_pca.show(5)"
      ]
    },
    {
      "cell_type": "markdown",
      "metadata": {
        "id": "HxAnK8xWXO6S"
      },
      "source": [
        "Selecionando somente a coluna que é o resultado da redução de dimensionalidade, `pca_features`, que é o último estágio do pipeline."
      ]
    },
    {
      "cell_type": "code",
      "execution_count": 26,
      "metadata": {
        "colab": {
          "base_uri": "https://localhost:8080/"
        },
        "id": "7upOPq7Az36U",
        "outputId": "bddcb909-592e-4122-98ca-380bbff2e018"
      },
      "outputs": [
        {
          "name": "stdout",
          "output_type": "stream",
          "text": [
            "+-----------------------------------------+\n",
            "|pca_features                             |\n",
            "+-----------------------------------------+\n",
            "|[-6.165125049533812,1.3380985269405694]  |\n",
            "|[-3.2529111812184865,-1.1179591836228857]|\n",
            "|[-1.0611769329629537,-1.6685040058694294]|\n",
            "|[-1.995811900783872,-1.7655796610847843] |\n",
            "|[-0.4181406070145923,-2.131040791141693] |\n",
            "|[-6.9015238649802715,-6.262240376053037] |\n",
            "|[-0.7164221492881188,-1.4040232409557425]|\n",
            "|[-1.4856960209870214,-1.7808507073415798]|\n",
            "|[-6.0456283208921535,-7.824880763294744] |\n",
            "|[-6.199240571378114,0.312420922354934]   |\n",
            "|[-6.884681111573803,-1.050675104927925]  |\n",
            "|[-4.613470387277003,-4.014655897062348]  |\n",
            "|[-4.476327061805593,-3.8649262122150287] |\n",
            "|[-0.9935595784851534,-2.9244548608453225]|\n",
            "|[-3.16451925334317,-2.145186138172189]   |\n",
            "|[-3.546059940548585,-4.655748957792984]  |\n",
            "|[-7.507064348067576,-5.873363966077033]  |\n",
            "|[-0.65020079746698,-0.44347741220645925] |\n",
            "|[-0.12715321773623325,-1.19611485883027] |\n",
            "|[-2.849363391484401,-1.0413877168058734] |\n",
            "+-----------------------------------------+\n",
            "only showing top 20 rows\n",
            "\n"
          ]
        }
      ],
      "source": [
        "dados_pca.select('pca_features').show(truncate=False)"
      ]
    },
    {
      "cell_type": "markdown",
      "metadata": {
        "id": "KGuWyv7u9--d"
      },
      "source": [
        "## Criando nossos cluster com KMeans"
      ]
    },
    {
      "cell_type": "markdown",
      "metadata": {
        "id": "W8uIjyi2XO6S"
      },
      "source": [
        "Cluster é um agrupamento de dados que possuem características semelhantes. O objetivo do [KMeans](https://spark.apache.org/docs/3.3.1/api/python/reference/api/pyspark.ml.clustering.KMeans.html) é encontrar grupos de dados que possuem características semelhantes e coloca-los em um mesmo cluster. \n",
        "\n",
        "O KMeans é um algoritmo de aprendizado não supervisionado, ou seja, não é necessário informar a variável alvo para o algoritmo, por essa razão deixamos a coluna `valor` em nosso conjunto de dados. "
      ]
    },
    {
      "cell_type": "code",
      "execution_count": 27,
      "metadata": {
        "id": "FGFWCuvF2uxn"
      },
      "outputs": [],
      "source": [
        "from pyspark.ml.clustering import KMeans"
      ]
    },
    {
      "cell_type": "markdown",
      "metadata": {
        "id": "dK23HHQjXO6T"
      },
      "source": [
        "O SEED é ser usado para gerar um numero pseudoaleatório. Esse parâmetro é de interesse para nós porque vamos poder reproduzir os nossos resultados reprodutíveis em todas as execuções."
      ]
    },
    {
      "cell_type": "code",
      "execution_count": 28,
      "metadata": {
        "id": "d6OZ72UghpiM"
      },
      "outputs": [],
      "source": [
        "SEED = 1224"
      ]
    },
    {
      "cell_type": "markdown",
      "metadata": {
        "id": "6uWPj57QXO6T"
      },
      "source": [
        "Utilizaremos os seguintes parâmetros:\n",
        "\n",
        "* `featuresCol` - coluna que contém os dados que serão utilizados para a construção dos clusters;\n",
        "\n",
        "* `predictionCol` - coluna que contém o cluster que cada dado pertence;\n",
        "\n",
        "* `k` - número de clusters que serão criados;\n",
        "\n",
        "* `seed` - número usado para gerar números pseudoaleatórios."
      ]
    },
    {
      "cell_type": "code",
      "execution_count": 29,
      "metadata": {
        "id": "6jJwz6T52krI"
      },
      "outputs": [],
      "source": [
        "kmeans = KMeans(featuresCol='pca_features', predictionCol='cluster_pca', k=5, seed=SEED)"
      ]
    },
    {
      "cell_type": "code",
      "execution_count": 30,
      "metadata": {
        "id": "tzXKllyc2JOL"
      },
      "outputs": [],
      "source": [
        "model_kmeans = kmeans.fit(dados_pca)"
      ]
    },
    {
      "cell_type": "code",
      "execution_count": 31,
      "metadata": {
        "id": "Qf0cK0qx2sJl"
      },
      "outputs": [],
      "source": [
        "predictions_kmeans = model_kmeans.transform(dados_pca)"
      ]
    },
    {
      "cell_type": "code",
      "execution_count": 32,
      "metadata": {
        "colab": {
          "base_uri": "https://localhost:8080/"
        },
        "id": "LbE2slls2zEN",
        "outputId": "93d0c6fc-1871-4635-a08f-7b324c7150aa"
      },
      "outputs": [
        {
          "name": "stdout",
          "output_type": "stream",
          "text": [
            "+-----------------------------------------+-----------+\n",
            "|pca_features                             |cluster_pca|\n",
            "+-----------------------------------------+-----------+\n",
            "|[-6.165125049533812,1.3380985269405694]  |4          |\n",
            "|[-3.2529111812184865,-1.1179591836228857]|1          |\n",
            "|[-1.0611769329629537,-1.6685040058694294]|1          |\n",
            "|[-1.995811900783872,-1.7655796610847843] |1          |\n",
            "|[-0.4181406070145923,-2.131040791141693] |1          |\n",
            "+-----------------------------------------+-----------+\n",
            "only showing top 5 rows\n",
            "\n"
          ]
        }
      ],
      "source": [
        "predictions_kmeans.select('pca_features', 'cluster_pca').show(5, truncate=False)"
      ]
    },
    {
      "cell_type": "markdown",
      "metadata": {
        "id": "82b4c_ZiXO6U"
      },
      "source": [
        "## Extra: Avaliando os clusters"
      ]
    },
    {
      "cell_type": "markdown",
      "metadata": {
        "id": "G0m18xd1XO6U"
      },
      "source": [
        "Vamos avaliar os clusters de acordo com as informações dos imóveis, como por exemplo: quantidade banheiros, quartos e tamanho do imóvel."
      ]
    },
    {
      "cell_type": "code",
      "execution_count": 33,
      "metadata": {
        "colab": {
          "base_uri": "https://localhost:8080/"
        },
        "id": "Mla1XY1BXO6U",
        "outputId": "05b3037f-1791-4fea-a4f8-0fc38c35ea8d"
      },
      "outputs": [
        {
          "name": "stdout",
          "output_type": "stream",
          "text": [
            "+-----------+----------+------------------+------------------+-------------+-----------+---------------+------------+------------------+------------------+\n",
            "|cluster_pca|quantidade|       valor_medio|        area_media|quartos_medio|vagas_medio|banheiros_medio|suites_medio|  condominio_medio|        iptu_medio|\n",
            "+-----------+----------+------------------+------------------+-------------+-----------+---------------+------------+------------------+------------------+\n",
            "|          0|      8400| 1824196.228452381| 160.0922619047619|          3.0|        2.0|            3.0|         2.0| 8416.800952380952| 7670.802738095238|\n",
            "|          1|     21783| 656653.0182711289| 73.85911031538356|          2.0|        1.0|            2.0|         0.0|1809.1690768030114|1358.0880962218243|\n",
            "|          2|      3485|5235330.2364418935|359.43185078909613|          4.0|        4.0|            6.0|         4.0|19961.516786226686| 19351.18048780488|\n",
            "|          3|     13010|1929868.2346656418|158.96879323597233|          3.0|        2.0|            3.0|         1.0| 5365.795465026902| 9401.933512682552|\n",
            "|          4|     19873| 662561.8031500025| 75.20746741810497|          2.0|        1.0|            2.0|         1.0|  3023.14728526141|1993.2421375735923|\n",
            "+-----------+----------+------------------+------------------+-------------+-----------+---------------+------------+------------------+------------------+\n",
            "\n"
          ]
        }
      ],
      "source": [
        "dados_pca\\\n",
        "    .join(predictions_kmeans.select('id', 'cluster_pca'), on='id')\\\n",
        "    .groupBy('cluster_pca')\\\n",
        "    .agg(\n",
        "        f.count('id').alias('quantidade'),\n",
        "        f.mean('valor').alias('valor_medio'),\n",
        "        f.mean('area_util').alias('area_media'),\n",
        "        f.round(f.mean('quartos'),0).alias('quartos_medio'),\n",
        "        f.round(f.mean('vaga'), 0).alias('vagas_medio'),\n",
        "        f.round(f.mean('banheiros'), 0).alias('banheiros_medio'),\n",
        "        f.round(f.mean('suites'), 0).alias('suites_medio'),\n",
        "        f.mean('condominio').alias('condominio_medio'),\n",
        "        f.mean('iptu').alias('iptu_medio'),\n",
        "    )\\\n",
        "    .orderBy('cluster_pca')\\\n",
        "    .show()"
      ]
    },
    {
      "cell_type": "markdown",
      "metadata": {
        "id": "3VPOQbNC-IRX"
      },
      "source": [
        "## Extra: Encontrar o numero ideal de componentes"
      ]
    },
    {
      "cell_type": "markdown",
      "metadata": {
        "id": "PxV0K1eQXO6U"
      },
      "source": [
        "Para encontrar o número ideal de componentes principais que nosso dados devem possuir após a tranformação com o PCA, vamos utilizar o método `explainedVariance` que retorna a variância explicada por cada componente principal. "
      ]
    },
    {
      "cell_type": "markdown",
      "metadata": {
        "id": "GyX3vtbSj41W"
      },
      "source": []
    },
    {
      "cell_type": "code",
      "execution_count": 34,
      "metadata": {
        "colab": {
          "base_uri": "https://localhost:8080/"
        },
        "id": "0RVyL2j4j5X1",
        "outputId": "e7b411d1-ae7f-4c7d-bfeb-66fe35d45f4c"
      },
      "outputs": [
        {
          "data": {
            "text/plain": [
              "DenseVector([0.2655, 0.1721])"
            ]
          },
          "execution_count": 34,
          "metadata": {},
          "output_type": "execute_result"
        }
      ],
      "source": [
        "pca_pipeline_model.stages[2].explainedVariance"
      ]
    },
    {
      "cell_type": "code",
      "execution_count": 35,
      "metadata": {
        "colab": {
          "base_uri": "https://localhost:8080/"
        },
        "id": "1Vtgc9DnXO6U",
        "outputId": "c03f1edc-33f8-4ab8-f11f-a849fc050f3b"
      },
      "outputs": [
        {
          "data": {
            "text/plain": [
              "['andar',\n",
              " 'area_util',\n",
              " 'banheiros',\n",
              " 'quartos',\n",
              " 'suites',\n",
              " 'vaga',\n",
              " 'condominio',\n",
              " 'iptu',\n",
              " 'valor',\n",
              " 'Zona Central',\n",
              " 'Zona Norte',\n",
              " 'Zona Oeste',\n",
              " 'Zona Sul',\n",
              " 'Academia',\n",
              " 'Animais permitidos',\n",
              " 'Churrasqueira',\n",
              " 'Condomínio fechado',\n",
              " 'Elevador',\n",
              " 'Piscina',\n",
              " 'Playground',\n",
              " 'Portaria 24h',\n",
              " 'Portão eletrônico',\n",
              " 'Salão de festas']"
            ]
          },
          "execution_count": 35,
          "metadata": {},
          "output_type": "execute_result"
        }
      ],
      "source": [
        "# Colunas do conjunto de dados: \n",
        "X"
      ]
    },
    {
      "cell_type": "code",
      "execution_count": 36,
      "metadata": {
        "colab": {
          "base_uri": "https://localhost:8080/"
        },
        "id": "gT4xN4c7pKe8",
        "outputId": "25028e27-b9a3-4089-8195-7f2f789bafb5"
      },
      "outputs": [
        {
          "data": {
            "text/plain": [
              "23"
            ]
          },
          "execution_count": 36,
          "metadata": {},
          "output_type": "execute_result"
        }
      ],
      "source": [
        "# Quantidade de colunas existentes\n",
        "k = len(X)\n",
        "k"
      ]
    },
    {
      "cell_type": "code",
      "execution_count": 37,
      "metadata": {
        "colab": {
          "base_uri": "https://localhost:8080/"
        },
        "id": "wDC8gH_MXO6V",
        "outputId": "db60dffb-e4f7-42f6-dc15-08540e318cfa"
      },
      "outputs": [
        {
          "name": "stdout",
          "output_type": "stream",
          "text": [
            "+-----------------------------------------+\n",
            "|pca_features                             |\n",
            "+-----------------------------------------+\n",
            "|[-6.165125049533812,1.3380985269405694]  |\n",
            "|[-3.2529111812184865,-1.1179591836228857]|\n",
            "|[-1.0611769329629537,-1.6685040058694294]|\n",
            "|[-1.995811900783872,-1.7655796610847843] |\n",
            "|[-0.4181406070145923,-2.131040791141693] |\n",
            "+-----------------------------------------+\n",
            "only showing top 5 rows\n",
            "\n"
          ]
        }
      ],
      "source": [
        "dados_pca.select(\"pca_features\").show(5, truncate=False)"
      ]
    },
    {
      "cell_type": "code",
      "execution_count": 38,
      "metadata": {
        "id": "lSNfivXkSFp3"
      },
      "outputs": [],
      "source": [
        "pca = PCA(k=k, inputCol='scaled_features', outputCol='pca_features')\n",
        "model_pca = pca.fit(dados_pca.drop('pca_features'))\n",
        "dados_imoveis_pca = model_pca.transform(dados_pca.drop('pca_features'))"
      ]
    },
    {
      "cell_type": "code",
      "execution_count": 39,
      "metadata": {
        "colab": {
          "base_uri": "https://localhost:8080/"
        },
        "id": "22xErwxvXO6V",
        "outputId": "a9ba2d47-e894-4fba-e82c-9d3311e48fa1"
      },
      "outputs": [
        {
          "name": "stdout",
          "output_type": "stream",
          "text": [
            "+-------------------------------------------------------------------------------------------------------------------------------------------------------------------------------------------------------------------------------------------------------------------------------------------------------------------------------------------------------------------------------------------------------------------------------------------------------------------------------+\n",
            "|pca_features                                                                                                                                                                                                                                                                                                                                                                                                                                                                   |\n",
            "+-------------------------------------------------------------------------------------------------------------------------------------------------------------------------------------------------------------------------------------------------------------------------------------------------------------------------------------------------------------------------------------------------------------------------------------------------------------------------------+\n",
            "|[-6.165125049533812,1.3380985269405696,-1.7052299823820158,-0.5338289630560162,0.08903815478581815,-0.313439618012995,-5.880683742691799,-4.346312930651127,-0.14234336921668,-0.3627134563659656,0.0853458882253526,1.1262234172183834,-0.794130374750197,-1.0719651521508402,-0.057470662032711006,-0.2278081301395667,-0.13916953835523294,0.029914109266316213,-0.45943592511156134,-0.23340976223813753,0.09079393549120424,0.23673392418005793,-1.2628719820701497]      |\n",
            "|[-3.2529111812184865,-1.1179591836228857,-0.2923895841501507,3.195538820020636,0.1528630698219846,1.302893049066197,-0.4369399980981652,0.052052994672848754,-0.06666040498287298,-0.1407137678274269,-0.75539689154887,1.6278794244848809,-1.2695587089668845,-0.29698966027531537,0.5454147917183755,-1.3908083285759116,-0.5488404327703461,0.5270567409856215,-0.37238659121396506,0.8152120681542917,-1.2354391092883779,0.2803997824367033,-1.2628719820689471]          |\n",
            "|[-1.0611769329629537,-1.6685040058694294,-2.30759482783911,0.10553124125788461,-0.06914386452866851,0.7187181899556143,0.08236222790424311,0.14780594823025667,-0.08418105529262501,-0.6935314481389391,-1.45704493552419,1.4316765886942289,-0.8588129833384538,-1.1378086388089417,-1.5976012843897374,0.3786591392351585,0.13556311504013074,-0.011784886724516882,-0.4838552887016049,-0.14258047023296688,0.008313492763986192,-0.019469432958506,-1.2628719820696186]    |\n",
            "|[-1.995811900783872,-1.7655796610847843,1.3571962498672347,-0.16336519381168974,-0.021305227846957334,0.12808044918214828,0.09866659845339423,0.14549465988186752,-0.04457490518983416,0.0161982170060367,0.19499452965757386,1.1326599972683233,-1.0584080245172358,-0.5832977674926955,0.24767949145868273,-0.11032186046087003,0.39433544020733213,-1.5325339512916443,-0.44084223320553684,-1.455362285579007,-0.33208690865325646,0.08855216822582515,-1.2628719820694305]|\n",
            "|[-0.4181406070145923,-2.131040791141693,-0.1026409926497008,2.809916415039177,-0.042956284698168964,-0.09449068767336455,-0.17917750563215193,-0.24397011993714446,-0.06870981755389481,-0.470230656517552,0.0973812464963555,0.5108941966805118,0.01330532365425778,-0.9241465991073995,0.19286043033411443,0.2267177141175753,0.2027727532514128,-0.076324024870844,0.021095893034327136,-0.06317864130858653,-0.11798670770303243,0.28955853769716766,-1.2628719820688454]  |\n",
            "+-------------------------------------------------------------------------------------------------------------------------------------------------------------------------------------------------------------------------------------------------------------------------------------------------------------------------------------------------------------------------------------------------------------------------------------------------------------------------------+\n",
            "only showing top 5 rows\n",
            "\n"
          ]
        }
      ],
      "source": [
        "dados_imoveis_pca.select(\"pca_features\").show(5, truncate=False)"
      ]
    },
    {
      "cell_type": "markdown",
      "metadata": {
        "id": "q3L8nRVTXO6V"
      },
      "source": [
        "Somando a variância explicada de cada componente, percebemos que as 23 colunas explicam 100% dos dados."
      ]
    },
    {
      "cell_type": "code",
      "execution_count": 40,
      "metadata": {
        "colab": {
          "base_uri": "https://localhost:8080/"
        },
        "id": "L-IbxF5pz-HZ",
        "outputId": "65dc1e94-d0d5-41ef-9dd0-042f34e8add5"
      },
      "outputs": [
        {
          "data": {
            "text/plain": [
              "100.0"
            ]
          },
          "execution_count": 40,
          "metadata": {},
          "output_type": "execute_result"
        }
      ],
      "source": [
        "sum(model_pca.explainedVariance) * 100"
      ]
    },
    {
      "cell_type": "code",
      "execution_count": 41,
      "metadata": {
        "colab": {
          "base_uri": "https://localhost:8080/"
        },
        "id": "MTyE9J6kXO6W",
        "outputId": "7ff5ecd3-1614-471c-d4ce-d2e83c81e9db"
      },
      "outputs": [
        {
          "data": {
            "text/plain": [
              "array([2.65457494e-01, 1.72067301e-01, 9.12744818e-02, 5.43737219e-02,\n",
              "       5.22298117e-02, 4.66203459e-02, 4.42659008e-02, 4.16021312e-02,\n",
              "       3.46818214e-02, 2.72266440e-02, 2.43947461e-02, 2.01043117e-02,\n",
              "       1.92103152e-02, 1.76122901e-02, 1.55070658e-02, 1.38947785e-02,\n",
              "       1.20074124e-02, 1.13351577e-02, 1.01096341e-02, 9.23012235e-03,\n",
              "       8.89844650e-03, 7.89606599e-03, 4.66992155e-15])"
            ]
          },
          "execution_count": 41,
          "metadata": {},
          "output_type": "execute_result"
        }
      ],
      "source": [
        "model_pca.explainedVariance[:]"
      ]
    },
    {
      "cell_type": "markdown",
      "metadata": {
        "id": "3AxZvujBXO6W"
      },
      "source": [
        "Vamos utilizar o método [cumsum](https://numpy.org/doc/stable/reference/generated/numpy.cumsum.html) para realizar uma soma cumulativa dos valores de variância cada componente principal."
      ]
    },
    {
      "cell_type": "code",
      "execution_count": 42,
      "metadata": {
        "id": "dgUCdoyuXI0i"
      },
      "outputs": [],
      "source": [
        "import numpy as np"
      ]
    },
    {
      "cell_type": "code",
      "execution_count": 43,
      "metadata": {
        "colab": {
          "base_uri": "https://localhost:8080/"
        },
        "id": "HgSoyDDRXO6W",
        "outputId": "be2c0eb6-30c5-4f33-90d7-45c8a87bec95"
      },
      "outputs": [
        {
          "data": {
            "text/plain": [
              "array([0.26545749, 0.43752479, 0.52879928, 0.583173  , 0.63540281,\n",
              "       0.68202316, 0.72628906, 0.76789119, 0.80257301, 0.82979965,\n",
              "       0.8541944 , 0.87429871, 0.89350903, 0.91112132, 0.92662838,\n",
              "       0.94052316, 0.95253057, 0.96386573, 0.97397537, 0.98320549,\n",
              "       0.99210393, 1.        , 1.        ])"
            ]
          },
          "execution_count": 43,
          "metadata": {},
          "output_type": "execute_result"
        }
      ],
      "source": [
        "lista_valores = np.cumsum(model_pca.explainedVariance[:])\n",
        "lista_valores"
      ]
    },
    {
      "cell_type": "markdown",
      "metadata": {
        "id": "cLi8UQmZXO6W"
      },
      "source": [
        "Queremos que nossos componentes expliquem até 70% dos dados:"
      ]
    },
    {
      "cell_type": "code",
      "execution_count": 44,
      "metadata": {
        "colab": {
          "base_uri": "https://localhost:8080/"
        },
        "id": "wWtq2SCAy9YZ",
        "outputId": "d2d36fc4-012d-47ff-e500-c2456198b7af"
      },
      "outputs": [
        {
          "data": {
            "text/plain": [
              "6"
            ]
          },
          "execution_count": 44,
          "metadata": {},
          "output_type": "execute_result"
        }
      ],
      "source": [
        "k = sum(lista_valores <= 0.7)\n",
        "k"
      ]
    },
    {
      "cell_type": "markdown",
      "metadata": {
        "id": "mmkwmNbEXO6W"
      },
      "source": [
        "Logo faz-se nescessário pelo menos 6 componentes principais para obtermos uma variância de 70% dos dados."
      ]
    },
    {
      "cell_type": "code",
      "execution_count": 45,
      "metadata": {
        "id": "UNELudWYza-0"
      },
      "outputs": [],
      "source": [
        "pca = PCA(k=k, inputCol='scaled_features', outputCol='pca_features')\n",
        "model_pca = pca.fit(dados_pca.drop('pca_features'))\n",
        "dados_imoveis_pca_final = model_pca.transform(dados_pca.drop('pca_features'))"
      ]
    },
    {
      "cell_type": "code",
      "execution_count": 46,
      "metadata": {
        "colab": {
          "base_uri": "https://localhost:8080/"
        },
        "id": "LcTDYu2vzaz3",
        "outputId": "1498a7da-618f-4e7d-fe9d-0077fa23057f"
      },
      "outputs": [
        {
          "name": "stdout",
          "output_type": "stream",
          "text": [
            "+--------------------------------------------------------------------------------------------------------------------------+\n",
            "|pca_features                                                                                                              |\n",
            "+--------------------------------------------------------------------------------------------------------------------------+\n",
            "|[-6.165125049533812,1.3380985269405696,-1.7052299823820158,-0.5338289630560162,0.08903815478581815,-0.3134396180129953]   |\n",
            "|[-3.2529111812184865,-1.1179591836228857,-0.2923895841501507,3.195538820020636,0.1528630698219846,1.302893049066197]      |\n",
            "|[-1.0611769329629537,-1.6685040058694294,-2.30759482783911,0.10553124125788461,-0.06914386452866851,0.7187181899556143]   |\n",
            "|[-1.995811900783872,-1.7655796610847843,1.3571962498672347,-0.16336519381168974,-0.021305227846957334,0.12808044918214828]|\n",
            "|[-0.4181406070145923,-2.131040791141693,-0.1026409926497008,2.809916415039177,-0.042956284698168964,-0.09449068767336455] |\n",
            "+--------------------------------------------------------------------------------------------------------------------------+\n",
            "only showing top 5 rows\n",
            "\n"
          ]
        }
      ],
      "source": [
        "dados_imoveis_pca_final.select('pca_features').show(truncate=False, n=5)"
      ]
    },
    {
      "cell_type": "code",
      "execution_count": 47,
      "metadata": {
        "colab": {
          "base_uri": "https://localhost:8080/"
        },
        "id": "ZaRCzx8VzaUC",
        "outputId": "d0bdd229-73fd-43f2-b5cd-06942022688c"
      },
      "outputs": [
        {
          "data": {
            "text/plain": [
              "68.2023156221161"
            ]
          },
          "execution_count": 47,
          "metadata": {},
          "output_type": "execute_result"
        }
      ],
      "source": [
        "sum(model_pca.explainedVariance) *100"
      ]
    },
    {
      "cell_type": "markdown",
      "metadata": {
        "id": "TqcWRz64XO6X"
      },
      "source": [
        "Rodando novamente o pipeline para obtermos os dados com a quantidade de explicaçao requerida:"
      ]
    },
    {
      "cell_type": "code",
      "execution_count": 48,
      "metadata": {
        "id": "JcC77zNlpt3C"
      },
      "outputs": [],
      "source": [
        "pca_pipeline = Pipeline(stages=[vecAssembler, scaler, pca])"
      ]
    },
    {
      "cell_type": "code",
      "execution_count": 49,
      "metadata": {
        "id": "m9cfEZFdfDlN"
      },
      "outputs": [],
      "source": [
        "model_pca_pipeline = pca_pipeline.fit(dados)"
      ]
    },
    {
      "cell_type": "code",
      "execution_count": 50,
      "metadata": {
        "id": "6BGkk0J1fDlO"
      },
      "outputs": [],
      "source": [
        "projection = model_pca_pipeline.transform(dados)"
      ]
    },
    {
      "cell_type": "code",
      "execution_count": 51,
      "metadata": {
        "colab": {
          "base_uri": "https://localhost:8080/"
        },
        "id": "SXQVWYzLfDlO",
        "outputId": "d7e0fe61-0d2a-4d36-ad5a-6ea9510f2d33"
      },
      "outputs": [
        {
          "name": "stdout",
          "output_type": "stream",
          "text": [
            "+--------------------------------------------------------------------------------------------------------------------------+\n",
            "|pca_features                                                                                                              |\n",
            "+--------------------------------------------------------------------------------------------------------------------------+\n",
            "|[-6.165125049533812,1.3380985269405696,-1.7052299823820158,-0.5338289630560162,0.08903815478581815,-0.3134396180129953]   |\n",
            "|[-3.2529111812184865,-1.1179591836228857,-0.2923895841501507,3.195538820020636,0.1528630698219846,1.302893049066197]      |\n",
            "|[-1.0611769329629537,-1.6685040058694294,-2.30759482783911,0.10553124125788461,-0.06914386452866851,0.7187181899556143]   |\n",
            "|[-1.995811900783872,-1.7655796610847843,1.3571962498672347,-0.16336519381168974,-0.021305227846957334,0.12808044918214828]|\n",
            "|[-0.4181406070145923,-2.131040791141693,-0.1026409926497008,2.809916415039177,-0.042956284698168964,-0.09449068767336455] |\n",
            "+--------------------------------------------------------------------------------------------------------------------------+\n",
            "only showing top 5 rows\n",
            "\n"
          ]
        }
      ],
      "source": [
        "projection.select('pca_features').show(truncate=False, n=5)"
      ]
    },
    {
      "cell_type": "markdown",
      "metadata": {
        "id": "f2uA0iholaub"
      },
      "source": [
        "**Silhouette Coefficient:**\n",
        "\n",
        "Silhoutte Score é uma métrica usada para calculara o quão bom está a clusterização utilizada. Esse valor varia de -1 a 1.\n",
        "\n",
        "1: Significa que os clusters estão bem separados uns dos outros.\n",
        "\n",
        "0: Significa que os clusters são indiferentes, ou podemos dizer que a distância entre os clusters não é significativa.\n",
        "\n",
        "-1: Significa que os clusters são atribuídos da maneira errada."
      ]
    },
    {
      "cell_type": "markdown",
      "metadata": {
        "id": "hWrTM-TiXO6Y"
      },
      "source": [
        "Vamos aumentar a quantidade de cluster para 50, pois temos uma grande quantidade de dados e queremos que os clusters sejam bem definidos."
      ]
    },
    {
      "cell_type": "code",
      "execution_count": 52,
      "metadata": {
        "id": "kS391IPtkDwi"
      },
      "outputs": [],
      "source": [
        "from pyspark.ml.clustering import KMeans\n",
        "from pyspark.ml.evaluation import ClusteringEvaluator\n",
        "silhouette_score=[]\n",
        "\n",
        "evaluator = ClusteringEvaluator(predictionCol='cluster_pca', featuresCol='pca_features', \\\n",
        "                                metricName='silhouette', distanceMeasure='squaredEuclidean')\n",
        "silhouette_score = {}\n",
        "\n",
        "for i in range(2,51):\n",
        "    \n",
        "    KMeans_algo = KMeans(k=i, featuresCol='pca_features', predictionCol='cluster_pca', seed=SEED)\n",
        "    \n",
        "    KMeans_fit = KMeans_algo.fit(projection)\n",
        "    \n",
        "    output = KMeans_fit.transform(projection)\n",
        "    \n",
        "    score = evaluator.evaluate(output)\n",
        "    silhouette_score[i] = score\n"
      ]
    },
    {
      "cell_type": "code",
      "execution_count": 53,
      "metadata": {
        "colab": {
          "base_uri": "https://localhost:8080/"
        },
        "id": "HirxW44in-QU",
        "outputId": "effe0b81-96ac-4ea0-baad-968d844d6bb9"
      },
      "outputs": [
        {
          "data": {
            "text/plain": [
              "{2: 0.48064274154867875,\n",
              " 3: 0.38408547735277593,\n",
              " 4: 0.3404444639951651,\n",
              " 5: 0.36198734513292447,\n",
              " 6: 0.43109156759111156,\n",
              " 7: 0.46629810296055413,\n",
              " 8: 0.40653120074621685,\n",
              " 9: 0.441853181044332,\n",
              " 10: 0.43115815888565606,\n",
              " 11: 0.4961329148469282,\n",
              " 12: 0.5028371915407917,\n",
              " 13: 0.5216100850200086,\n",
              " 14: 0.5127861190288592,\n",
              " 15: 0.5191873637325003,\n",
              " 16: 0.5381475918926103,\n",
              " 17: 0.497670485554723,\n",
              " 18: 0.5291285729592509,\n",
              " 19: 0.5120490065648051,\n",
              " 20: 0.48420086559535264,\n",
              " 21: 0.5090507237145131,\n",
              " 22: 0.5166667706677477,\n",
              " 23: 0.5170865930468537,\n",
              " 24: 0.5094251880412523,\n",
              " 25: 0.5402510750846394,\n",
              " 26: 0.4885579990502713,\n",
              " 27: 0.4901719715314668,\n",
              " 28: 0.5182027354701573,\n",
              " 29: 0.4874454363535331,\n",
              " 30: 0.4910928223928047,\n",
              " 31: 0.525005220002699,\n",
              " 32: 0.508068197715153,\n",
              " 33: 0.5156595873979353,\n",
              " 34: 0.5125935830656666,\n",
              " 35: 0.5048023519285596,\n",
              " 36: 0.4969647676977379,\n",
              " 37: 0.5126982922151361,\n",
              " 38: 0.4936473618330673,\n",
              " 39: 0.4773135604813528,\n",
              " 40: 0.5044276458992648,\n",
              " 41: 0.486012690605044,\n",
              " 42: 0.4917934643465457,\n",
              " 43: 0.4786481259499414,\n",
              " 44: 0.47196082174479587,\n",
              " 45: 0.4966098749967198,\n",
              " 46: 0.4778039002157663,\n",
              " 47: 0.49405920098910466,\n",
              " 48: 0.4657109673287946,\n",
              " 49: 0.49740611391195455,\n",
              " 50: 0.4803701243093745}"
            ]
          },
          "execution_count": 53,
          "metadata": {},
          "output_type": "execute_result"
        }
      ],
      "source": [
        "silhouette_score"
      ]
    },
    {
      "cell_type": "code",
      "execution_count": 54,
      "metadata": {
        "colab": {
          "base_uri": "https://localhost:8080/"
        },
        "id": "r4keSAM3oG8G",
        "outputId": "4cf695cc-d428-453b-a844-258c99d1f4b2"
      },
      "outputs": [
        {
          "data": {
            "text/plain": [
              "25"
            ]
          },
          "execution_count": 54,
          "metadata": {},
          "output_type": "execute_result"
        }
      ],
      "source": [
        "k_best = [key for key, value in silhouette_score.items() if value == max(silhouette_score.values())]\n",
        "k_best[0]"
      ]
    },
    {
      "cell_type": "code",
      "execution_count": 55,
      "metadata": {
        "id": "-HnUnCJoIqpU"
      },
      "outputs": [],
      "source": [
        "kmeans = KMeans(k=k_best[0], featuresCol='pca_features', predictionCol='cluster_pca', seed=SEED)"
      ]
    },
    {
      "cell_type": "code",
      "execution_count": 56,
      "metadata": {
        "id": "v_mJbYVWItCk"
      },
      "outputs": [],
      "source": [
        "modelo_kmeans = kmeans.fit(projection)"
      ]
    },
    {
      "cell_type": "code",
      "execution_count": 57,
      "metadata": {
        "id": "RPEbrrksSzQH"
      },
      "outputs": [],
      "source": [
        "projetion_kmeans = modelo_kmeans.transform(projection)"
      ]
    },
    {
      "cell_type": "code",
      "execution_count": 58,
      "metadata": {
        "colab": {
          "base_uri": "https://localhost:8080/"
        },
        "id": "hPEum8u2S_Ny",
        "outputId": "bbd3c534-f1ed-4283-e66c-8991e68d077d"
      },
      "outputs": [
        {
          "name": "stdout",
          "output_type": "stream",
          "text": [
            "+---------------------------------------------------------------------------------------------------------------------------+-----------+------------------------------------+\n",
            "|pca_features                                                                                                               |cluster_pca|id                                  |\n",
            "+---------------------------------------------------------------------------------------------------------------------------+-----------+------------------------------------+\n",
            "|[-6.165125049533812,1.3380985269405696,-1.7052299823820158,-0.5338289630560162,0.08903815478581815,-0.3134396180129953]    |18         |00002dd9-cc74-4809-b5a5-850adf0e7526|\n",
            "|[-3.2529111812184865,-1.1179591836228857,-0.2923895841501507,3.195538820020636,0.1528630698219846,1.302893049066197]       |22         |0009ca94-2b37-4381-b8b8-773ce0f92444|\n",
            "|[-1.0611769329629537,-1.6685040058694294,-2.30759482783911,0.10553124125788461,-0.06914386452866851,0.7187181899556143]    |15         |000e3d28-e3e5-4110-b488-69154931140e|\n",
            "|[-1.995811900783872,-1.7655796610847843,1.3571962498672347,-0.16336519381168974,-0.021305227846957334,0.12808044918214828] |1          |000fb707-6cad-496d-8cb7-d8046cb5ef37|\n",
            "|[-0.4181406070145923,-2.131040791141693,-0.1026409926497008,2.809916415039177,-0.042956284698168964,-0.09449068767336455]  |4          |001b6db0-e88d-4eba-84e5-0ef94b091a64|\n",
            "|[-6.9015238649802715,-6.262240376053038,0.16910177737318188,0.9779688500381024,-0.137360477999322,0.8070938605611206]      |19         |002db67e-52cc-4807-ad36-7fc809fb90c2|\n",
            "|[-0.7164221492881188,-1.4040232409557425,-0.5880227755977427,2.8308875117797396,0.013520135298654659,0.28321813330894896]  |4          |002dc4e0-f1a5-4add-9c1c-3f43904645da|\n",
            "|[-1.4856960209870214,-1.7808507073415798,-1.2578464949084176,3.019147069955898,-0.1230350650797674,-0.4086526496917688]    |4          |0030dd84-f657-41f3-8b86-0f2a72e0fb55|\n",
            "|[-6.0456283208921535,-7.824880763294744,0.8818715068911896,0.8870883633126033,-0.11156730428617793,1.1534985495745893]     |19         |003213bb-ec21-4ad9-b918-3d51f6300a0c|\n",
            "|[-6.199240571378114,0.3124209223549341,-1.2536547599086167,2.8267834930573326,0.06487910654048239,0.8407164846741647]      |5          |0032884c-aa5f-4558-b9eb-1d37892e466f|\n",
            "|[-6.884681111573802,-1.050675104927925,-0.7150385451991546,0.14081256728031682,-0.12293880480695774,-0.012785235241512927] |18         |00348cd1-923a-4dbd-b113-b31c7b877bec|\n",
            "|[-4.613470387277003,-4.014655897062348,1.3861151450856486,0.25794041485945685,-0.06264532056065349,0.3151835602761643]     |9          |0034df72-124a-4383-a89f-a019850a2ba0|\n",
            "|[-4.476327061805593,-3.8649262122150287,1.9543162471144324,0.3920283672793603,0.10537138955480366,1.245088515992784]       |23         |0036114a-4a0f-4926-ad98-864f4474fb22|\n",
            "|[-0.9935595784851534,-2.9244548608453225,0.5955403058697635,0.04903265999569473,-0.21477729308072419,-0.8898160995676627]  |21         |00370d62-f774-405f-9412-c50cde27a177|\n",
            "|[-3.16451925334317,-2.145186138172188,-4.134482451280468,0.332366037558096,-0.3340019679627175,-0.7316863604413174]        |3          |00396d9d-2d0e-4b54-b3a3-58aec00459b6|\n",
            "|[-3.546059940548585,-4.6557489577929845,-5.0478959419256455,0.5981869579153204,-0.3431190572550165,-0.6805477041334793]    |10         |003cb63c-a666-458a-b605-13616ae32c78|\n",
            "|[-7.507064348067576,-5.873363966077033,-0.4632190292126165,0.9640748873463345,-0.23757586245988377,0.4253795999856763]     |0          |0040f5a7-6c6a-40ed-94e6-2e4accbbc1b4|\n",
            "|[-0.65020079746698,-0.44347741220645925,0.21447012352131423,2.591531259942347,0.0986000664791115,0.5087564467428431]       |4          |00529a9d-d876-4dc5-bb13-847513de1879|\n",
            "|[-0.12715321773623325,-1.19611485883027,-0.10466844621100192,2.64055524879081,-0.0014733730251071803,-0.010183626296166967]|4          |00584813-33b4-477b-a7cc-80777593a9ba|\n",
            "|[-2.849363391484401,-1.0413877168058734,-4.116836754726095,0.10541530141944482,-0.2711338099799911,-0.5882902051997321]    |3          |005b5441-16b2-483b-b177-c15a4bc9e70e|\n",
            "+---------------------------------------------------------------------------------------------------------------------------+-----------+------------------------------------+\n",
            "only showing top 20 rows\n",
            "\n"
          ]
        }
      ],
      "source": [
        "projetion_kmeans.select(['pca_features','cluster_pca', \"id\"]).show(truncate=False)"
      ]
    },
    {
      "cell_type": "markdown",
      "metadata": {
        "id": "-Psmo-lL-RXN"
      },
      "source": [
        "## Filtrando imóveis do mesmo cluster"
      ]
    },
    {
      "cell_type": "markdown",
      "metadata": {
        "id": "0bbTrBMpXO6Y"
      },
      "source": [
        "Vamos agora verificar quais imóveis pertencem ao mesmo cluster. Assim, podemos identificar os imóveis que possuem características parecidas.\n",
        "\n",
        "Para isso vamos escolher um ID de um imóvel aleatório:"
      ]
    },
    {
      "cell_type": "code",
      "execution_count": 59,
      "metadata": {
        "id": "-r9meF-9P2qB"
      },
      "outputs": [],
      "source": [
        "id_imovel = '0034df72-124a-4383-a89f-a019850a2ba0'"
      ]
    },
    {
      "cell_type": "code",
      "execution_count": 60,
      "metadata": {
        "colab": {
          "base_uri": "https://localhost:8080/"
        },
        "id": "KlgLydvyXO6Z",
        "outputId": "50aa6630-a50d-417f-b71b-69e39590bdf9"
      },
      "outputs": [
        {
          "name": "stdout",
          "output_type": "stream",
          "text": [
            "+-----------+\n",
            "|cluster_pca|\n",
            "+-----------+\n",
            "|          9|\n",
            "+-----------+\n",
            "\n"
          ]
        }
      ],
      "source": [
        "projetion_kmeans.filter(projetion_kmeans.id == id_imovel).select('cluster_pca').show()"
      ]
    },
    {
      "cell_type": "code",
      "execution_count": 61,
      "metadata": {
        "colab": {
          "base_uri": "https://localhost:8080/"
        },
        "id": "yo_oSKeBP2Q7",
        "outputId": "f5ff9009-7e96-49cb-b990-87a756c38f57"
      },
      "outputs": [
        {
          "data": {
            "text/plain": [
              "9"
            ]
          },
          "execution_count": 61,
          "metadata": {},
          "output_type": "execute_result"
        }
      ],
      "source": [
        "cluster = projetion_kmeans.filter(projetion_kmeans.id == id_imovel).select('cluster_pca').collect()[0][0]\n",
        "cluster"
      ]
    },
    {
      "cell_type": "code",
      "execution_count": 62,
      "metadata": {
        "colab": {
          "base_uri": "https://localhost:8080/"
        },
        "id": "ogee003HuGd2",
        "outputId": "969fef23-c7b4-41d4-95e0-ef0492882c5e"
      },
      "outputs": [
        {
          "name": "stdout",
          "output_type": "stream",
          "text": [
            "+--------------------+--------------------+--------------------+\n",
            "|              bairro|                  id|        pca_features|\n",
            "+--------------------+--------------------+--------------------+\n",
            "|Recreio dos Bande...|0034df72-124a-438...|[-4.6134703872770...|\n",
            "|Recreio dos Bande...|01b872aa-9563-4e6...|[-3.7479325299310...|\n",
            "|             Taquara|01e94fd8-5fa6-454...|[-2.5093968825911...|\n",
            "|     Barra da Tijuca|023db788-b55a-428...|[-4.1939429646588...|\n",
            "|     Barra da Tijuca|026d8d70-5c0b-4d4...|[-2.4200397234310...|\n",
            "+--------------------+--------------------+--------------------+\n",
            "only showing top 5 rows\n",
            "\n"
          ]
        }
      ],
      "source": [
        "imoveis_recomendadas = projetion_kmeans.filter(projetion_kmeans.cluster_pca == cluster)\\\n",
        "                                       .select('bairro', 'id', 'pca_features')\n",
        "imoveis_recomendadas.show(5)"
      ]
    },
    {
      "cell_type": "markdown",
      "metadata": {
        "id": "DcU0BMXS-cr8"
      },
      "source": [
        "## Calculando distância euclidiana para encontrar as 10 melhores recomendações"
      ]
    },
    {
      "cell_type": "markdown",
      "metadata": {
        "id": "8zhwgmSGXO6Z"
      },
      "source": [
        "Vamos agora calcular a distância euclidiana entre o imóvel escolhido e os demais imóveis do mesmo cluster, para obter os imóveis que apresentam maior similaridade com o imóvel escolhido. Para calcular essa distância, vamos utilizar o método [euclidean](https://docs.scipy.org/doc/scipy/reference/generated/scipy.spatial.distance.euclidean.html) da biblioteca `scipy.spatial.distance`."
      ]
    },
    {
      "cell_type": "code",
      "execution_count": 63,
      "metadata": {
        "colab": {
          "base_uri": "https://localhost:8080/",
          "height": 35
        },
        "id": "Kz9ddy8iXO6Z",
        "outputId": "1d11b63b-9961-4bc3-937e-b035edf95108"
      },
      "outputs": [
        {
          "data": {
            "application/vnd.google.colaboratory.intrinsic+json": {
              "type": "string"
            },
            "text/plain": [
              "'0034df72-124a-4383-a89f-a019850a2ba0'"
            ]
          },
          "execution_count": 63,
          "metadata": {},
          "output_type": "execute_result"
        }
      ],
      "source": [
        "id_imovel"
      ]
    },
    {
      "cell_type": "code",
      "execution_count": 64,
      "metadata": {
        "colab": {
          "base_uri": "https://localhost:8080/"
        },
        "id": "O9NyrPT1zJc0",
        "outputId": "bd9d674d-cfd6-4619-8b9a-2bf9775860cc"
      },
      "outputs": [
        {
          "data": {
            "text/plain": [
              "DenseVector([-4.6135, -4.0147, 1.3861, 0.2579, -0.0626, 0.3152])"
            ]
          },
          "execution_count": 64,
          "metadata": {},
          "output_type": "execute_result"
        }
      ],
      "source": [
        "imovel_procurado = imoveis_recomendadas.filter(imoveis_recomendadas.id == id_imovel)\\\n",
        "                                          .select('pca_features').collect()[0][0]\n",
        "imovel_procurado                             "
      ]
    },
    {
      "cell_type": "code",
      "execution_count": 65,
      "metadata": {
        "id": "id1gI14o-XIW"
      },
      "outputs": [],
      "source": [
        "from scipy.spatial.distance import euclidean\n",
        "from pyspark.sql.types import FloatType"
      ]
    },
    {
      "cell_type": "code",
      "execution_count": 66,
      "metadata": {
        "colab": {
          "base_uri": "https://localhost:8080/"
        },
        "id": "Zq2riNmdXO6a",
        "outputId": "e2452e21-0c2e-4edf-dcc3-e2f67c3df0af"
      },
      "outputs": [
        {
          "name": "stdout",
          "output_type": "stream",
          "text": [
            "+--------------------+--------------------+----------+\n",
            "|              bairro|                  id| distancia|\n",
            "+--------------------+--------------------+----------+\n",
            "|Recreio dos Bande...|0034df72-124a-438...|       0.0|\n",
            "|Recreio dos Bande...|e5ec2e28-c81f-47a...|0.17295614|\n",
            "|Recreio dos Bande...|12012273-e197-488...|0.18009204|\n",
            "|Recreio dos Bande...|c4585166-c411-4e5...|0.18062168|\n",
            "|Recreio dos Bande...|acbccbb4-4aec-452...|0.22523937|\n",
            "+--------------------+--------------------+----------+\n",
            "only showing top 5 rows\n",
            "\n"
          ]
        }
      ],
      "source": [
        "def calculate_euclidean_distance(imovel, valor):\n",
        "    return euclidean(imovel, valor)\n",
        "\n",
        "euclidean_udf = f.udf(lambda x: calculate_euclidean_distance(imovel_procurado, x), FloatType())\n",
        "\n",
        "imoveis_recomendadas\\\n",
        "    .withColumn('distancia', euclidean_udf('pca_features'))\\\n",
        "    .select('bairro', 'id', 'distancia')\\\n",
        "    .orderBy('distancia')\\\n",
        "    .show(5)"
      ]
    },
    {
      "cell_type": "code",
      "execution_count": 67,
      "metadata": {
        "colab": {
          "base_uri": "https://localhost:8080/"
        },
        "id": "pBYayCZqXO6a",
        "outputId": "92fbf9ab-8759-48f2-cd2b-fa47da37dd52"
      },
      "outputs": [
        {
          "name": "stdout",
          "output_type": "stream",
          "text": [
            "+--------------------+--------------------+----------+\n",
            "|              bairro|                  id| distancia|\n",
            "+--------------------+--------------------+----------+\n",
            "|Recreio dos Bande...|0034df72-124a-438...|       0.0|\n",
            "|Recreio dos Bande...|e5ec2e28-c81f-47a...|0.17295614|\n",
            "|Recreio dos Bande...|12012273-e197-488...|0.18009204|\n",
            "|Recreio dos Bande...|c4585166-c411-4e5...|0.18062168|\n",
            "|Recreio dos Bande...|acbccbb4-4aec-452...|0.22523937|\n",
            "+--------------------+--------------------+----------+\n",
            "only showing top 5 rows\n",
            "\n"
          ]
        }
      ],
      "source": [
        "recomendadas = imoveis_recomendadas\\\n",
        "    .withColumn('distancia', euclidean_udf('pca_features'))\\\n",
        "    .select('bairro', 'id', 'distancia')\\\n",
        "    .orderBy('distancia')\n",
        "\n",
        "recomendadas.show(5)"
      ]
    },
    {
      "cell_type": "markdown",
      "metadata": {
        "id": "o4qKp4DV-kSE"
      },
      "source": [
        "## Criando uma função recomendadora para ser usada como referencia para o time dev"
      ]
    },
    {
      "cell_type": "markdown",
      "metadata": {
        "id": "6K346-G-XO6a"
      },
      "source": [
        "Juntando as etapas anteriores, como filtro de imóveis do mesmo cluster, cálculo da distância euclidiana, vamos criar uma função que recebe o ID de um imóvel e retorna os 10 imóveis mais próximos como recomendação."
      ]
    },
    {
      "cell_type": "code",
      "execution_count": 68,
      "metadata": {
        "id": "VsiiDM_HXO6a"
      },
      "outputs": [],
      "source": [
        "def calculate_euclidean_distance(imovel, valor):\n",
        "    return euclidean(imovel, valor)\n",
        "\n",
        "\n",
        "def recommender(id_imovel, dataframe_kmeans):\n",
        "    cluster = dataframe_kmeans\\\n",
        "        .filter(dataframe_kmeans.id == id_imovel)\\\n",
        "        .select('cluster_pca')\\\n",
        "        .collect()[0][0]\n",
        "\n",
        "    imoveis_recomendadas = dataframe_kmeans\\\n",
        "        .filter(dataframe_kmeans.cluster_pca == cluster)\n",
        "\n",
        "    imovel_procurado = imoveis_recomendadas\\\n",
        "        .filter(imoveis_recomendadas.id == id_imovel)\\\n",
        "        .select('pca_features')\\\n",
        "        .collect()[0][0]\n",
        "\n",
        "    euclidean_udf = f.udf(lambda x: calculate_euclidean_distance(\n",
        "        imovel_procurado, x), FloatType())\n",
        "\n",
        "    colunas_nao_utilizadas = [\n",
        "        'features', 'scaled_features', 'pca_features', 'cluster_pca', 'distancia']\n",
        "\n",
        "    recomendadas = imoveis_recomendadas\\\n",
        "        .withColumn('distancia', euclidean_udf('pca_features'))\\\n",
        "        .select([col for col in imoveis_recomendadas.columns if col not in colunas_nao_utilizadas])\\\n",
        "        .orderBy('distancia')\n",
        "\n",
        "    return recomendadas\n"
      ]
    },
    {
      "cell_type": "markdown",
      "metadata": {
        "id": "MIoApLUBXO6b"
      },
      "source": [
        "Vamos agora testar o recomendador com o ID de um imóvel aleatório:"
      ]
    },
    {
      "cell_type": "code",
      "execution_count": 69,
      "metadata": {
        "colab": {
          "base_uri": "https://localhost:8080/"
        },
        "id": "g69sGwEJXO6b",
        "outputId": "2c426a62-5e25-441c-8819-78b6ec3da792"
      },
      "outputs": [
        {
          "name": "stdout",
          "output_type": "stream",
          "text": [
            "+------------------------------------+------------------------+\n",
            "|id                                  |bairro                  |\n",
            "+------------------------------------+------------------------+\n",
            "|0034df72-124a-4383-a89f-a019850a2ba0|Recreio dos Bandeirantes|\n",
            "|e5ec2e28-c81f-47a6-aeff-1288d6773c7b|Recreio dos Bandeirantes|\n",
            "|12012273-e197-488f-bf81-784cb02ec875|Recreio dos Bandeirantes|\n",
            "|c4585166-c411-4e57-9095-9b7ac2f5dccc|Recreio dos Bandeirantes|\n",
            "|acbccbb4-4aec-4527-88fa-7933de023633|Recreio dos Bandeirantes|\n",
            "|a5ff60b0-bc83-4e98-b56f-3e855b7b3711|Recreio dos Bandeirantes|\n",
            "|7e96df1b-e77d-49c5-82e2-cc5ac4f6f960|Recreio dos Bandeirantes|\n",
            "|d155b386-04e3-48e1-9bb1-f6f14a84a675|Recreio dos Bandeirantes|\n",
            "|dbe16cf4-439c-4812-9233-34507b399d53|Jacarepaguá             |\n",
            "|612f2a2c-a28a-44ec-b6d1-4d7606932f84|Jacarepaguá             |\n",
            "|7c3e3897-3734-4a10-bd7f-2efbb28aaef8|Barra da Tijuca         |\n",
            "|d102b22b-73a1-48d4-b4da-617bfd0e33c6|Recreio dos Bandeirantes|\n",
            "|4f991db8-b42f-4ac9-97a4-f41d0630ee1e|Recreio dos Bandeirantes|\n",
            "|8aacfda0-621a-4f9a-8aa6-a97881ac5c0d|Recreio dos Bandeirantes|\n",
            "|a2fa4e3f-4f7f-4003-809d-a1098d88d687|Recreio dos Bandeirantes|\n",
            "|61ebfb31-a3a3-435e-8a59-3362c689c268|Jacarepaguá             |\n",
            "|5788a47e-04e1-41fd-8d81-dfaeff13d942|Barra da Tijuca         |\n",
            "|9f12771a-93e0-4fe6-bfd2-02d40e429644|Barra da Tijuca         |\n",
            "|a6b8131b-9bec-46cd-83a7-aa491b83dbe1|Recreio dos Bandeirantes|\n",
            "|c853d7a2-3c3e-4b71-9598-904f3568a849|Recreio dos Bandeirantes|\n",
            "+------------------------------------+------------------------+\n",
            "only showing top 20 rows\n",
            "\n"
          ]
        }
      ],
      "source": [
        "recommender(\"0034df72-124a-4383-a89f-a019850a2ba0\", projetion_kmeans).select(\"id\", \"bairro\").show(20, truncate=False)"
      ]
    },
    {
      "cell_type": "markdown",
      "metadata": {},
      "source": [
        "Fim"
      ]
    },
    {
      "cell_type": "markdown",
      "metadata": {},
      "source": []
    }
  ],
  "metadata": {
    "colab": {
      "include_colab_link": true,
      "provenance": []
    },
    "kernelspec": {
      "display_name": "Python 3.9.12 ('ds-conda')",
      "language": "python",
      "name": "python3"
    },
    "language_info": {
      "codemirror_mode": {
        "name": "ipython",
        "version": 3
      },
      "file_extension": ".py",
      "mimetype": "text/x-python",
      "name": "python",
      "nbconvert_exporter": "python",
      "pygments_lexer": "ipython3",
      "version": "3.9.12"
    },
    "vscode": {
      "interpreter": {
        "hash": "f376ac459482aba7b305c50f2067a782822cb4387569295007fcf226aacd147b"
      }
    }
  },
  "nbformat": 4,
  "nbformat_minor": 0
}
