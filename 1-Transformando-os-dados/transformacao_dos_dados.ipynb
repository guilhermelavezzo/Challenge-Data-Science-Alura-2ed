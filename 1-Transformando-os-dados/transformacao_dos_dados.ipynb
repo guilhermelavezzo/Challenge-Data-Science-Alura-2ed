{
  "cells": [
    {
      "cell_type": "markdown",
      "metadata": {
        "id": "view-in-github",
        "colab_type": "text"
      },
      "source": [
        "<a href=\"https://colab.research.google.com/github/millenagena/Challenge-Data-Science-Alura-2ed/blob/main/1-Transformando-os-dados/transformacao_dos_dados.ipynb\" target=\"_parent\"><img src=\"https://colab.research.google.com/assets/colab-badge.svg\" alt=\"Open In Colab\"/></a>"
      ]
    },
    {
      "cell_type": "markdown",
      "metadata": {
        "id": "sNyzw3spBlVl"
      },
      "source": [
        "# Semana 1\n",
        "### Contextualização\n",
        "\n",
        "Como pessoa engenheira de dados temos como uma de nossas responsabilidades a disponibilização dos dados para que os usuários interessados possam realizar suas análises.\n",
        "<br>\n",
        "<br>\n",
        "Na imobiliária InsightPlaces temos um website que torna público os anúncios dos imóveis que pertencem ao portfólio da imobiliária. Este site é alimentado por uma API REST que consulta nosso sistema de banco de dados e retorna um arquivo JSON que é tratado pelo frontend e exibido na tela do usuário. A imobiliária utiliza como SGBD deste recurso (anúncios) o MongoDB que é um SGBD noSQL, ou seja, ele trabalha com dados não estruturados e suas collections são armazenadas no formato JSON.\n",
        "<br>\n",
        "<br>\n",
        "Nosso cliente nessa demanda é a equipe de ciência de dados da InsightPlaces que precisa de um conjunto de dados para criar um modelo de machine learning para possibilitar a criação de um projeto da empresa que consiste em uma ferramenta de avaliação de imóveis usados."
      ]
    },
    {
      "cell_type": "code",
      "execution_count": 1,
      "metadata": {
        "id": "-FQ2bsIFBcWB",
        "colab": {
          "base_uri": "https://localhost:8080/"
        },
        "outputId": "4c3653bc-43f5-4dc2-d9f0-89e80c6d10a1"
      },
      "outputs": [
        {
          "output_type": "stream",
          "name": "stdout",
          "text": [
            "Looking in indexes: https://pypi.org/simple, https://us-python.pkg.dev/colab-wheels/public/simple/\n",
            "Collecting pyspark==3.3.1\n",
            "  Downloading pyspark-3.3.1.tar.gz (281.4 MB)\n",
            "\u001b[K     |████████████████████████████████| 281.4 MB 40 kB/s \n",
            "\u001b[?25hCollecting py4j==0.10.9.5\n",
            "  Downloading py4j-0.10.9.5-py2.py3-none-any.whl (199 kB)\n",
            "\u001b[K     |████████████████████████████████| 199 kB 52.5 MB/s \n",
            "\u001b[?25hBuilding wheels for collected packages: pyspark\n",
            "  Building wheel for pyspark (setup.py) ... \u001b[?25l\u001b[?25hdone\n",
            "  Created wheel for pyspark: filename=pyspark-3.3.1-py2.py3-none-any.whl size=281845512 sha256=b0e3612932ef809bf6dfb2e8102c24026f98a52e650780137d440a069bfaf80c\n",
            "  Stored in directory: /root/.cache/pip/wheels/42/59/f5/79a5bf931714dcd201b26025347785f087370a10a3329a899c\n",
            "Successfully built pyspark\n",
            "Installing collected packages: py4j, pyspark\n",
            "Successfully installed py4j-0.10.9.5 pyspark-3.3.1\n"
          ]
        }
      ],
      "source": [
        "!pip install pyspark==3.3.1"
      ]
    },
    {
      "cell_type": "code",
      "execution_count": 2,
      "metadata": {
        "colab": {
          "base_uri": "https://localhost:8080/",
          "height": 222
        },
        "id": "hTVEy3WFBrCd",
        "outputId": "7a9093b4-6209-4999-d474-d9f3fa6ab41f"
      },
      "outputs": [
        {
          "output_type": "execute_result",
          "data": {
            "text/plain": [
              "<pyspark.sql.session.SparkSession at 0x7f9b6276efd0>"
            ],
            "text/html": [
              "\n",
              "            <div>\n",
              "                <p><b>SparkSession - in-memory</b></p>\n",
              "                \n",
              "        <div>\n",
              "            <p><b>SparkContext</b></p>\n",
              "\n",
              "            <p><a href=\"http://5288fd86e13e:4040\">Spark UI</a></p>\n",
              "\n",
              "            <dl>\n",
              "              <dt>Version</dt>\n",
              "                <dd><code>v3.3.1</code></dd>\n",
              "              <dt>Master</dt>\n",
              "                <dd><code>local[*]</code></dd>\n",
              "              <dt>AppName</dt>\n",
              "                <dd><code>Transformacao com Spark</code></dd>\n",
              "            </dl>\n",
              "        </div>\n",
              "        \n",
              "            </div>\n",
              "        "
            ]
          },
          "metadata": {},
          "execution_count": 2
        }
      ],
      "source": [
        "from pyspark.sql import SparkSession\n",
        "\n",
        "spark = SparkSession.builder \\\n",
        "    .master('local[*]') \\\n",
        "    .appName(\"Transformacao com Spark\") \\\n",
        "    .getOrCreate()\n",
        "\n",
        "spark"
      ]
    },
    {
      "cell_type": "markdown",
      "metadata": {
        "id": "bmAYI-PQwibj"
      },
      "source": [
        "## Fazendo o download da base de dados"
      ]
    },
    {
      "cell_type": "code",
      "execution_count": 3,
      "metadata": {
        "id": "wwTFO1EXwibj",
        "outputId": "4c60e491-6395-4461-9a69-9271de637c08",
        "colab": {
          "base_uri": "https://localhost:8080/"
        }
      },
      "outputs": [
        {
          "output_type": "stream",
          "name": "stdout",
          "text": [
            "--2022-11-28 19:53:51--  https://caelum-online-public.s3.amazonaws.com/challenge-spark/semana-1.zip\n",
            "Resolving caelum-online-public.s3.amazonaws.com (caelum-online-public.s3.amazonaws.com)... 52.216.77.180, 52.216.244.132, 52.217.64.84, ...\n",
            "Connecting to caelum-online-public.s3.amazonaws.com (caelum-online-public.s3.amazonaws.com)|52.216.77.180|:443... connected.\n",
            "HTTP request sent, awaiting response... 200 OK\n",
            "Length: 18975214 (18M) [application/zip]\n",
            "Saving to: ‘semana-1.zip’\n",
            "\n",
            "semana-1.zip        100%[===================>]  18.10M  41.6MB/s    in 0.4s    \n",
            "\n",
            "2022-11-28 19:53:52 (41.6 MB/s) - ‘semana-1.zip’ saved [18975214/18975214]\n",
            "\n",
            "Archive:  semana-1.zip\n",
            "  inflating: dados/dataset_bruto.json  \n"
          ]
        }
      ],
      "source": [
        "!wget 'https://caelum-online-public.s3.amazonaws.com/challenge-spark/semana-1.zip' && unzip semana-1.zip -d dados/"
      ]
    },
    {
      "cell_type": "markdown",
      "metadata": {
        "id": "ePiadwAIwibj"
      },
      "source": [
        "## Realizando a leitura da base de dados"
      ]
    },
    {
      "cell_type": "code",
      "execution_count": 4,
      "metadata": {
        "id": "qnK2TRGhBwIc"
      },
      "outputs": [],
      "source": [
        "dados = spark.read.json(\n",
        "    'dados/dataset_bruto.json'\n",
        ")"
      ]
    },
    {
      "cell_type": "code",
      "execution_count": 5,
      "metadata": {
        "colab": {
          "base_uri": "https://localhost:8080/"
        },
        "id": "AvDrpqHUBx1j",
        "outputId": "7f6490a8-11bb-4cf7-e7d3-2520bb63714f"
      },
      "outputs": [
        {
          "output_type": "execute_result",
          "data": {
            "text/plain": [
              "DataFrame[anuncio: struct<andar:bigint,area_total:array<string>,area_util:array<string>,banheiros:array<bigint>,caracteristicas:array<string>,endereco:struct<bairro:string,cep:string,cidade:string,estado:string,latitude:double,longitude:double,pais:string,rua:string,zona:string>,id:string,quartos:array<bigint>,suites:array<bigint>,tipo_anuncio:string,tipo_unidade:string,tipo_uso:string,vaga:array<bigint>,valores:array<struct<condominio:string,iptu:string,tipo:string,valor:string>>>, imagens: array<struct<id:string,url:string>>, usuario: struct<id:string,nome:string>]"
            ]
          },
          "metadata": {},
          "execution_count": 5
        }
      ],
      "source": [
        "dados"
      ]
    },
    {
      "cell_type": "code",
      "execution_count": 6,
      "metadata": {
        "colab": {
          "base_uri": "https://localhost:8080/"
        },
        "id": "z_P0xgErBzQM",
        "outputId": "8fb920b8-6baa-48c9-dfbd-bc6899e4bfd1"
      },
      "outputs": [
        {
          "output_type": "stream",
          "name": "stdout",
          "text": [
            "+----------------------------------------------------------------------------------------------------------------------------------------------------------------------------------------------------------------------------------------------------------------------------------------------------+--------------------------------------------------------------------------------------------------------------------------------------------------------------------------------------------------------------------------------------------------------------------------------------------------------------------------------------------------------------------------------------------------------------------------------------------------------------------------------------------------------------------------------------------------------------------------------------------------------+------------------------------------------------+\n",
            "|anuncio                                                                                                                                                                                                                                                                                             |imagens                                                                                                                                                                                                                                                                                                                                                                                                                                                                                                                                                                                                 |usuario                                         |\n",
            "+----------------------------------------------------------------------------------------------------------------------------------------------------------------------------------------------------------------------------------------------------------------------------------------------------+--------------------------------------------------------------------------------------------------------------------------------------------------------------------------------------------------------------------------------------------------------------------------------------------------------------------------------------------------------------------------------------------------------------------------------------------------------------------------------------------------------------------------------------------------------------------------------------------------------+------------------------------------------------+\n",
            "|{0, [], [16], [0], [], {Centro, 20061003, Rio de Janeiro, Rio de Janeiro, -22.906082, -43.18671, BR, Rua Buenos Aires, Zona Central}, 47d553e0-79f2-4a46-9390-5a3c962740c2, [0], [0], Usado, Outros, Comercial, [1], [{260, 107, Venda, 10000}]}                                                    |[{39d6282a-71f3-47bc-94aa-909351ecd881, https://api.images.insightplaces.com.br/{type}/{width}/{height}/1b08098d-f2dc-439c-b604-a4e50d12774b.jpg}]                                                                                                                                                                                                                                                                                                                                                                                                                                                      |{9d44563d-3405-4e84-9381-35b7cf40a9a4, Frank}   |\n",
            "|{0, [], [14], [0], [], {Centro, 20051040, Rio de Janeiro, Rio de Janeiro, -22.902536, -43.18434, BR, Avenida Passos, Zona Central}, b6ffbae1-17f6-4870-9950-e998ac1c8d6a, [0], [], Usado, Outros, Comercial, [0], [{260, 107, Venda, 10000}]}                                                       |[{23d2b3ab-45b0-47f2-a27f-ffbe066c2c38, https://api.images.insightplaces.com.br/{type}/{width}/{height}/7a65b929-fe46-4a60-ae31-81faf2edb3c6.jpg}, {1b5f71f8-1aec-4b82-8d4c-67540d204a59, https://api.images.insightplaces.com.br/{type}/{width}/{height}/82e92d72-002a-4d3b-8063-16d4d65474b3.jpg}, {9bb11688-7dc9-48b9-bc1d-6a7a2dbcd553, https://api.images.insightplaces.com.br/{type}/{width}/{height}/23be0c2c-4c8f-4718-8126-6f160bb3efcc.jpg}, {1aaf6095-70bc-4f1f-87a4-fe3534a1bd2a, https://api.images.insightplaces.com.br/{type}/{width}/{height}/0ae382f4-b1ac-4ad9-b6cf-d9b4d7d01908.jpg}]|{36245be7-70fe-40cd-84d4-70a57dc8f976, Caroline}|\n",
            "|{0, [1026], [1026], [0], [], {Maria da Graça, 20785360, Rio de Janeiro, Rio de Janeiro, -22.885516, -43.269083, BR, Rua Luís de Brito, Zona Norte}, 1fb030a5-9e3e-4a1d-93cd-cd2d8a215e11, [0], [], Usado, Outros, Comercial, [0], [{null, 1613, Venda, 10000}]}                                     |[{1da65baa-368b-490f-bef7-1834b9a428c1, https://api.images.insightplaces.com.br/{type}/{width}/{height}/b06fe423-6f18-43bb-b0e3-a569158885d2.jpg}]                                                                                                                                                                                                                                                                                                                                                                                                                                                      |{9dc415d8-1397-4d8d-8425-b8310fad309d, Oliver}  |\n",
            "|{0, [120], [120], [0], [Portão eletrônico, Condomínio fechado], {Campo Grande, 23095071, Rio de Janeiro, Rio de Janeiro, -22.885028, -43.561668, BR, Estrada Guandu do Sape, Zona Oeste}, ac6cb348-69d6-45af-9589-dc34099370d8, [0], [], Usado, Outros, Residencial, [], [{80, null, Venda, 10000}]}|[{79b542c6-49b4-4f06-80b5-ef4fcdf98f76, https://api.images.insightplaces.com.br/{type}/{width}/{height}/b9688b1a-e6e8-4027-9368-d8298bc5ac40.jpg}]                                                                                                                                                                                                                                                                                                                                                                                                                                                      |{9911a2df-f299-4a73-a384-281417abaf69, Matthew} |\n",
            "|{0, [3], [3], [0], [], {São Cristóvão, 20931670, Rio de Janeiro, Rio de Janeiro, -22.885912, -43.219296, BR, Rua Monsenhor Manuel Gomes, Zona Norte}, e032b908-ef42-4d4a-8125-eba4792bacbe, [0], [], Usado, Outros, Residencial, [], [{0, 0, Venda, 5000}]}                                         |[{e2bc497b-6510-4731-8942-97b3d3cdab5e, https://api.images.insightplaces.com.br/{type}/{width}/{height}/bd7e2c54-8d10-4148-806d-0d656ff80fc2.jpg}]                                                                                                                                                                                                                                                                                                                                                                                                                                                      |{240a7aab-12e5-4069-9a2c-9dca4c4f9c68, Jude}    |\n",
            "+----------------------------------------------------------------------------------------------------------------------------------------------------------------------------------------------------------------------------------------------------------------------------------------------------+--------------------------------------------------------------------------------------------------------------------------------------------------------------------------------------------------------------------------------------------------------------------------------------------------------------------------------------------------------------------------------------------------------------------------------------------------------------------------------------------------------------------------------------------------------------------------------------------------------+------------------------------------------------+\n",
            "only showing top 5 rows\n",
            "\n"
          ]
        }
      ],
      "source": [
        "dados.show(5, truncate=False)"
      ]
    },
    {
      "cell_type": "code",
      "execution_count": 7,
      "metadata": {
        "colab": {
          "base_uri": "https://localhost:8080/"
        },
        "id": "Z1sqO9oWB1-i",
        "outputId": "327f96db-435b-43d7-9e05-60d89ad75648"
      },
      "outputs": [
        {
          "output_type": "execute_result",
          "data": {
            "text/plain": [
              "89083"
            ]
          },
          "metadata": {},
          "execution_count": 7
        }
      ],
      "source": [
        "dados.count()"
      ]
    },
    {
      "cell_type": "markdown",
      "metadata": {
        "id": "FSRz4QYF8qDu"
      },
      "source": [
        "## Avalie a estrutura do arquivo JSON"
      ]
    },
    {
      "cell_type": "code",
      "execution_count": 8,
      "metadata": {
        "colab": {
          "base_uri": "https://localhost:8080/"
        },
        "id": "pZb5MMVSB378",
        "outputId": "f9ae010a-2f70-4923-e454-a387bd4aae38"
      },
      "outputs": [
        {
          "output_type": "stream",
          "name": "stdout",
          "text": [
            "root\n",
            " |-- anuncio: struct (nullable = true)\n",
            " |    |-- andar: long (nullable = true)\n",
            " |    |-- area_total: array (nullable = true)\n",
            " |    |    |-- element: string (containsNull = true)\n",
            " |    |-- area_util: array (nullable = true)\n",
            " |    |    |-- element: string (containsNull = true)\n",
            " |    |-- banheiros: array (nullable = true)\n",
            " |    |    |-- element: long (containsNull = true)\n",
            " |    |-- caracteristicas: array (nullable = true)\n",
            " |    |    |-- element: string (containsNull = true)\n",
            " |    |-- endereco: struct (nullable = true)\n",
            " |    |    |-- bairro: string (nullable = true)\n",
            " |    |    |-- cep: string (nullable = true)\n",
            " |    |    |-- cidade: string (nullable = true)\n",
            " |    |    |-- estado: string (nullable = true)\n",
            " |    |    |-- latitude: double (nullable = true)\n",
            " |    |    |-- longitude: double (nullable = true)\n",
            " |    |    |-- pais: string (nullable = true)\n",
            " |    |    |-- rua: string (nullable = true)\n",
            " |    |    |-- zona: string (nullable = true)\n",
            " |    |-- id: string (nullable = true)\n",
            " |    |-- quartos: array (nullable = true)\n",
            " |    |    |-- element: long (containsNull = true)\n",
            " |    |-- suites: array (nullable = true)\n",
            " |    |    |-- element: long (containsNull = true)\n",
            " |    |-- tipo_anuncio: string (nullable = true)\n",
            " |    |-- tipo_unidade: string (nullable = true)\n",
            " |    |-- tipo_uso: string (nullable = true)\n",
            " |    |-- vaga: array (nullable = true)\n",
            " |    |    |-- element: long (containsNull = true)\n",
            " |    |-- valores: array (nullable = true)\n",
            " |    |    |-- element: struct (containsNull = true)\n",
            " |    |    |    |-- condominio: string (nullable = true)\n",
            " |    |    |    |-- iptu: string (nullable = true)\n",
            " |    |    |    |-- tipo: string (nullable = true)\n",
            " |    |    |    |-- valor: string (nullable = true)\n",
            " |-- imagens: array (nullable = true)\n",
            " |    |-- element: struct (containsNull = true)\n",
            " |    |    |-- id: string (nullable = true)\n",
            " |    |    |-- url: string (nullable = true)\n",
            " |-- usuario: struct (nullable = true)\n",
            " |    |-- id: string (nullable = true)\n",
            " |    |-- nome: string (nullable = true)\n",
            "\n"
          ]
        }
      ],
      "source": [
        "dados.printSchema()"
      ]
    },
    {
      "cell_type": "markdown",
      "metadata": {
        "id": "cEL5zoNu8y69"
      },
      "source": [
        "## Crie um novo DataFrame com todos os campos da coluna `anuncio`.\n",
        "Cada campo da coluna `anuncio` deve ser uma coluna do novo DataFrame.\n",
        "\n",
        "Observe que temos uma série de problemas para resolver. Colunas cujo conteúdo são listas, outra com dicionários e uma com dicionários como elementos de uma lista. Vamos tratar cada caso separadamente com o auxílio do dicionário de dados.\n",
        "\n",
        "### Dicionário de Dados\n",
        "\n",
        "| Colunas         | Descrição                                                      |\n",
        "|-----------------|----------------------------------------------------------------|\n",
        "| id              | Código de identificação do anúncio no sistema da InsightPlaces |\n",
        "| tipo_unidade    | Tipo de imóvel (apartamento, casa e outros)                    |\n",
        "| tipo_uso        | Tipo de uso do imóvel (residencial ou comercial)               |\n",
        "| area_total      | Área total do imóvel (construção e terreno)                    |\n",
        "| area_util       | Área construída do imóvel                                      |\n",
        "| quartos         | Quantidade de quartos do imóvel                                |\n",
        "| suites          | Quantidade de suítes do imóvel                                 |\n",
        "| banheiros       | Quantidade de banheiros do imóvel                              |\n",
        "| vaga            | Quantidade de vagas de garagem do imóvel                       |\n",
        "| caracteristicas | Listagem de características do imóvel                          |\n",
        "| andar           | Número do andar do imóvel                                      |\n",
        "| endereco        | Informações sobre o endereço do imóvel                         |\n",
        "| valores         | Informações sobre valores de venda e locação dos imóveis       |\n"
      ]
    },
    {
      "cell_type": "code",
      "execution_count": 9,
      "metadata": {
        "colab": {
          "base_uri": "https://localhost:8080/"
        },
        "id": "taf5Ldq48KjH",
        "outputId": "f777f3ed-c608-438e-f672-8f374ce9ba8c"
      },
      "outputs": [
        {
          "output_type": "stream",
          "name": "stdout",
          "text": [
            "+-----+----------+---------+---------+--------------------+--------------------+--------------------+-------+------+------------+------------+-----------+----+--------------------+\n",
            "|andar|area_total|area_util|banheiros|     caracteristicas|            endereco|                  id|quartos|suites|tipo_anuncio|tipo_unidade|   tipo_uso|vaga|             valores|\n",
            "+-----+----------+---------+---------+--------------------+--------------------+--------------------+-------+------+------------+------------+-----------+----+--------------------+\n",
            "|    0|        []|     [16]|      [0]|                  []|{Centro, 20061003...|47d553e0-79f2-4a4...|    [0]|   [0]|       Usado|      Outros|  Comercial| [1]|[{260, 107, Venda...|\n",
            "|    0|        []|     [14]|      [0]|                  []|{Centro, 20051040...|b6ffbae1-17f6-487...|    [0]|    []|       Usado|      Outros|  Comercial| [0]|[{260, 107, Venda...|\n",
            "|    0|    [1026]|   [1026]|      [0]|                  []|{Maria da Graça, ...|1fb030a5-9e3e-4a1...|    [0]|    []|       Usado|      Outros|  Comercial| [0]|[{null, 1613, Ven...|\n",
            "|    0|     [120]|    [120]|      [0]|[Portão eletrônic...|{Campo Grande, 23...|ac6cb348-69d6-45a...|    [0]|    []|       Usado|      Outros|Residencial|  []|[{80, null, Venda...|\n",
            "|    0|       [3]|      [3]|      [0]|                  []|{São Cristóvão, 2...|e032b908-ef42-4d4...|    [0]|    []|       Usado|      Outros|Residencial|  []|[{0, 0, Venda, 50...|\n",
            "|    0|      [20]|     [15]|      [1]|                  []|{Centro, 20231047...|df9cf0b8-b972-433...|    [0]|    []|       Usado|      Outros|  Comercial| [1]|[{223, 87, Venda,...|\n",
            "|    3|      [43]|     [43]|      [1]|[Academia, Churra...|{Paciência, 23585...|d2e3a3aa-09b5-45a...|    [2]|    []|       Usado| Apartamento|Residencial| [1]|[{245, null, Vend...|\n",
            "|    2|      [42]|     [42]|      [1]|[Churrasqueira, P...|{Paciência, 23585...|085bab2c-87ad-452...|    [2]|    []|       Usado| Apartamento|Residencial| [1]|[{0, 0, Venda, 15...|\n",
            "|    0|        []|     [12]|      [0]|[Portaria 24h, El...|{Centro, 20231047...|096ad966-dc36-47b...|    [0]|    []|       Usado|      Outros|  Comercial| [1]|[{250, null, Vend...|\n",
            "|    1|      [41]|     [41]|      [1]|[Portaria 24h, Co...|{Guaratiba, 23036...|18d22cbe-1b86-476...|    [2]|    []|       Usado| Apartamento|Residencial| [1]|[{0, 0, Venda, 20...|\n",
            "|    3|      [43]|     [43]|      [1]|[Churrasqueira, P...|{Cosmos, 23066271...|bed8a354-9317-442...|    [2]|    []|       Usado| Apartamento|Residencial| [0]|[{285, null, Vend...|\n",
            "|    0|      [10]|      [4]|      [0]|[Elevador, Portar...|{Centro, 20080021...|b7d0fbd3-0b28-420...|    [0]|    []|       Usado|      Outros|  Comercial| [0]|[{200, 86, Venda,...|\n",
            "|    0|      [12]|     [12]|      [1]|      [Portaria 24h]|{Copacabana, 2202...|c6571c11-166e-4a4...|    [0]|    []|       Usado|      Outros|  Comercial|  []|[{470, null, Vend...|\n",
            "|    0|      [17]|     [17]|      [0]|          [Elevador]|{Centro, 20070021...|46d5b560-205f-45f...|    [0]|    []|       Usado|      Outros|  Comercial| [1]|[{294, 98, Venda,...|\n",
            "|    1|      [32]|     [32]|       []|[Elevador, Condom...|{Centro, 20090020...|db197997-00e6-4d6...|     []|    []|       Usado|      Outros|  Comercial| [1]|[{684, null, Vend...|\n",
            "|    0|        []|     [10]|      [0]|[Elevador, Condom...|{Saúde, 20080040,...|835d4338-4aa9-4e4...|    [0]|    []|       Usado|      Outros|  Comercial|  []|[{0, 120, Venda, ...|\n",
            "|    2|      [43]|     [43]|      [1]|[Academia, Churra...|{Guaratiba, 23036...|12a13315-d67f-48f...|    [2]|    []|       Usado| Apartamento|Residencial| [1]|[{245, null, Vend...|\n",
            "|    3|      [43]|     [43]|      [1]|[Churrasqueira, P...|{Cosmos, 23066271...|a2e6d7a5-0ff0-484...|    [2]|   [0]|       Usado| Apartamento|Residencial| [0]|[{285, null, Vend...|\n",
            "|    3|      [43]|     [43]|      [1]|[Churrasqueira, P...|{Paciência, 23585...|a6e3173b-c950-4db...|    [2]|    []|       Usado| Apartamento|Residencial| [1]|[{250, null, Vend...|\n",
            "|    3|      [43]|     [43]|      [1]|[Churrasqueira, P...|{Guaratiba, 23036...|2e6e5dfb-206c-496...|    [2]|   [0]|       Usado| Apartamento|Residencial| [1]|[{245, null, Vend...|\n",
            "+-----+----------+---------+---------+--------------------+--------------------+--------------------+-------+------+------------+------------+-----------+----+--------------------+\n",
            "only showing top 20 rows\n",
            "\n"
          ]
        }
      ],
      "source": [
        "dados\\\n",
        "    .select(\n",
        "        'anuncio.*'\n",
        "    )\\\n",
        "    .show()"
      ]
    },
    {
      "cell_type": "code",
      "execution_count": 10,
      "metadata": {
        "id": "dqmABzxwZiaz"
      },
      "outputs": [],
      "source": [
        "anuncio=dados.select('anuncio.*')"
      ]
    },
    {
      "cell_type": "markdown",
      "metadata": {
        "id": "8g4NTPPK-NEZ"
      },
      "source": [
        "## Avalie a coluna `tipo_uso`\n",
        "\n",
        "Crie uma tabela de frequências segundo o tipo de uso dos imóveis"
      ]
    },
    {
      "cell_type": "code",
      "execution_count": 11,
      "metadata": {
        "colab": {
          "base_uri": "https://localhost:8080/"
        },
        "id": "WIYg3F0c-D_1",
        "outputId": "b6ce9ef3-cfad-4d59-f7ae-7a0b3cc2866c"
      },
      "outputs": [
        {
          "output_type": "stream",
          "name": "stdout",
          "text": [
            "+-----------+-----+\n",
            "|   tipo_uso|count|\n",
            "+-----------+-----+\n",
            "|  Comercial| 4542|\n",
            "|Residencial|84541|\n",
            "+-----------+-----+\n",
            "\n"
          ]
        }
      ],
      "source": [
        "anuncio\\\n",
        "    .select('tipo_uso')\\\n",
        "    .groupBy('tipo_uso')\\\n",
        "    .count()\\\n",
        "    .show()"
      ]
    },
    {
      "cell_type": "markdown",
      "metadata": {
        "id": "5iv5wp58aOyZ"
      },
      "source": [
        "Como a formação de preços de imóveis residenciais e comerciais seguem padrões diferentes, a equipe de cientistas de dados solicitou que fossem apenas coletadas informações para imóveis residenciais. Remova os registros do tipo comercial de nosso DataFrame."
      ]
    },
    {
      "cell_type": "code",
      "execution_count": 12,
      "metadata": {
        "id": "ZBAzCwSJZ-ie"
      },
      "outputs": [],
      "source": [
        "anuncio=anuncio.filter('tipo_uso==\"Residencial\"')"
      ]
    },
    {
      "cell_type": "code",
      "execution_count": 13,
      "metadata": {
        "colab": {
          "base_uri": "https://localhost:8080/"
        },
        "id": "CYxqv5MIbIPv",
        "outputId": "f8c09cb6-e3f8-42e5-a367-b89e802e9b8d"
      },
      "outputs": [
        {
          "output_type": "stream",
          "name": "stdout",
          "text": [
            "+-----------+-----+\n",
            "|   tipo_uso|count|\n",
            "+-----------+-----+\n",
            "|Residencial|84541|\n",
            "+-----------+-----+\n",
            "\n"
          ]
        }
      ],
      "source": [
        "anuncio\\\n",
        "    .groupBy('tipo_uso')\\\n",
        "    .count()\\\n",
        "    .show()"
      ]
    },
    {
      "cell_type": "markdown",
      "metadata": {
        "id": "3n3qMYhDgRE9"
      },
      "source": [
        "## Avalie a coluna `tipo_unidade`\n",
        "\n",
        "Crie uma tabela de frequências segundo o tipo de imóveis"
      ]
    },
    {
      "cell_type": "code",
      "execution_count": 14,
      "metadata": {
        "colab": {
          "base_uri": "https://localhost:8080/"
        },
        "id": "khvDpMPjbcuG",
        "outputId": "54df5fda-fd11-4702-baa0-cfb029356d71"
      },
      "outputs": [
        {
          "output_type": "stream",
          "name": "stdout",
          "text": [
            "+------------+-----+\n",
            "|tipo_unidade|count|\n",
            "+------------+-----+\n",
            "|      Outros| 7517|\n",
            "| Apartamento|66797|\n",
            "|        Casa|10227|\n",
            "+------------+-----+\n",
            "\n"
          ]
        }
      ],
      "source": [
        "anuncio\\\n",
        "    .groupBy('tipo_unidade')\\\n",
        "    .count()\\\n",
        "    .show()"
      ]
    },
    {
      "cell_type": "markdown",
      "metadata": {
        "id": "EUt-TB5ngfdI"
      },
      "source": [
        "Temos três categorias (apartamento, casa e outros). A equipe de cientistas de dados solicitou apenas a extração de informações sobre APARTAMENTOS. Vamos fazer a filtragem apenas para estes tipo e atualizar nosso DataFrame."
      ]
    },
    {
      "cell_type": "code",
      "execution_count": 15,
      "metadata": {
        "id": "J9smPOiQgbmx"
      },
      "outputs": [],
      "source": [
        "anuncio=anuncio.filter('tipo_unidade==\"Apartamento\"')"
      ]
    },
    {
      "cell_type": "code",
      "execution_count": 16,
      "metadata": {
        "colab": {
          "base_uri": "https://localhost:8080/"
        },
        "id": "F-8layw9iGMD",
        "outputId": "226f6896-0eac-4b5b-8ec7-dc1519d90c38"
      },
      "outputs": [
        {
          "output_type": "stream",
          "name": "stdout",
          "text": [
            "+------------+-----+\n",
            "|tipo_unidade|count|\n",
            "+------------+-----+\n",
            "| Apartamento|66797|\n",
            "+------------+-----+\n",
            "\n"
          ]
        }
      ],
      "source": [
        "anuncio\\\n",
        "    .groupBy('tipo_unidade')\\\n",
        "    .count()\\\n",
        "    .show()"
      ]
    },
    {
      "cell_type": "markdown",
      "metadata": {
        "id": "AK86ldeWkX2K"
      },
      "source": [
        "## Avaliando as informações de configuração dos imóveis\n",
        "\n",
        "As informações de configuração dos imóveis podem ser obtidas nas colunas `quartos`, `suites`, `banheiros`, `vaga`, `area_total`, `area_util`. Note que elas vêm em formato de listas e isso tem um motivo.\n",
        "\n",
        "A imobiliário InsightPlaces trabalha com dois tipos de imóveis. Imóveis usados e imóveis novos (lançamentos). Os imóveis novos geralmente são anunciados ainda em fase de construção e quando são feitos anúncios deste tipo de imóvel o que realmente é anunciado é o empreendimento e não apenas uma das unidades do empreendimento. Acontece que em um empreendimento pode ocorrer de existir mais de um tipo de configuração para os imóveis (exemplo: imóveis de 2 a 4 quartos).\n",
        "\n",
        "Para dar suporte a este tipo de anúncio os campos acima citados são configurados como listas e no caso de imóveis usados são preenchidos apenas com um valor (exemplo: imóvel de 2 quartos -> [2]) e no caso dos lançamentos podem ser preenchidos com apenas um valor (quando o empreendimento tem imóveis com a mesma configuração) ou com dois valores (quando o empreendimento apresenta imóveis com mais configurações. Exemplos: imóveis de 2 a 4 quartos -> [2, 4]).\n",
        "\n",
        "Vamos fazer um filtro segundo o tipo de anúncio para mostrar apenas os imóveis do tipo LANÇAMENTO e verificar a ocorrência destes casos de empreendimentos com imóveis com mais de uma configuração (vamos selecionar apenas as colunas `quartos`, `suites`, `banheiros`, `vaga`, `area_total`, `area_util`)."
      ]
    },
    {
      "cell_type": "code",
      "execution_count": 17,
      "metadata": {
        "colab": {
          "base_uri": "https://localhost:8080/"
        },
        "id": "1u8aaJqqifbU",
        "outputId": "1382fcf1-ae12-4c80-a3b5-8c712b94b5f3"
      },
      "outputs": [
        {
          "output_type": "stream",
          "name": "stdout",
          "text": [
            "+-------+------+---------+------+----------+---------+\n",
            "|quartos|suites|banheiros|  vaga|area_total|area_util|\n",
            "+-------+------+---------+------+----------+---------+\n",
            "| [1, 2]|   [0]|      [0]|   [0]|        []| [41, 51]|\n",
            "| [1, 2]|   [0]|      [0]|   [0]|        []|     [41]|\n",
            "|    [0]|   [0]|      [1]|   [0]|        []| [21, 22]|\n",
            "|    [0]|   [0]|      [0]|   [0]|        []|[20, 159]|\n",
            "|    [0]|   [0]|      [0]|   [0]|        []|[22, 150]|\n",
            "|    [0]|   [0]|      [0]|   [1]|        []| [20, 51]|\n",
            "|    [0]|   [0]|      [0]|   [0]|        []|[27, 202]|\n",
            "| [1, 2]|   [1]|      [2]|   [1]|        []|[39, 112]|\n",
            "|    [2]|   [0]|      [1]|   [1]|        []| [41, 45]|\n",
            "| [2, 3]|   [0]|      [1]|   [1]|        []| [43, 52]|\n",
            "|    [2]|   [0]|      [1]|   [1]|        []| [41, 45]|\n",
            "| [1, 2]|[1, 2]|   [1, 2]|[1, 2]|        []| [30, 66]|\n",
            "|    [2]|   [0]|      [1]|   [1]|        []| [43, 48]|\n",
            "| [1, 2]|   [0]|      [1]|   [1]|        []| [35, 40]|\n",
            "| [1, 2]|   [0]|      [1]|[0, 1]|        []| [32, 43]|\n",
            "| [1, 2]|[0, 1]|   [1, 2]|[0, 1]|        []| [31, 50]|\n",
            "|    [0]|   [0]|      [0]|   [0]|        []|[21, 408]|\n",
            "| [1, 2]|   [1]|      [2]|   [1]|        []|     [48]|\n",
            "|    [1]|   [1]|   [1, 2]|[0, 2]|        []|[32, 110]|\n",
            "| [1, 2]|   [0]|      [1]|[0, 1]|        []| [44, 82]|\n",
            "+-------+------+---------+------+----------+---------+\n",
            "only showing top 20 rows\n",
            "\n"
          ]
        }
      ],
      "source": [
        "anuncio\\\n",
        "    .select('quartos', 'suites', 'banheiros', 'vaga', 'area_total', 'area_util')\\\n",
        "    .filter('tipo_anuncio==\"Lançamento\"')\\\n",
        "    .show()"
      ]
    },
    {
      "cell_type": "markdown",
      "metadata": {
        "id": "vyhom9RCo7AZ"
      },
      "source": [
        "Neste contexto precisamos acrescentar duas etapas em nosso pipeline de extração e tratamento dos dados para a equipe de ciência de dados da imobiliária. Primeiro precisamos eliminar os registros de lançamentos e depois transformar os dados em formato de lista para o formato numérico.\n",
        "\n",
        "O primeiro procedimento foi um pedido do próprio time de cientistas de dados, visto que o objetivo do projeto e avaliar imóveis usados e o segundo procedimento seria um tratamento básico para possibilitar a utilização dos dados por algoritmos de machine learning."
      ]
    },
    {
      "cell_type": "markdown",
      "metadata": {
        "id": "nxp1KKxzqxY8"
      },
      "source": [
        "## Selecione apenas os imóveis usados"
      ]
    },
    {
      "cell_type": "code",
      "execution_count": 18,
      "metadata": {
        "colab": {
          "base_uri": "https://localhost:8080/"
        },
        "id": "ZXJr-JrNodVk",
        "outputId": "67e641a6-6255-452f-9850-0ed2adae3f16"
      },
      "outputs": [
        {
          "output_type": "stream",
          "name": "stdout",
          "text": [
            "+------------+-----+\n",
            "|tipo_anuncio|count|\n",
            "+------------+-----+\n",
            "|       Usado|66562|\n",
            "|  Lançamento|  235|\n",
            "+------------+-----+\n",
            "\n"
          ]
        }
      ],
      "source": [
        "anuncio\\\n",
        "    .groupBy('tipo_anuncio')\\\n",
        "    .count()\\\n",
        "    .show()"
      ]
    },
    {
      "cell_type": "code",
      "execution_count": 19,
      "metadata": {
        "id": "aizezSZ-qQ_X"
      },
      "outputs": [],
      "source": [
        "anuncio=anuncio.filter('tipo_anuncio==\"Usado\"')"
      ]
    },
    {
      "cell_type": "code",
      "execution_count": 20,
      "metadata": {
        "colab": {
          "base_uri": "https://localhost:8080/"
        },
        "id": "SyngVOl0qX_s",
        "outputId": "f2584401-ce74-43b8-9050-db92cd8a9687"
      },
      "outputs": [
        {
          "output_type": "stream",
          "name": "stdout",
          "text": [
            "+------------+-----+\n",
            "|tipo_anuncio|count|\n",
            "+------------+-----+\n",
            "|       Usado|66562|\n",
            "+------------+-----+\n",
            "\n"
          ]
        }
      ],
      "source": [
        "anuncio\\\n",
        "    .groupBy('tipo_anuncio')\\\n",
        "    .count()\\\n",
        "    .show()"
      ]
    },
    {
      "cell_type": "markdown",
      "metadata": {
        "id": "ZlBYdeOPq1Cg"
      },
      "source": [
        "## Transforme as colunas de configuração dos imóveis de listas para inteiros"
      ]
    },
    {
      "cell_type": "code",
      "execution_count": 21,
      "metadata": {
        "id": "6MCp6ucYrbux"
      },
      "outputs": [],
      "source": [
        "from pyspark.sql import functions as f"
      ]
    },
    {
      "cell_type": "markdown",
      "metadata": {
        "id": "UPvevlNDsFzD"
      },
      "source": [
        "### Passo 1 - Ter certeza que temos apenas listas com apenas um elemento"
      ]
    },
    {
      "cell_type": "code",
      "execution_count": 22,
      "metadata": {
        "colab": {
          "base_uri": "https://localhost:8080/"
        },
        "id": "UIw5wu63sEKw",
        "outputId": "bd0b4931-b5c8-43bd-dbd0-b2423afdec39"
      },
      "outputs": [
        {
          "output_type": "stream",
          "name": "stdout",
          "text": [
            "+-------+-----+\n",
            "|quartos|count|\n",
            "+-------+-----+\n",
            "|      1|66562|\n",
            "+-------+-----+\n",
            "\n"
          ]
        }
      ],
      "source": [
        "anuncio\\\n",
        "    .select(f.size(f.col('quartos')).alias('quartos'))\\\n",
        "    .groupBy('quartos')\\\n",
        "    .count()\\\n",
        "    .show()"
      ]
    },
    {
      "cell_type": "code",
      "execution_count": 23,
      "metadata": {
        "id": "HNIHFBG8Z7tk"
      },
      "outputs": [],
      "source": [
        "caracteristicas = ['quartos', 'suites', 'banheiros', 'vaga', 'area_total', 'area_util']"
      ]
    },
    {
      "cell_type": "code",
      "execution_count": 24,
      "metadata": {
        "colab": {
          "base_uri": "https://localhost:8080/"
        },
        "id": "rct9a2PBT1Kr",
        "outputId": "5fa6e552-b178-45e6-9407-315be17186a6"
      },
      "outputs": [
        {
          "output_type": "stream",
          "name": "stdout",
          "text": [
            "+-------+-----+\n",
            "|quartos|count|\n",
            "+-------+-----+\n",
            "|      1|66562|\n",
            "+-------+-----+\n",
            "\n",
            "+------+-----+\n",
            "|suites|count|\n",
            "+------+-----+\n",
            "|     1|61008|\n",
            "|     0| 5554|\n",
            "+------+-----+\n",
            "\n",
            "+---------+-----+\n",
            "|banheiros|count|\n",
            "+---------+-----+\n",
            "|        1|66562|\n",
            "+---------+-----+\n",
            "\n",
            "+----+-----+\n",
            "|vaga|count|\n",
            "+----+-----+\n",
            "|   1|63545|\n",
            "|   0| 3017|\n",
            "+----+-----+\n",
            "\n",
            "+----------+-----+\n",
            "|area_total|count|\n",
            "+----------+-----+\n",
            "|         1|57368|\n",
            "|         0| 9194|\n",
            "+----------+-----+\n",
            "\n",
            "+---------+-----+\n",
            "|area_util|count|\n",
            "+---------+-----+\n",
            "|        1|66562|\n",
            "+---------+-----+\n",
            "\n"
          ]
        }
      ],
      "source": [
        "for col in caracteristicas:\n",
        "    anuncio.select(f.size(f.col(col)).alias(col)).groupBy(col).count().show()"
      ]
    },
    {
      "cell_type": "markdown",
      "metadata": {
        "id": "s2zvYAmge-Pn"
      },
      "source": [
        "Verificamos que as colunas `suites`, `vaga` e `area_total` apresentam listas vazias em alguns registros. No caso das colunas `suites` e `vagas` podemos considerar que a falta de informação indica que este atributo não existe no imóvel e portanto podemos inputar o valor zero. No caso da coluna `area_total` pode ser resultado de outros fatores."
      ]
    },
    {
      "cell_type": "markdown",
      "metadata": {
        "id": "FgKZ234pgEeO"
      },
      "source": [
        "### Passo 2 - Substituir as listas pelos valores"
      ]
    },
    {
      "cell_type": "code",
      "execution_count": 25,
      "metadata": {
        "colab": {
          "base_uri": "https://localhost:8080/"
        },
        "id": "Ys3uQfcZrl3u",
        "outputId": "3553dedd-d350-4c55-d62a-0fa197cd2a26"
      },
      "outputs": [
        {
          "output_type": "stream",
          "name": "stdout",
          "text": [
            "+-----+----------+---------+---------+--------------------+--------------------+--------------------+-------+------+------------+------------+-----------+----+--------------------+\n",
            "|andar|area_total|area_util|banheiros|     caracteristicas|            endereco|                  id|quartos|suites|tipo_anuncio|tipo_unidade|   tipo_uso|vaga|             valores|\n",
            "+-----+----------+---------+---------+--------------------+--------------------+--------------------+-------+------+------------+------------+-----------+----+--------------------+\n",
            "|    3|        43|       43|        1|[Academia, Churra...|{Paciência, 23585...|d2e3a3aa-09b5-45a...|      2|  null|       Usado| Apartamento|Residencial|   1|[{245, null, Vend...|\n",
            "|    2|        42|       42|        1|[Churrasqueira, P...|{Paciência, 23585...|085bab2c-87ad-452...|      2|  null|       Usado| Apartamento|Residencial|   1|[{0, 0, Venda, 15...|\n",
            "|    1|        41|       41|        1|[Portaria 24h, Co...|{Guaratiba, 23036...|18d22cbe-1b86-476...|      2|  null|       Usado| Apartamento|Residencial|   1|[{0, 0, Venda, 20...|\n",
            "|    3|        43|       43|        1|[Churrasqueira, P...|{Cosmos, 23066271...|bed8a354-9317-442...|      2|  null|       Usado| Apartamento|Residencial|   0|[{285, null, Vend...|\n",
            "|    2|        43|       43|        1|[Academia, Churra...|{Guaratiba, 23036...|12a13315-d67f-48f...|      2|  null|       Usado| Apartamento|Residencial|   1|[{245, null, Vend...|\n",
            "|    3|        43|       43|        1|[Churrasqueira, P...|{Cosmos, 23066271...|a2e6d7a5-0ff0-484...|      2|     0|       Usado| Apartamento|Residencial|   0|[{285, null, Vend...|\n",
            "|    3|        43|       43|        1|[Churrasqueira, P...|{Paciência, 23585...|a6e3173b-c950-4db...|      2|  null|       Usado| Apartamento|Residencial|   1|[{250, null, Vend...|\n",
            "|    3|        43|       43|        1|[Churrasqueira, P...|{Guaratiba, 23036...|2e6e5dfb-206c-496...|      2|     0|       Usado| Apartamento|Residencial|   1|[{245, null, Vend...|\n",
            "|    3|        43|       43|        1|[Churrasqueira, P...|{Paciência, 23585...|99f8d0f9-95a4-461...|      2|     0|       Usado| Apartamento|Residencial|   1|[{245, null, Vend...|\n",
            "|    4|        43|       43|        1|[Churrasqueira, P...|{Guaratiba, 23036...|b3f44c1a-2d50-4d5...|      2|  null|       Usado| Apartamento|Residencial|   1|[{240, null, Vend...|\n",
            "|    0|        60|       60|        1|[Condomínio fechado]|{Pedra de Guarati...|dc99d9e1-4c63-41f...|      2|  null|       Usado| Apartamento|Residencial|   1|[{0, 0, Venda, 15...|\n",
            "|    1|        43|       43|        1|[Churrasqueira, P...|{Cosmos, 23056630...|aa3606d8-8bcd-45e...|      2|  null|       Usado| Apartamento|Residencial|   1|[{240, 0, Venda, ...|\n",
            "|    0|        43|       43|        1|[Churrasqueira, P...|{Campo Grande, 23...|df80b0d5-677c-4be...|      2|     0|       Usado| Apartamento|Residencial|   0|[{245, null, Vend...|\n",
            "|    2|        43|       43|        1|[Academia, Churra...|{Santa Cruz, 2352...|3d6c0218-9b7d-474...|      2|  null|       Usado| Apartamento|Residencial|   2|[{290, null, Vend...|\n",
            "|    3|        43|       43|        1|[Salão de festas,...|{Guaratiba, 23020...|304266cc-62d1-4ce...|      2|  null|       Usado| Apartamento|Residencial|null|[{285, null, Vend...|\n",
            "|    4|        55|       55|        2|[Academia, Churra...|{Recreio dos Band...|111472a2-afa1-4a7...|      2|     1|       Usado| Apartamento|Residencial|   1|[{0, 0, Venda, 30...|\n",
            "|    0|        45|       45|        1|[Playground, Pisc...|{Cosmos, 23066271...|275c1589-6537-4bf...|      2|     0|       Usado| Apartamento|Residencial|   1|[{null, null, Ven...|\n",
            "|    5|        42|       42|        1|[Condomínio fecha...|{Realengo, 217251...|ab8f367f-7509-45c...|      2|     0|       Usado| Apartamento|Residencial|   0|[{280, 0, Venda, ...|\n",
            "|    1|        43|       43|        1|[Churrasqueira, P...|{Cosmos, 23058001...|e0a3d370-66dd-4f5...|      2|  null|       Usado| Apartamento|Residencial|   1|[{280, null, Vend...|\n",
            "|    3|      null|       55|        1|[Academia, Churra...|{Todos os Santos,...|09c8ba2d-dbf1-487...|      2|     1|       Usado| Apartamento|Residencial|   1|[{0, 0, Venda, 26...|\n",
            "+-----+----------+---------+---------+--------------------+--------------------+--------------------+-------+------+------------+------------+-----------+----+--------------------+\n",
            "only showing top 20 rows\n",
            "\n"
          ]
        }
      ],
      "source": [
        "anuncio\\\n",
        "    .select([f.col(c)[0].alias(c) if c in caracteristicas else c for c in anuncio.columns])\\\n",
        "    .show()"
      ]
    },
    {
      "cell_type": "code",
      "execution_count": 26,
      "metadata": {
        "id": "rAkfY9-jqZn-"
      },
      "outputs": [],
      "source": [
        "anuncio=anuncio.select([f.col(c)[0].alias(c) if c in caracteristicas else c for c in anuncio.columns])"
      ]
    },
    {
      "cell_type": "code",
      "execution_count": 27,
      "metadata": {
        "colab": {
          "base_uri": "https://localhost:8080/"
        },
        "id": "jwE97nJvTiNS",
        "outputId": "f1a99da9-4829-484d-9645-d696db4b03a8"
      },
      "outputs": [
        {
          "output_type": "stream",
          "name": "stdout",
          "text": [
            "+-----+----------+---------+---------+--------------------+--------------------+--------------------+-------+------+------------+------------+-----------+----+--------------------+\n",
            "|andar|area_total|area_util|banheiros|     caracteristicas|            endereco|                  id|quartos|suites|tipo_anuncio|tipo_unidade|   tipo_uso|vaga|             valores|\n",
            "+-----+----------+---------+---------+--------------------+--------------------+--------------------+-------+------+------------+------------+-----------+----+--------------------+\n",
            "|    3|        43|       43|        1|[Academia, Churra...|{Paciência, 23585...|d2e3a3aa-09b5-45a...|      2|  null|       Usado| Apartamento|Residencial|   1|[{245, null, Vend...|\n",
            "|    2|        42|       42|        1|[Churrasqueira, P...|{Paciência, 23585...|085bab2c-87ad-452...|      2|  null|       Usado| Apartamento|Residencial|   1|[{0, 0, Venda, 15...|\n",
            "|    1|        41|       41|        1|[Portaria 24h, Co...|{Guaratiba, 23036...|18d22cbe-1b86-476...|      2|  null|       Usado| Apartamento|Residencial|   1|[{0, 0, Venda, 20...|\n",
            "|    3|        43|       43|        1|[Churrasqueira, P...|{Cosmos, 23066271...|bed8a354-9317-442...|      2|  null|       Usado| Apartamento|Residencial|   0|[{285, null, Vend...|\n",
            "|    2|        43|       43|        1|[Academia, Churra...|{Guaratiba, 23036...|12a13315-d67f-48f...|      2|  null|       Usado| Apartamento|Residencial|   1|[{245, null, Vend...|\n",
            "|    3|        43|       43|        1|[Churrasqueira, P...|{Cosmos, 23066271...|a2e6d7a5-0ff0-484...|      2|     0|       Usado| Apartamento|Residencial|   0|[{285, null, Vend...|\n",
            "|    3|        43|       43|        1|[Churrasqueira, P...|{Paciência, 23585...|a6e3173b-c950-4db...|      2|  null|       Usado| Apartamento|Residencial|   1|[{250, null, Vend...|\n",
            "|    3|        43|       43|        1|[Churrasqueira, P...|{Guaratiba, 23036...|2e6e5dfb-206c-496...|      2|     0|       Usado| Apartamento|Residencial|   1|[{245, null, Vend...|\n",
            "|    3|        43|       43|        1|[Churrasqueira, P...|{Paciência, 23585...|99f8d0f9-95a4-461...|      2|     0|       Usado| Apartamento|Residencial|   1|[{245, null, Vend...|\n",
            "|    4|        43|       43|        1|[Churrasqueira, P...|{Guaratiba, 23036...|b3f44c1a-2d50-4d5...|      2|  null|       Usado| Apartamento|Residencial|   1|[{240, null, Vend...|\n",
            "|    0|        60|       60|        1|[Condomínio fechado]|{Pedra de Guarati...|dc99d9e1-4c63-41f...|      2|  null|       Usado| Apartamento|Residencial|   1|[{0, 0, Venda, 15...|\n",
            "|    1|        43|       43|        1|[Churrasqueira, P...|{Cosmos, 23056630...|aa3606d8-8bcd-45e...|      2|  null|       Usado| Apartamento|Residencial|   1|[{240, 0, Venda, ...|\n",
            "|    0|        43|       43|        1|[Churrasqueira, P...|{Campo Grande, 23...|df80b0d5-677c-4be...|      2|     0|       Usado| Apartamento|Residencial|   0|[{245, null, Vend...|\n",
            "|    2|        43|       43|        1|[Academia, Churra...|{Santa Cruz, 2352...|3d6c0218-9b7d-474...|      2|  null|       Usado| Apartamento|Residencial|   2|[{290, null, Vend...|\n",
            "|    3|        43|       43|        1|[Salão de festas,...|{Guaratiba, 23020...|304266cc-62d1-4ce...|      2|  null|       Usado| Apartamento|Residencial|null|[{285, null, Vend...|\n",
            "|    4|        55|       55|        2|[Academia, Churra...|{Recreio dos Band...|111472a2-afa1-4a7...|      2|     1|       Usado| Apartamento|Residencial|   1|[{0, 0, Venda, 30...|\n",
            "|    0|        45|       45|        1|[Playground, Pisc...|{Cosmos, 23066271...|275c1589-6537-4bf...|      2|     0|       Usado| Apartamento|Residencial|   1|[{null, null, Ven...|\n",
            "|    5|        42|       42|        1|[Condomínio fecha...|{Realengo, 217251...|ab8f367f-7509-45c...|      2|     0|       Usado| Apartamento|Residencial|   0|[{280, 0, Venda, ...|\n",
            "|    1|        43|       43|        1|[Churrasqueira, P...|{Cosmos, 23058001...|e0a3d370-66dd-4f5...|      2|  null|       Usado| Apartamento|Residencial|   1|[{280, null, Vend...|\n",
            "|    3|      null|       55|        1|[Academia, Churra...|{Todos os Santos,...|09c8ba2d-dbf1-487...|      2|     1|       Usado| Apartamento|Residencial|   1|[{0, 0, Venda, 26...|\n",
            "+-----+----------+---------+---------+--------------------+--------------------+--------------------+-------+------+------------+------------+-----------+----+--------------------+\n",
            "only showing top 20 rows\n",
            "\n"
          ]
        }
      ],
      "source": [
        "anuncio.show()"
      ]
    },
    {
      "cell_type": "markdown",
      "metadata": {
        "id": "uN-IhfKdUDi0"
      },
      "source": [
        "## Tratamento para as informações sobre localização\n",
        "\n",
        "A InsightPlaces opera apenas com imóveis na cidade do Rio de Janeiro e a equipe de ciência de dados nos solicitou que apenas as informações sobre bairro e zona da cidade fossem extraídas. Vamos analisar a coluna `endereco` e transformar apenas as informações sobre bairro e zona em colunas de nosso DataFrame."
      ]
    },
    {
      "cell_type": "code",
      "execution_count": 28,
      "metadata": {
        "colab": {
          "base_uri": "https://localhost:8080/"
        },
        "id": "NeVwjwVaTmNU",
        "outputId": "96117e60-eae6-4840-d636-761a0eb99cbf"
      },
      "outputs": [
        {
          "output_type": "stream",
          "name": "stdout",
          "text": [
            "+--------------------+--------+--------------+--------------+----------+----------+----+--------------------+----------+\n",
            "|              bairro|     cep|        cidade|        estado|  latitude| longitude|pais|                 rua|      zona|\n",
            "+--------------------+--------+--------------+--------------+----------+----------+----+--------------------+----------+\n",
            "|           Paciência|23585430|Rio de Janeiro|Rio de Janeiro|-22.919851|-43.634034|  BR|Estrada de Santa ...|Zona Oeste|\n",
            "|           Paciência|23585430|Rio de Janeiro|Rio de Janeiro|-22.928108|-43.635375|  BR|Estrada de Santa ...|Zona Oeste|\n",
            "|           Guaratiba|23036060|Rio de Janeiro|Rio de Janeiro|-22.948756|-43.582824|  BR|Estrada Cabuçu de...|Zona Oeste|\n",
            "|              Cosmos|23066271|Rio de Janeiro|Rio de Janeiro|-22.888194|-43.629602|  BR|Estrada da Paciência|Zona Oeste|\n",
            "|           Guaratiba|23036060|Rio de Janeiro|Rio de Janeiro|-22.948291|-43.582205|  BR|Estrada Cabuçu de...|Zona Oeste|\n",
            "|              Cosmos|23066271|Rio de Janeiro|Rio de Janeiro|-22.888194|-43.629602|  BR|Estrada da Paciência|Zona Oeste|\n",
            "|           Paciência|23585430|Rio de Janeiro|Rio de Janeiro|-22.919851|-43.634034|  BR|Estrada de Santa ...|Zona Oeste|\n",
            "|           Guaratiba|23036060|Rio de Janeiro|Rio de Janeiro|-22.948291|-43.582205|  BR|Estrada Cabuçu de...|Zona Oeste|\n",
            "|           Paciência|23585430|Rio de Janeiro|Rio de Janeiro|-22.919851|-43.634034|  BR|Estrada de Santa ...|Zona Oeste|\n",
            "|           Guaratiba|23036060|Rio de Janeiro|Rio de Janeiro|-22.948291|-43.582205|  BR|Estrada Cabuçu de...|Zona Oeste|\n",
            "|  Pedra de Guaratiba|23025018|Rio de Janeiro|Rio de Janeiro|-22.991393|-43.628042|  BR|Rua Cento e Trint...|Zona Oeste|\n",
            "|              Cosmos|23056630|Rio de Janeiro|Rio de Janeiro|-22.918594|-43.611184|  BR|   Rua das Amoreiras|Zona Oeste|\n",
            "|        Campo Grande|23070600|Rio de Janeiro|Rio de Janeiro|-22.883694|-43.593646|  BR|    Rua Constituinte|Zona Oeste|\n",
            "|          Santa Cruz|23520560|Rio de Janeiro|Rio de Janeiro|-22.945648|-43.640029|  BR|Estrada de Santa ...|Zona Oeste|\n",
            "|           Guaratiba|23020135|Rio de Janeiro|Rio de Janeiro|-22.936475|-43.583306|  BR|   Rua Seis de Julho|Zona Oeste|\n",
            "|Recreio dos Bande...|22790880|Rio de Janeiro|Rio de Janeiro|-23.022323|-43.509961|  BR|Rua Luiz Carlos S...|Zona Oeste|\n",
            "|              Cosmos|23066271|Rio de Janeiro|Rio de Janeiro| -22.88939|-43.629587|  BR|Estrada da Paciência|Zona Oeste|\n",
            "|            Realengo|21725180|Rio de Janeiro|Rio de Janeiro|-22.857776|-43.448282|  BR| Rua Hélio do Amaral|Zona Oeste|\n",
            "|              Cosmos|23058001|Rio de Janeiro|Rio de Janeiro|-22.915615| -43.61736|  BR|Avenida Cesário d...|Zona Oeste|\n",
            "|     Todos os Santos|20770240|Rio de Janeiro|Rio de Janeiro|-22.896488|-43.282714|  BR|  Rua José Bonifácio|Zona Norte|\n",
            "+--------------------+--------+--------------+--------------+----------+----------+----+--------------------+----------+\n",
            "only showing top 20 rows\n",
            "\n"
          ]
        }
      ],
      "source": [
        "anuncio\\\n",
        "    .select('endereco.*')\\\n",
        "    .show()"
      ]
    },
    {
      "cell_type": "code",
      "execution_count": 29,
      "metadata": {
        "colab": {
          "base_uri": "https://localhost:8080/"
        },
        "id": "QanjONxeVrDz",
        "outputId": "0bf43046-5672-4c4c-8ee9-9996e74dc448"
      },
      "outputs": [
        {
          "output_type": "stream",
          "name": "stdout",
          "text": [
            "+--------------------+----------+\n",
            "|              bairro|      zona|\n",
            "+--------------------+----------+\n",
            "|           Paciência|Zona Oeste|\n",
            "|           Paciência|Zona Oeste|\n",
            "|           Guaratiba|Zona Oeste|\n",
            "|              Cosmos|Zona Oeste|\n",
            "|           Guaratiba|Zona Oeste|\n",
            "|              Cosmos|Zona Oeste|\n",
            "|           Paciência|Zona Oeste|\n",
            "|           Guaratiba|Zona Oeste|\n",
            "|           Paciência|Zona Oeste|\n",
            "|           Guaratiba|Zona Oeste|\n",
            "|  Pedra de Guaratiba|Zona Oeste|\n",
            "|              Cosmos|Zona Oeste|\n",
            "|        Campo Grande|Zona Oeste|\n",
            "|          Santa Cruz|Zona Oeste|\n",
            "|           Guaratiba|Zona Oeste|\n",
            "|Recreio dos Bande...|Zona Oeste|\n",
            "|              Cosmos|Zona Oeste|\n",
            "|            Realengo|Zona Oeste|\n",
            "|              Cosmos|Zona Oeste|\n",
            "|     Todos os Santos|Zona Norte|\n",
            "+--------------------+----------+\n",
            "only showing top 20 rows\n",
            "\n"
          ]
        }
      ],
      "source": [
        "anuncio\\\n",
        "    .select('endereco.bairro', 'endereco.zona')\\\n",
        "    .show()"
      ]
    },
    {
      "cell_type": "code",
      "execution_count": 30,
      "metadata": {
        "colab": {
          "base_uri": "https://localhost:8080/"
        },
        "id": "GfLzbPFAWdI4",
        "outputId": "5e3d2eaa-af4f-42c4-99a2-060c26e98f09"
      },
      "outputs": [
        {
          "output_type": "stream",
          "name": "stdout",
          "text": [
            "+-----+----------+---------+---------+--------------------+--------------------+-------+------+------------+------------+-----------+----+--------------------+--------------------+----------+\n",
            "|andar|area_total|area_util|banheiros|     caracteristicas|                  id|quartos|suites|tipo_anuncio|tipo_unidade|   tipo_uso|vaga|             valores|              bairro|      zona|\n",
            "+-----+----------+---------+---------+--------------------+--------------------+-------+------+------------+------------+-----------+----+--------------------+--------------------+----------+\n",
            "|    3|        43|       43|        1|[Academia, Churra...|d2e3a3aa-09b5-45a...|      2|  null|       Usado| Apartamento|Residencial|   1|[{245, null, Vend...|           Paciência|Zona Oeste|\n",
            "|    2|        42|       42|        1|[Churrasqueira, P...|085bab2c-87ad-452...|      2|  null|       Usado| Apartamento|Residencial|   1|[{0, 0, Venda, 15...|           Paciência|Zona Oeste|\n",
            "|    1|        41|       41|        1|[Portaria 24h, Co...|18d22cbe-1b86-476...|      2|  null|       Usado| Apartamento|Residencial|   1|[{0, 0, Venda, 20...|           Guaratiba|Zona Oeste|\n",
            "|    3|        43|       43|        1|[Churrasqueira, P...|bed8a354-9317-442...|      2|  null|       Usado| Apartamento|Residencial|   0|[{285, null, Vend...|              Cosmos|Zona Oeste|\n",
            "|    2|        43|       43|        1|[Academia, Churra...|12a13315-d67f-48f...|      2|  null|       Usado| Apartamento|Residencial|   1|[{245, null, Vend...|           Guaratiba|Zona Oeste|\n",
            "|    3|        43|       43|        1|[Churrasqueira, P...|a2e6d7a5-0ff0-484...|      2|     0|       Usado| Apartamento|Residencial|   0|[{285, null, Vend...|              Cosmos|Zona Oeste|\n",
            "|    3|        43|       43|        1|[Churrasqueira, P...|a6e3173b-c950-4db...|      2|  null|       Usado| Apartamento|Residencial|   1|[{250, null, Vend...|           Paciência|Zona Oeste|\n",
            "|    3|        43|       43|        1|[Churrasqueira, P...|2e6e5dfb-206c-496...|      2|     0|       Usado| Apartamento|Residencial|   1|[{245, null, Vend...|           Guaratiba|Zona Oeste|\n",
            "|    3|        43|       43|        1|[Churrasqueira, P...|99f8d0f9-95a4-461...|      2|     0|       Usado| Apartamento|Residencial|   1|[{245, null, Vend...|           Paciência|Zona Oeste|\n",
            "|    4|        43|       43|        1|[Churrasqueira, P...|b3f44c1a-2d50-4d5...|      2|  null|       Usado| Apartamento|Residencial|   1|[{240, null, Vend...|           Guaratiba|Zona Oeste|\n",
            "|    0|        60|       60|        1|[Condomínio fechado]|dc99d9e1-4c63-41f...|      2|  null|       Usado| Apartamento|Residencial|   1|[{0, 0, Venda, 15...|  Pedra de Guaratiba|Zona Oeste|\n",
            "|    1|        43|       43|        1|[Churrasqueira, P...|aa3606d8-8bcd-45e...|      2|  null|       Usado| Apartamento|Residencial|   1|[{240, 0, Venda, ...|              Cosmos|Zona Oeste|\n",
            "|    0|        43|       43|        1|[Churrasqueira, P...|df80b0d5-677c-4be...|      2|     0|       Usado| Apartamento|Residencial|   0|[{245, null, Vend...|        Campo Grande|Zona Oeste|\n",
            "|    2|        43|       43|        1|[Academia, Churra...|3d6c0218-9b7d-474...|      2|  null|       Usado| Apartamento|Residencial|   2|[{290, null, Vend...|          Santa Cruz|Zona Oeste|\n",
            "|    3|        43|       43|        1|[Salão de festas,...|304266cc-62d1-4ce...|      2|  null|       Usado| Apartamento|Residencial|null|[{285, null, Vend...|           Guaratiba|Zona Oeste|\n",
            "|    4|        55|       55|        2|[Academia, Churra...|111472a2-afa1-4a7...|      2|     1|       Usado| Apartamento|Residencial|   1|[{0, 0, Venda, 30...|Recreio dos Bande...|Zona Oeste|\n",
            "|    0|        45|       45|        1|[Playground, Pisc...|275c1589-6537-4bf...|      2|     0|       Usado| Apartamento|Residencial|   1|[{null, null, Ven...|              Cosmos|Zona Oeste|\n",
            "|    5|        42|       42|        1|[Condomínio fecha...|ab8f367f-7509-45c...|      2|     0|       Usado| Apartamento|Residencial|   0|[{280, 0, Venda, ...|            Realengo|Zona Oeste|\n",
            "|    1|        43|       43|        1|[Churrasqueira, P...|e0a3d370-66dd-4f5...|      2|  null|       Usado| Apartamento|Residencial|   1|[{280, null, Vend...|              Cosmos|Zona Oeste|\n",
            "|    3|      null|       55|        1|[Academia, Churra...|09c8ba2d-dbf1-487...|      2|     1|       Usado| Apartamento|Residencial|   1|[{0, 0, Venda, 26...|     Todos os Santos|Zona Norte|\n",
            "+-----+----------+---------+---------+--------------------+--------------------+-------+------+------------+------------+-----------+----+--------------------+--------------------+----------+\n",
            "only showing top 20 rows\n",
            "\n"
          ]
        }
      ],
      "source": [
        "anuncio\\\n",
        "    .select('*',  'endereco.bairro', 'endereco.zona')\\\n",
        "    .drop('endereco')\\\n",
        "    .show()"
      ]
    },
    {
      "cell_type": "code",
      "execution_count": 31,
      "metadata": {
        "id": "lJzkoQmvjMKK"
      },
      "outputs": [],
      "source": [
        "anuncio=anuncio\\\n",
        "    .select('*',  'endereco.bairro', 'endereco.zona')\\\n",
        "    .drop('endereco')"
      ]
    },
    {
      "cell_type": "markdown",
      "metadata": {
        "id": "qnVgBp3eXg2w"
      },
      "source": [
        "## Tratamento para a coluna de valores\n",
        "\n",
        "Segundo o time de cientistas de dados essa é a informação mais importante. Na verdade temos mais de uma informação neste campo. Vamos entender sua estrutura.\n",
        "\n",
        "```\n",
        "root\n",
        " |-- valores: array (nullable = true)\n",
        " |    |-- element: struct (containsNull = true)\n",
        " |    |    |-- condominio: string (nullable = true)\n",
        " |    |    |-- iptu: string (nullable = true)\n",
        " |    |    |-- tipo: string (nullable = true)\n",
        " |    |    |-- valor: string (nullable = true)\n",
        "```\n",
        "\n",
        "Note que valores é do tipo array, ou seja, uma lista que contém elementos. E estes elementos são dicionários com as informações de `condominio`, `iptu`, `tipo`, e `valor`\n",
        "\n",
        "A InsightPlaces permite que o anunciante crie um anúncio com duas opções de valor. O cliente pode criar um anúncio que mostre tanto o valor de venda do imóvel como também o seu valor de locação, juntamente com os valores de taxa de condomínio (quando houver) e taxa de IPTU. Estes valores são diferenciado pelo campo `tipo` que pode assumir os valores `Venda` e `Aluguel`.\n",
        "\n",
        "Como se trata de um estudo sobre o preço de venda dos imóveis, o time de cientistas de dados solicitou apenas as informações do tipo VENDA.\n",
        "\n",
        "Selecione apenas os valores de venda com os respectivos valores de condomínio e iptu."
      ]
    },
    {
      "cell_type": "code",
      "execution_count": 32,
      "metadata": {
        "colab": {
          "base_uri": "https://localhost:8080/"
        },
        "id": "-pBI0jqeWrEk",
        "outputId": "86de86d8-3590-412c-b70a-78272dd4a401"
      },
      "outputs": [
        {
          "output_type": "stream",
          "name": "stdout",
          "text": [
            "root\n",
            " |-- andar: long (nullable = true)\n",
            " |-- area_total: string (nullable = true)\n",
            " |-- area_util: string (nullable = true)\n",
            " |-- banheiros: long (nullable = true)\n",
            " |-- caracteristicas: array (nullable = true)\n",
            " |    |-- element: string (containsNull = true)\n",
            " |-- id: string (nullable = true)\n",
            " |-- quartos: long (nullable = true)\n",
            " |-- suites: long (nullable = true)\n",
            " |-- tipo_anuncio: string (nullable = true)\n",
            " |-- tipo_unidade: string (nullable = true)\n",
            " |-- tipo_uso: string (nullable = true)\n",
            " |-- vaga: long (nullable = true)\n",
            " |-- valores: array (nullable = true)\n",
            " |    |-- element: struct (containsNull = true)\n",
            " |    |    |-- condominio: string (nullable = true)\n",
            " |    |    |-- iptu: string (nullable = true)\n",
            " |    |    |-- tipo: string (nullable = true)\n",
            " |    |    |-- valor: string (nullable = true)\n",
            " |-- bairro: string (nullable = true)\n",
            " |-- zona: string (nullable = true)\n",
            "\n"
          ]
        }
      ],
      "source": [
        "anuncio.printSchema()"
      ]
    },
    {
      "cell_type": "code",
      "execution_count": 33,
      "metadata": {
        "colab": {
          "base_uri": "https://localhost:8080/"
        },
        "id": "IZEsIVhTW48z",
        "outputId": "ef45f223-d541-4ebb-cd70-b2eaf4ba61d4"
      },
      "outputs": [
        {
          "output_type": "stream",
          "name": "stdout",
          "text": [
            "+--------------------+\n",
            "|             valores|\n",
            "+--------------------+\n",
            "|[{245, null, Vend...|\n",
            "|[{0, 0, Venda, 15...|\n",
            "|[{0, 0, Venda, 20...|\n",
            "|[{285, null, Vend...|\n",
            "|[{245, null, Vend...|\n",
            "|[{285, null, Vend...|\n",
            "|[{250, null, Vend...|\n",
            "|[{245, null, Vend...|\n",
            "|[{245, null, Vend...|\n",
            "|[{240, null, Vend...|\n",
            "|[{0, 0, Venda, 15...|\n",
            "|[{240, 0, Venda, ...|\n",
            "|[{245, null, Vend...|\n",
            "|[{290, null, Vend...|\n",
            "|[{285, null, Vend...|\n",
            "|[{0, 0, Venda, 30...|\n",
            "|[{null, null, Ven...|\n",
            "|[{280, 0, Venda, ...|\n",
            "|[{280, null, Vend...|\n",
            "|[{0, 0, Venda, 26...|\n",
            "+--------------------+\n",
            "only showing top 20 rows\n",
            "\n"
          ]
        }
      ],
      "source": [
        "anuncio\\\n",
        "    .select('valores')\\\n",
        "    .show()"
      ]
    },
    {
      "cell_type": "code",
      "execution_count": 34,
      "metadata": {
        "colab": {
          "base_uri": "https://localhost:8080/"
        },
        "id": "YVVWWgfDdbnQ",
        "outputId": "c558f0a7-153c-4361-9201-ff7b79d97e19"
      },
      "outputs": [
        {
          "output_type": "execute_result",
          "data": {
            "text/plain": [
              "66562"
            ]
          },
          "metadata": {},
          "execution_count": 34
        }
      ],
      "source": [
        "anuncio\\\n",
        "    .select(f.explode('valores').alias('valores'))\\\n",
        "    .select('valores.*')\\\n",
        "    .filter('valores.tipo==\"Venda\"')\\\n",
        "    .count()"
      ]
    },
    {
      "cell_type": "code",
      "execution_count": 35,
      "metadata": {
        "colab": {
          "base_uri": "https://localhost:8080/"
        },
        "id": "ns4AHXU2g48L",
        "outputId": "400e8a62-a1b4-4b40-ae5b-8596cd13a2e4"
      },
      "outputs": [
        {
          "output_type": "stream",
          "name": "stdout",
          "text": [
            "+------------------------------------+----------+----+-------+-----+\n",
            "|id                                  |condominio|iptu|tipo   |valor|\n",
            "+------------------------------------+----------+----+-------+-----+\n",
            "|d2e3a3aa-09b5-45a0-9dcd-918847cd3ca3|245       |null|Venda  |15000|\n",
            "|085bab2c-87ad-452a-bd0f-8b1451509f84|0         |0   |Venda  |15000|\n",
            "|18d22cbe-1b86-4764-8def-70c615f15a61|0         |0   |Venda  |20000|\n",
            "|bed8a354-9317-4426-b27e-1c798f864271|285       |null|Venda  |20000|\n",
            "|12a13315-d67f-48f0-9497-017b83252781|245       |null|Venda  |15000|\n",
            "|a2e6d7a5-0ff0-484d-b3d8-3a8f15e2d80e|285       |null|Venda  |20000|\n",
            "|a6e3173b-c950-4db4-9b7b-80c44bd75e90|250       |null|Venda  |15000|\n",
            "|2e6e5dfb-206c-4968-944b-ea4c3918b50d|245       |null|Venda  |15000|\n",
            "|99f8d0f9-95a4-4613-a55d-c949e7a73e90|245       |null|Venda  |15000|\n",
            "|b3f44c1a-2d50-4d56-b1fb-a94d59b55ab8|240       |null|Venda  |17999|\n",
            "|dc99d9e1-4c63-41f7-a53d-678b2b3ccb52|0         |0   |Venda  |15000|\n",
            "|aa3606d8-8bcd-45ec-a609-d68a58a12014|240       |0   |Venda  |19999|\n",
            "|df80b0d5-677c-4be7-93c4-ddef578125ac|245       |null|Venda  |19999|\n",
            "|3d6c0218-9b7d-474b-9a44-cd3e005375f9|290       |null|Venda  |25000|\n",
            "|304266cc-62d1-4ce7-909b-21198c306839|285       |null|Venda  |29999|\n",
            "|111472a2-afa1-4a73-a8b3-3588ffba362c|0         |0   |Venda  |30000|\n",
            "|275c1589-6537-4bf7-9504-74410dbf01fc|null      |null|Venda  |30000|\n",
            "|ab8f367f-7509-45c7-ad9a-f51f84584376|280       |0   |Venda  |25000|\n",
            "|e0a3d370-66dd-4f50-a3d9-cf09c8212318|280       |null|Venda  |27999|\n",
            "|09c8ba2d-dbf1-4879-ba5b-1345355dc415|0         |0   |Venda  |26000|\n",
            "|33da5489-72c9-4d18-883c-a85363348bcc|200       |0   |Venda  |23000|\n",
            "|08511604-dffe-40a4-801b-2ee1e73d49c5|245       |null|Venda  |29999|\n",
            "|a8de531f-5e85-4217-aa7d-578b9cc3ee97|null      |0   |Venda  |27000|\n",
            "|03a386b6-7ab8-4eff-891d-f8a16efc1989|285       |null|Venda  |22999|\n",
            "|f63ae653-c3ac-4d1a-a87e-9f3f1fb27c7f|200       |0   |Venda  |23000|\n",
            "|c2676515-0633-4375-958e-b7b1644a4108|null      |null|Venda  |28000|\n",
            "|01de0250-50cc-4e75-9c01-b886c5059ddc|200       |0   |Venda  |24999|\n",
            "|6b196ad0-fca5-4a2b-98f3-8e4abb633e5b|200       |0   |Venda  |23000|\n",
            "|57ac572e-34e2-4427-b3fa-d2198c4e9203|null      |0   |Venda  |25000|\n",
            "|fa17e63c-0a23-4a87-a985-9b7bd258353b|240       |null|Venda  |39999|\n",
            "|ae90e3f7-4b9e-4e68-a28c-7e98b6b3bd97|233       |null|Venda  |35000|\n",
            "|fca04c66-5f6d-4e9c-a2bd-b97eb179ad1b|270       |0   |Venda  |40000|\n",
            "|4f1755c9-862f-4dcd-a5f5-09af9ae74313|459       |0   |Venda  |40000|\n",
            "|61a40854-1fee-4f50-8c3c-d9fa4d9e16c7|233       |null|Venda  |39999|\n",
            "|d7ed40c6-96b2-4456-8ee6-c33e21772ba6|300       |null|Venda  |38000|\n",
            "|b8d40915-3fbd-4671-9797-e13e12f2d554|197       |0   |Venda  |40000|\n",
            "|891745fd-7826-425f-afb1-7a80425ebf1d|0         |0   |Venda  |35000|\n",
            "|47334896-dbd7-45ba-9b3f-c59bccdd54fb|275       |10  |Venda  |37000|\n",
            "|354e0850-cc2f-4a98-931b-af3ebb1527d0|0         |0   |Venda  |35000|\n",
            "|2cdbb771-2ae4-4979-a483-dcc6099d0893|350       |null|Venda  |50000|\n",
            "|42433229-ceef-4bb6-896a-46fdc1f85515|120       |0   |Venda  |43500|\n",
            "|c543da32-a895-45ee-9116-7f6387fcbc1b|299       |null|Venda  |50000|\n",
            "|31709fc3-0503-4e57-912f-e2fb0640cdf1|295       |null|Venda  |42000|\n",
            "|c425f585-53e3-44b6-8bb6-6b9b766b0e30|350       |20  |Venda  |49000|\n",
            "|c425f585-53e3-44b6-8bb6-6b9b766b0e30|350       |20  |Aluguel|700  |\n",
            "|df481ce5-65d0-4c15-936e-f4732ef96c49|0         |null|Venda  |50000|\n",
            "|df481ce5-65d0-4c15-936e-f4732ef96c49|0         |null|Aluguel|800  |\n",
            "|78c4d364-bed2-4af7-bbf4-fd2ffa83f7dd|150       |0   |Venda  |48000|\n",
            "|7e7d054f-0fb2-4c55-a66e-1c38de34e83a|null      |0   |Venda  |45000|\n",
            "|e1513f1d-2b36-4223-a94e-10e0b0ca42ba|50        |0   |Venda  |50000|\n",
            "|19be630c-f487-448b-85d3-4dae88e7c9e6|null      |null|Venda  |50000|\n",
            "|336aa58c-b9ee-4387-b2fe-f7d08fac4ca2|0         |0   |Venda  |42000|\n",
            "|86694368-08bf-4b1d-a8d1-184cc493d735|0         |0   |Venda  |42000|\n",
            "|0ca272cb-074f-492a-be0a-007faefadd52|null      |null|Venda  |42000|\n",
            "|9c0f05a6-9052-4836-a652-110607d35b2b|180       |200 |Venda  |55000|\n",
            "|b7970886-abd6-4084-8ff6-0ef9e1348ee8|150       |null|Venda  |56000|\n",
            "|6605d21d-c801-4424-9e41-a402053d4b39|120       |0   |Venda  |55000|\n",
            "|376e89db-4003-4232-99ed-8350aac0f7e2|null      |null|Venda  |55000|\n",
            "|b5b363e7-b152-498f-b0db-1f1ad9695ac1|235       |0   |Venda  |60000|\n",
            "|62eb4ed7-fd2a-4cb5-bedf-b1d4436256a8|0         |0   |Venda  |54760|\n",
            "|19a733e5-a656-4242-ba4a-174ddb3ea9d6|200       |0   |Aluguel|800  |\n",
            "|19a733e5-a656-4242-ba4a-174ddb3ea9d6|200       |0   |Venda  |55000|\n",
            "|c8bb103d-ec7f-4635-9128-58843f7075ed|250       |80  |Venda  |60000|\n",
            "|219dce83-d964-410b-99e9-604ab3e0f350|null      |null|Venda  |55000|\n",
            "|d015fef8-e4cc-4120-b68d-09d93d112220|0         |0   |Venda  |60000|\n",
            "|82a78fd5-b24c-494a-91de-2a123538e970|70        |null|Venda  |59900|\n",
            "|6b18c2ed-c8f2-41f3-8854-7464346cd974|0         |0   |Venda  |55000|\n",
            "|d8750a04-2890-4345-ab88-a10ad0dd67bf|0         |0   |Venda  |58936|\n",
            "|5916f591-e053-4c8b-b29e-6f65ac9326c0|570       |0   |Venda  |55000|\n",
            "|7a9220d0-05b0-4001-b141-98c23d0d3178|0         |0   |Venda  |60000|\n",
            "|76ad2f30-b79b-4080-bb9d-97e13a86b84b|0         |100 |Venda  |60000|\n",
            "|7450e35c-a16b-49c8-b03f-56464a83e4c6|0         |100 |Venda  |60000|\n",
            "|bc7b58d6-bfca-4660-9cdc-a3c28e7c0d3b|0         |0   |Venda  |55000|\n",
            "|3a990970-330a-47c7-a435-410d8d4ee693|0         |0   |Venda  |70000|\n",
            "|6b036113-6ae8-4f00-bd3d-022581edf701|null      |null|Venda  |70000|\n",
            "|a267c004-1bff-4cc8-9ca0-b79804bde7cb|0         |0   |Venda  |65000|\n",
            "|6b36634b-9a69-4537-8de9-2d72efe078c5|245       |null|Venda  |70000|\n",
            "|6eacce5f-4e4a-40a7-8a4a-052be95f32c2|40        |1   |Venda  |70000|\n",
            "|34aea9e8-cd98-4a0f-afdf-dd4e1a6c7b19|229       |0   |Venda  |70000|\n",
            "|ca1151f8-cbf0-4039-880e-cbcaba517342|0         |0   |Venda  |65000|\n",
            "|2bf395a8-faaf-4217-9683-8098f33761b3|0         |0   |Venda  |65000|\n",
            "|0347d5f9-1dce-4962-9876-dd727c8200b3|377       |null|Venda  |70000|\n",
            "|ac5a47f0-94f1-428c-95ca-61e640e2cd5c|0         |null|Venda  |70000|\n",
            "|ce0669d5-4429-4347-8510-cbd15370695c|176       |0   |Venda  |70000|\n",
            "|6f00054a-f886-4e6d-862c-f61c208516ae|null      |null|Venda  |70000|\n",
            "|1284d792-90ae-4f16-8aa0-2da1d35f84d0|69137     |0   |Venda  |69137|\n",
            "|244e3108-73a6-4cdd-ae71-27976c1044db|0         |0   |Venda  |70000|\n",
            "|adf31975-1051-4a9b-824d-26a6800b8038|0         |null|Venda  |65000|\n",
            "|2d21874c-047e-4c5e-9454-1b3b0791d3da|170       |0   |Venda  |70000|\n",
            "|2bcb2438-0e6b-4303-9497-a34d71f8b8a9|10        |10  |Venda  |70000|\n",
            "|79320ca6-6552-4716-8156-e0a5bc5308b3|420       |null|Venda  |67000|\n",
            "|b51fc19d-ca88-4eaf-ab8f-5a30d5d79556|450       |null|Venda  |67000|\n",
            "|32c12501-1bf2-4fc7-969b-1eb243820ad1|70        |1   |Venda  |67000|\n",
            "|2a598bd5-ce51-48f2-891a-624ee4d909e1|0         |0   |Venda  |69829|\n",
            "|4499945c-fac8-4efc-b214-4f949087f5c1|0         |0   |Venda  |65000|\n",
            "|d1797571-fb44-4456-b943-a60968c82aec|null      |null|Venda  |65000|\n",
            "|4b74380b-65a2-419e-afc1-2d8df8107339|0         |0   |Venda  |70000|\n",
            "|6c515c50-095e-48c4-95d7-07eb71ec0f50|null      |0   |Venda  |65000|\n",
            "|68e375f8-8455-409d-adde-dfd63e0237ee|0         |0   |Venda  |70000|\n",
            "|68e375f8-8455-409d-adde-dfd63e0237ee|0         |0   |Aluguel|1000 |\n",
            "+------------------------------------+----------+----+-------+-----+\n",
            "only showing top 100 rows\n",
            "\n"
          ]
        }
      ],
      "source": [
        "anuncio\\\n",
        "    .select('id', f.explode('valores').alias('valores'))\\\n",
        "    .select('id', 'valores.*')\\\n",
        "    .show(100, truncate=False)"
      ]
    },
    {
      "cell_type": "code",
      "execution_count": 36,
      "metadata": {
        "colab": {
          "base_uri": "https://localhost:8080/"
        },
        "id": "OKYIkcL5eU-G",
        "outputId": "e06f4df0-bee5-4165-ee56-ec0779f4ce3b"
      },
      "outputs": [
        {
          "output_type": "stream",
          "name": "stdout",
          "text": [
            "+------------------------------------+----------+----+-----+-----+\n",
            "|id                                  |condominio|iptu|tipo |valor|\n",
            "+------------------------------------+----------+----+-----+-----+\n",
            "|d2e3a3aa-09b5-45a0-9dcd-918847cd3ca3|245       |null|Venda|15000|\n",
            "|085bab2c-87ad-452a-bd0f-8b1451509f84|0         |0   |Venda|15000|\n",
            "|18d22cbe-1b86-4764-8def-70c615f15a61|0         |0   |Venda|20000|\n",
            "|bed8a354-9317-4426-b27e-1c798f864271|285       |null|Venda|20000|\n",
            "|12a13315-d67f-48f0-9497-017b83252781|245       |null|Venda|15000|\n",
            "|a2e6d7a5-0ff0-484d-b3d8-3a8f15e2d80e|285       |null|Venda|20000|\n",
            "|a6e3173b-c950-4db4-9b7b-80c44bd75e90|250       |null|Venda|15000|\n",
            "|2e6e5dfb-206c-4968-944b-ea4c3918b50d|245       |null|Venda|15000|\n",
            "|99f8d0f9-95a4-4613-a55d-c949e7a73e90|245       |null|Venda|15000|\n",
            "|b3f44c1a-2d50-4d56-b1fb-a94d59b55ab8|240       |null|Venda|17999|\n",
            "|dc99d9e1-4c63-41f7-a53d-678b2b3ccb52|0         |0   |Venda|15000|\n",
            "|aa3606d8-8bcd-45ec-a609-d68a58a12014|240       |0   |Venda|19999|\n",
            "|df80b0d5-677c-4be7-93c4-ddef578125ac|245       |null|Venda|19999|\n",
            "|3d6c0218-9b7d-474b-9a44-cd3e005375f9|290       |null|Venda|25000|\n",
            "|304266cc-62d1-4ce7-909b-21198c306839|285       |null|Venda|29999|\n",
            "|111472a2-afa1-4a73-a8b3-3588ffba362c|0         |0   |Venda|30000|\n",
            "|275c1589-6537-4bf7-9504-74410dbf01fc|null      |null|Venda|30000|\n",
            "|ab8f367f-7509-45c7-ad9a-f51f84584376|280       |0   |Venda|25000|\n",
            "|e0a3d370-66dd-4f50-a3d9-cf09c8212318|280       |null|Venda|27999|\n",
            "|09c8ba2d-dbf1-4879-ba5b-1345355dc415|0         |0   |Venda|26000|\n",
            "+------------------------------------+----------+----+-----+-----+\n",
            "only showing top 20 rows\n",
            "\n"
          ]
        }
      ],
      "source": [
        "anuncio\\\n",
        "    .select('id', f.explode('valores').alias('valores'))\\\n",
        "    .select('id', 'valores.*')\\\n",
        "    .filter('valores.tipo==\"Venda\"')\\\n",
        "    .show(truncate=False)"
      ]
    },
    {
      "cell_type": "code",
      "execution_count": 37,
      "metadata": {
        "id": "xCxVqQnPfnXW"
      },
      "outputs": [],
      "source": [
        "valores=anuncio\\\n",
        "    .select('id', f.explode('valores').alias('valores'))\\\n",
        "    .select('id', 'valores.*')\\\n",
        "    .filter('valores.tipo==\"Venda\"')"
      ]
    },
    {
      "cell_type": "markdown",
      "metadata": {
        "id": "9tkJfmpshfZK"
      },
      "source": [
        "### Juntando os valores com as outras informações do DataFrame"
      ]
    },
    {
      "cell_type": "code",
      "execution_count": 38,
      "metadata": {
        "colab": {
          "base_uri": "https://localhost:8080/"
        },
        "id": "hQRFbixKhdfI",
        "outputId": "1853ffca-e852-4703-fc50-840fef232217"
      },
      "outputs": [
        {
          "output_type": "execute_result",
          "data": {
            "text/plain": [
              "66562"
            ]
          },
          "metadata": {},
          "execution_count": 38
        }
      ],
      "source": [
        "anuncio.join(valores, 'id', how='inner').count()"
      ]
    },
    {
      "cell_type": "code",
      "execution_count": 39,
      "metadata": {
        "colab": {
          "base_uri": "https://localhost:8080/"
        },
        "id": "krhf65_wi2oc",
        "outputId": "4d8b6bb9-2cb8-42ec-e08d-bd6179b3c4b3"
      },
      "outputs": [
        {
          "output_type": "stream",
          "name": "stdout",
          "text": [
            "+--------------------+-----+----------+---------+---------+--------------------+-------+------+------------+------------+-----------+----+--------------------+--------------------+------------+----------+----+-----+------+\n",
            "|                  id|andar|area_total|area_util|banheiros|     caracteristicas|quartos|suites|tipo_anuncio|tipo_unidade|   tipo_uso|vaga|             valores|              bairro|        zona|condominio|iptu| tipo| valor|\n",
            "+--------------------+-----+----------+---------+---------+--------------------+-------+------+------------+------------+-----------+----+--------------------+--------------------+------------+----------+----+-----+------+\n",
            "|03a386b6-7ab8-4ef...|    0|        43|       43|        1|[Churrasqueira, A...|      2|  null|       Usado| Apartamento|Residencial|   1|[{285, null, Vend...|            Realengo|  Zona Oeste|       285|null|Venda| 22999|\n",
            "|1fe78d41-b8e0-4d2...|    0|        44|       44|        1|                  []|      2|     0|       Usado| Apartamento|Residencial|   0|[{170, 0, Venda, ...|               Irajá|  Zona Norte|       170|   0|Venda|110000|\n",
            "|1fa1c1e5-e98c-433...|    4|      null|       55|        1|                  []|      2|     0|       Usado| Apartamento|Residencial|   1|[{null, null, Ven...|              Cosmos|  Zona Oeste|      null|null|Venda|115000|\n",
            "|a6ab01ae-3d40-40e...|    2|      null|       55|        1|                  []|      2|     0|       Usado| Apartamento|Residencial|   0|[{null, null, Ven...|        Tomás Coelho|  Zona Norte|      null|null|Venda|115000|\n",
            "|1d8ff7a2-16bd-4e3...|    0|      null|       50|        1|                  []|      1|  null|       Usado| Apartamento|Residencial|   0|[{1300, 2679, Ven...|              Centro|Zona Central|      1300|2679|Venda|125000|\n",
            "|40a2cbde-946b-42d...|    2|        47|       47|        1|[Condomínio fecha...|      2|     0|       Usado| Apartamento|Residencial|   1|[{380, null, Vend...|        Campo Grande|  Zona Oeste|       380|null|Venda|138000|\n",
            "|be269ddf-a4a3-4a7...|    0|     17089|       45|        1|[Churrasqueira, C...|      2|     0|       Usado| Apartamento|Residencial|   1|[{356, 0, Venda, ...|        Campo Grande|  Zona Oeste|       356|   0|Venda|140000|\n",
            "|4b7e3d59-34fd-4ba...|    3|        48|       48|        1|[Churrasqueira, P...|      2|  null|       Usado| Apartamento|Residencial|   1|[{0, 0, Venda, 15...|        Campo Grande|  Zona Oeste|         0|   0|Venda|150000|\n",
            "|a1a0c2ac-4fa8-4b0...|    9|      null|       55|        1|[Churrasqueira, E...|      2|  null|       Usado| Apartamento|Residencial|   1|[{780, 660, Venda...|Freguesia (Jacare...|  Zona Oeste|       780| 660|Venda|160000|\n",
            "|390d2b88-e06d-47e...|    0|        70|       70|        2|   [Salão de festas]|      2|     0|       Usado| Apartamento|Residencial|   1|[{420000, null, V...|          Praça Seca|  Zona Oeste|    420000|null|Venda|159000|\n",
            "|07bb07c1-21cc-4da...|    2|        50|       48|        1|[Condomínio fecha...|      1|     0|       Usado| Apartamento|Residencial|   0|[{10, 10, Venda, ...|             Piedade|  Zona Norte|        10|  10|Venda|170000|\n",
            "|7d3a1bae-988c-44b...|    5|        40|       40|        1|[Playground, Chur...|      2|     0|       Usado| Apartamento|Residencial|   1|[{150, 120, Venda...|        Braz de Pina|  Zona Norte|       150| 120|Venda|189000|\n",
            "|47af17f0-1c81-474...|    0|        65|       65|        1|                  []|      2|     0|       Usado| Apartamento|Residencial|   1|[{432, null, Vend...|            Campinho|  Zona Oeste|       432|null|Venda|185000|\n",
            "|a9bd1575-e9f2-43d...|    2|        50|       50|        1|[Condomínio fecha...|      1|     0|       Usado| Apartamento|Residencial|   1|[{650, 1, Venda, ...|           Madureira|  Zona Norte|       650|   1|Venda|185000|\n",
            "|cfca7253-3d02-4cd...|    5|        45|       45|        1|[Academia, Churra...|      2|     1|       Usado| Apartamento|Residencial|   0|[{150, 40, Venda,...|             Taquara|  Zona Oeste|       150|  40|Venda|199000|\n",
            "|b571ae97-e3d8-4fb...|    0|        48|       48|        1|[Academia, Condom...|      2|  null|       Usado| Apartamento|Residencial|   0|[{0, 0, Venda, 20...|          Bonsucesso|  Zona Norte|         0|   0|Venda|205933|\n",
            "|eb5fdc65-acae-45f...|    0|        44|       44|        1|[Academia, Condom...|      2|  null|       Usado| Apartamento|Residencial|   0|[{0, 0, Venda, 20...|          Bonsucesso|  Zona Norte|         0|   0|Venda|206000|\n",
            "|77cd0388-e3ff-40c...|    2|        64|       64|        1|                  []|      2|     0|       Usado| Apartamento|Residencial|   0|[{0, 0, Venda, 22...|      Jardim América|  Zona Norte|         0|   0|Venda|220000|\n",
            "|74a91f07-7387-4a8...|    0|        55|       55|        2|[Salão de festas,...|      1|     0|       Usado| Apartamento|Residencial|   1|[{600, 652, Venda...|        Engenho Novo|  Zona Norte|       600| 652|Venda|219130|\n",
            "|6aab1165-508d-455...|    3|        60|       60|        1|[Animais permitidos]|      3|     0|       Usado| Apartamento|Residencial|   1|[{98, 1, Venda, 2...|           Cascadura|  Zona Norte|        98|   1|Venda|230000|\n",
            "+--------------------+-----+----------+---------+---------+--------------------+-------+------+------------+------------+-----------+----+--------------------+--------------------+------------+----------+----+-----+------+\n",
            "only showing top 20 rows\n",
            "\n"
          ]
        }
      ],
      "source": [
        "anuncio.join(valores, 'id', how='inner').show()"
      ]
    },
    {
      "cell_type": "code",
      "execution_count": 40,
      "metadata": {
        "colab": {
          "base_uri": "https://localhost:8080/"
        },
        "id": "W-lYO-Aoi6e7",
        "outputId": "17541dbe-2dbd-4675-c96a-58c333d8d2dd"
      },
      "outputs": [
        {
          "output_type": "stream",
          "name": "stdout",
          "text": [
            "+--------------------+-----+----------+---------+---------+--------------------+-------+------+------------+------------+-----------+----+--------------------+------------+----------+----+-----+------+\n",
            "|                  id|andar|area_total|area_util|banheiros|     caracteristicas|quartos|suites|tipo_anuncio|tipo_unidade|   tipo_uso|vaga|              bairro|        zona|condominio|iptu| tipo| valor|\n",
            "+--------------------+-----+----------+---------+---------+--------------------+-------+------+------------+------------+-----------+----+--------------------+------------+----------+----+-----+------+\n",
            "|03a386b6-7ab8-4ef...|    0|        43|       43|        1|[Churrasqueira, A...|      2|  null|       Usado| Apartamento|Residencial|   1|            Realengo|  Zona Oeste|       285|null|Venda| 22999|\n",
            "|1fe78d41-b8e0-4d2...|    0|        44|       44|        1|                  []|      2|     0|       Usado| Apartamento|Residencial|   0|               Irajá|  Zona Norte|       170|   0|Venda|110000|\n",
            "|1fa1c1e5-e98c-433...|    4|      null|       55|        1|                  []|      2|     0|       Usado| Apartamento|Residencial|   1|              Cosmos|  Zona Oeste|      null|null|Venda|115000|\n",
            "|a6ab01ae-3d40-40e...|    2|      null|       55|        1|                  []|      2|     0|       Usado| Apartamento|Residencial|   0|        Tomás Coelho|  Zona Norte|      null|null|Venda|115000|\n",
            "|1d8ff7a2-16bd-4e3...|    0|      null|       50|        1|                  []|      1|  null|       Usado| Apartamento|Residencial|   0|              Centro|Zona Central|      1300|2679|Venda|125000|\n",
            "|40a2cbde-946b-42d...|    2|        47|       47|        1|[Condomínio fecha...|      2|     0|       Usado| Apartamento|Residencial|   1|        Campo Grande|  Zona Oeste|       380|null|Venda|138000|\n",
            "|be269ddf-a4a3-4a7...|    0|     17089|       45|        1|[Churrasqueira, C...|      2|     0|       Usado| Apartamento|Residencial|   1|        Campo Grande|  Zona Oeste|       356|   0|Venda|140000|\n",
            "|4b7e3d59-34fd-4ba...|    3|        48|       48|        1|[Churrasqueira, P...|      2|  null|       Usado| Apartamento|Residencial|   1|        Campo Grande|  Zona Oeste|         0|   0|Venda|150000|\n",
            "|a1a0c2ac-4fa8-4b0...|    9|      null|       55|        1|[Churrasqueira, E...|      2|  null|       Usado| Apartamento|Residencial|   1|Freguesia (Jacare...|  Zona Oeste|       780| 660|Venda|160000|\n",
            "|390d2b88-e06d-47e...|    0|        70|       70|        2|   [Salão de festas]|      2|     0|       Usado| Apartamento|Residencial|   1|          Praça Seca|  Zona Oeste|    420000|null|Venda|159000|\n",
            "|07bb07c1-21cc-4da...|    2|        50|       48|        1|[Condomínio fecha...|      1|     0|       Usado| Apartamento|Residencial|   0|             Piedade|  Zona Norte|        10|  10|Venda|170000|\n",
            "|7d3a1bae-988c-44b...|    5|        40|       40|        1|[Playground, Chur...|      2|     0|       Usado| Apartamento|Residencial|   1|        Braz de Pina|  Zona Norte|       150| 120|Venda|189000|\n",
            "|47af17f0-1c81-474...|    0|        65|       65|        1|                  []|      2|     0|       Usado| Apartamento|Residencial|   1|            Campinho|  Zona Oeste|       432|null|Venda|185000|\n",
            "|a9bd1575-e9f2-43d...|    2|        50|       50|        1|[Condomínio fecha...|      1|     0|       Usado| Apartamento|Residencial|   1|           Madureira|  Zona Norte|       650|   1|Venda|185000|\n",
            "|cfca7253-3d02-4cd...|    5|        45|       45|        1|[Academia, Churra...|      2|     1|       Usado| Apartamento|Residencial|   0|             Taquara|  Zona Oeste|       150|  40|Venda|199000|\n",
            "|b571ae97-e3d8-4fb...|    0|        48|       48|        1|[Academia, Condom...|      2|  null|       Usado| Apartamento|Residencial|   0|          Bonsucesso|  Zona Norte|         0|   0|Venda|205933|\n",
            "|eb5fdc65-acae-45f...|    0|        44|       44|        1|[Academia, Condom...|      2|  null|       Usado| Apartamento|Residencial|   0|          Bonsucesso|  Zona Norte|         0|   0|Venda|206000|\n",
            "|77cd0388-e3ff-40c...|    2|        64|       64|        1|                  []|      2|     0|       Usado| Apartamento|Residencial|   0|      Jardim América|  Zona Norte|         0|   0|Venda|220000|\n",
            "|74a91f07-7387-4a8...|    0|        55|       55|        2|[Salão de festas,...|      1|     0|       Usado| Apartamento|Residencial|   1|        Engenho Novo|  Zona Norte|       600| 652|Venda|219130|\n",
            "|6aab1165-508d-455...|    3|        60|       60|        1|[Animais permitidos]|      3|     0|       Usado| Apartamento|Residencial|   1|           Cascadura|  Zona Norte|        98|   1|Venda|230000|\n",
            "+--------------------+-----+----------+---------+---------+--------------------+-------+------+------------+------------+-----------+----+--------------------+------------+----------+----+-----+------+\n",
            "only showing top 20 rows\n",
            "\n"
          ]
        }
      ],
      "source": [
        "anuncio.join(valores, 'id', how='inner').drop('valores').show()"
      ]
    },
    {
      "cell_type": "code",
      "execution_count": 41,
      "metadata": {
        "id": "z0078upHn-3L"
      },
      "outputs": [],
      "source": [
        "anuncio=anuncio.join(valores, 'id', how='inner').drop('valores')"
      ]
    },
    {
      "cell_type": "markdown",
      "metadata": {
        "id": "68bn9HT_oXCB"
      },
      "source": [
        "## Salvando o resultado da extração no formato parquet"
      ]
    },
    {
      "cell_type": "code",
      "execution_count": 42,
      "metadata": {
        "id": "h4HsWcpdq5vC"
      },
      "outputs": [],
      "source": [
        "anuncio.write.parquet(\n",
        "    path='dados_salvos/dataset_transformado_parquet',\n",
        "    mode='overwrite'\n",
        ")"
      ]
    },
    {
      "cell_type": "code",
      "execution_count": 43,
      "metadata": {
        "id": "aThsMrNwoAqo"
      },
      "outputs": [],
      "source": [
        "anuncio_parquet = spark.read.parquet(\n",
        "    'dados_salvos/dataset_transformado_parquet'\n",
        ")"
      ]
    },
    {
      "cell_type": "code",
      "execution_count": 44,
      "metadata": {
        "colab": {
          "base_uri": "https://localhost:8080/"
        },
        "id": "IyVlaZUYsxKS",
        "outputId": "c24459e6-b4d6-4c06-f8fa-6169b74f7fd7"
      },
      "outputs": [
        {
          "output_type": "stream",
          "name": "stdout",
          "text": [
            "root\n",
            " |-- id: string (nullable = true)\n",
            " |-- andar: long (nullable = true)\n",
            " |-- area_total: string (nullable = true)\n",
            " |-- area_util: string (nullable = true)\n",
            " |-- banheiros: long (nullable = true)\n",
            " |-- caracteristicas: array (nullable = true)\n",
            " |    |-- element: string (containsNull = true)\n",
            " |-- quartos: long (nullable = true)\n",
            " |-- suites: long (nullable = true)\n",
            " |-- tipo_anuncio: string (nullable = true)\n",
            " |-- tipo_unidade: string (nullable = true)\n",
            " |-- tipo_uso: string (nullable = true)\n",
            " |-- vaga: long (nullable = true)\n",
            " |-- bairro: string (nullable = true)\n",
            " |-- zona: string (nullable = true)\n",
            " |-- condominio: string (nullable = true)\n",
            " |-- iptu: string (nullable = true)\n",
            " |-- tipo: string (nullable = true)\n",
            " |-- valor: string (nullable = true)\n",
            "\n"
          ]
        }
      ],
      "source": [
        "anuncio_parquet.printSchema()"
      ]
    },
    {
      "cell_type": "code",
      "execution_count": 45,
      "metadata": {
        "colab": {
          "base_uri": "https://localhost:8080/"
        },
        "id": "3RchsAhsszmT",
        "outputId": "6e12330a-f869-463c-a41d-8017dc061321"
      },
      "outputs": [
        {
          "output_type": "execute_result",
          "data": {
            "text/plain": [
              "66562"
            ]
          },
          "metadata": {},
          "execution_count": 45
        }
      ],
      "source": [
        "anuncio_parquet.count()"
      ]
    },
    {
      "cell_type": "markdown",
      "metadata": {
        "id": "EoejDaPiwibv"
      },
      "source": [
        "## Desafio extra: Salvar os dados no formato csv"
      ]
    },
    {
      "cell_type": "code",
      "execution_count": 46,
      "metadata": {
        "id": "rJ63tm6fwibv"
      },
      "outputs": [],
      "source": [
        "anuncio = anuncio.drop(\"caracteristicas\")"
      ]
    },
    {
      "cell_type": "code",
      "execution_count": 47,
      "metadata": {
        "id": "IagonP7vwibv"
      },
      "outputs": [],
      "source": [
        "anuncio.write.csv(\n",
        "    path='dados_salvos/dataset_transformado.csv',\n",
        "    mode='overwrite',\n",
        "    header=True\n",
        ")"
      ]
    },
    {
      "cell_type": "code",
      "execution_count": 48,
      "metadata": {
        "id": "6Pml_8mNwibv"
      },
      "outputs": [],
      "source": [
        "anuncio_csv = spark.read.csv(\n",
        "    'dados_salvos/dataset_transformado.csv',\n",
        "    header=True\n",
        ")"
      ]
    },
    {
      "cell_type": "code",
      "execution_count": 49,
      "metadata": {
        "id": "CT5o9uirwibv",
        "outputId": "3f570aa7-cefb-4ce5-ac7e-7a11416512df",
        "colab": {
          "base_uri": "https://localhost:8080/"
        }
      },
      "outputs": [
        {
          "output_type": "stream",
          "name": "stdout",
          "text": [
            "root\n",
            " |-- id: string (nullable = true)\n",
            " |-- andar: string (nullable = true)\n",
            " |-- area_total: string (nullable = true)\n",
            " |-- area_util: string (nullable = true)\n",
            " |-- banheiros: string (nullable = true)\n",
            " |-- quartos: string (nullable = true)\n",
            " |-- suites: string (nullable = true)\n",
            " |-- tipo_anuncio: string (nullable = true)\n",
            " |-- tipo_unidade: string (nullable = true)\n",
            " |-- tipo_uso: string (nullable = true)\n",
            " |-- vaga: string (nullable = true)\n",
            " |-- bairro: string (nullable = true)\n",
            " |-- zona: string (nullable = true)\n",
            " |-- condominio: string (nullable = true)\n",
            " |-- iptu: string (nullable = true)\n",
            " |-- tipo: string (nullable = true)\n",
            " |-- valor: string (nullable = true)\n",
            "\n"
          ]
        }
      ],
      "source": [
        "anuncio_csv.printSchema()"
      ]
    },
    {
      "cell_type": "markdown",
      "metadata": {
        "id": "ckZmCY1gwibw"
      },
      "source": [
        "## Desafio extra: Comparar o desempenho de arquivos parquet e csv"
      ]
    },
    {
      "cell_type": "code",
      "execution_count": 50,
      "metadata": {
        "colab": {
          "base_uri": "https://localhost:8080/"
        },
        "id": "OUzADaJxs5RI",
        "outputId": "4ae9ac5a-162d-4c24-8473-1950fbd378f1"
      },
      "outputs": [
        {
          "output_type": "stream",
          "name": "stdout",
          "text": [
            "+-------------------+-----+\n",
            "|             bairro|count|\n",
            "+-------------------+-----+\n",
            "|             Cocotá|   16|\n",
            "|       Tomás Coelho|   38|\n",
            "|              Gávea|  597|\n",
            "|            Ipanema| 2113|\n",
            "|           Realengo|   46|\n",
            "|      Gardênia Azul|    7|\n",
            "|      Bento Ribeiro|   33|\n",
            "|              Rocha|   38|\n",
            "|Vicente de Carvalho|   86|\n",
            "|         Manguinhos|    1|\n",
            "|       Campo Grande|  639|\n",
            "|        Jacarepaguá| 4437|\n",
            "|               Leme|  234|\n",
            "|           Botafogo| 3499|\n",
            "|       Padre Miguel|   15|\n",
            "|       Santo Cristo|  357|\n",
            "|           Flamengo| 1378|\n",
            "|  Engenho da Rainha|   25|\n",
            "| Pedra de Guaratiba|   12|\n",
            "|            Piedade|  104|\n",
            "+-------------------+-----+\n",
            "only showing top 20 rows\n",
            "\n",
            "CPU times: user 6.08 ms, sys: 850 µs, total: 6.93 ms\n",
            "Wall time: 343 ms\n"
          ]
        }
      ],
      "source": [
        "%%time\n",
        "anuncio_parquet.groupBy('bairro').count().show()"
      ]
    },
    {
      "cell_type": "code",
      "execution_count": 51,
      "metadata": {
        "colab": {
          "base_uri": "https://localhost:8080/"
        },
        "id": "K8UNTm8WtYbp",
        "outputId": "191e4516-8924-447e-b669-c28fba8ab066"
      },
      "outputs": [
        {
          "output_type": "stream",
          "name": "stdout",
          "text": [
            "+-------------------+-----+\n",
            "|             bairro|count|\n",
            "+-------------------+-----+\n",
            "|             Cocotá|   16|\n",
            "|       Tomás Coelho|   38|\n",
            "|              Gávea|  597|\n",
            "|            Ipanema| 2113|\n",
            "|           Realengo|   46|\n",
            "|      Gardênia Azul|    7|\n",
            "|      Bento Ribeiro|   33|\n",
            "|              Rocha|   38|\n",
            "|Vicente de Carvalho|   86|\n",
            "|         Manguinhos|    1|\n",
            "|       Campo Grande|  639|\n",
            "|        Jacarepaguá| 4437|\n",
            "|               Leme|  234|\n",
            "|           Botafogo| 3499|\n",
            "|       Padre Miguel|   15|\n",
            "|       Santo Cristo|  357|\n",
            "|           Flamengo| 1378|\n",
            "|  Engenho da Rainha|   25|\n",
            "| Pedra de Guaratiba|   12|\n",
            "|            Piedade|  104|\n",
            "+-------------------+-----+\n",
            "only showing top 20 rows\n",
            "\n",
            "CPU times: user 12.7 ms, sys: 384 µs, total: 13.1 ms\n",
            "Wall time: 911 ms\n"
          ]
        }
      ],
      "source": [
        "%%time\n",
        "anuncio_csv.groupBy('bairro').count().show()"
      ]
    },
    {
      "cell_type": "code",
      "execution_count": 51,
      "metadata": {
        "id": "m-gSDmj1taiw"
      },
      "outputs": [],
      "source": []
    }
  ],
  "metadata": {
    "colab": {
      "provenance": [],
      "include_colab_link": true
    },
    "kernelspec": {
      "display_name": "Python 3.9.12 ('ds-conda')",
      "language": "python",
      "name": "python3"
    },
    "language_info": {
      "codemirror_mode": {
        "name": "ipython",
        "version": 3
      },
      "file_extension": ".py",
      "mimetype": "text/x-python",
      "name": "python",
      "nbconvert_exporter": "python",
      "pygments_lexer": "ipython3",
      "version": "3.9.12"
    },
    "vscode": {
      "interpreter": {
        "hash": "f376ac459482aba7b305c50f2067a782822cb4387569295007fcf226aacd147b"
      }
    }
  },
  "nbformat": 4,
  "nbformat_minor": 0
}