{
  "cells": [
    {
      "cell_type": "markdown",
      "metadata": {
        "id": "view-in-github",
        "colab_type": "text"
      },
      "source": [
        "<a href=\"https://colab.research.google.com/github/millenagena/Challenge-Data-Science-Alura-2ed/blob/main/2-Tratamento-dos-dados-e-Machine-Learning/tratamento_regressao_imoveis.ipynb\" target=\"_parent\"><img src=\"https://colab.research.google.com/assets/colab-badge.svg\" alt=\"Open In Colab\"/></a>"
      ]
    },
    {
      "cell_type": "markdown",
      "metadata": {
        "id": "G0jbjotbz9Ac"
      },
      "source": [
        "# Semana 2"
      ]
    },
    {
      "cell_type": "markdown",
      "metadata": {
        "id": "FwbQQuaQz9Ag"
      },
      "source": [
        "Durante essa semana vamos realizar trabalhos de pessoas cientistas de dados.\n",
        "\n",
        "O time de engenharia de dados da InsightPlaces disponibilizou a base de dados com algumas transformações já realizadas. No entanto, ainda é necessária a exploração e tratamento dessa base de dados para conseguirmos efetivamente partir pra criação dos nossos modelos de ML.\n",
        "\n",
        "Sendo assim, vamos começar selecionando as features que fizerem mais sentido para nosso projeto e depois vamos realizar alguns tratamentos na base de dados. Ao finalizar isso, podemos utilizar os dados para a criação de um modelo de regressão que irá nos ajudar na precificação dos imóveis da InsightPlaces."
      ]
    },
    {
      "cell_type": "markdown",
      "metadata": {
        "id": "RvvDvsqAz9Ag"
      },
      "source": [
        "## Instalando pyspark"
      ]
    },
    {
      "cell_type": "code",
      "execution_count": 1,
      "metadata": {
        "id": "EakRTsUsz9Ah",
        "colab": {
          "base_uri": "https://localhost:8080/"
        },
        "outputId": "ba3edb09-f722-4da0-d447-2c81dab75f14"
      },
      "outputs": [
        {
          "output_type": "stream",
          "name": "stdout",
          "text": [
            "Looking in indexes: https://pypi.org/simple, https://us-python.pkg.dev/colab-wheels/public/simple/\n",
            "Collecting pyspark==3.3.1\n",
            "  Downloading pyspark-3.3.1.tar.gz (281.4 MB)\n",
            "\u001b[K     |████████████████████████████████| 281.4 MB 40 kB/s \n",
            "\u001b[?25hCollecting py4j==0.10.9.5\n",
            "  Downloading py4j-0.10.9.5-py2.py3-none-any.whl (199 kB)\n",
            "\u001b[K     |████████████████████████████████| 199 kB 48.8 MB/s \n",
            "\u001b[?25hBuilding wheels for collected packages: pyspark\n",
            "  Building wheel for pyspark (setup.py) ... \u001b[?25l\u001b[?25hdone\n",
            "  Created wheel for pyspark: filename=pyspark-3.3.1-py2.py3-none-any.whl size=281845512 sha256=487bf80706fa9825d8b2db2dff13df45c379415389bdf6f778247d12185cd42c\n",
            "  Stored in directory: /root/.cache/pip/wheels/43/dc/11/ec201cd671da62fa9c5cc77078235e40722170ceba231d7598\n",
            "Successfully built pyspark\n",
            "Installing collected packages: py4j, pyspark\n",
            "Successfully installed py4j-0.10.9.5 pyspark-3.3.1\n"
          ]
        }
      ],
      "source": [
        "!pip install pyspark==3.3.1"
      ]
    },
    {
      "cell_type": "markdown",
      "metadata": {
        "id": "XVwVoROGz9Ai"
      },
      "source": [
        "## [SparkSession](https://spark.apache.org/docs/latest/api/python/reference/api/pyspark.sql.SparkSession.html)\n",
        "\n",
        "O ponto de entrada para programar o Spark com a API Dataset e DataFrame.\n",
        "\n",
        "Uma SparkSession pode ser utilizada para criar DataFrames, registrar DataFrames como tabelas, executar consultas SQL em tabelas, armazenar em cache e ler arquivos parquet. Para criar uma SparkSession, use o seguinte padrão de construtor:"
      ]
    },
    {
      "cell_type": "code",
      "execution_count": 2,
      "metadata": {
        "id": "FD6SK7Zyz9Ai",
        "outputId": "ab38cfd0-f70f-4403-9932-8ce53ad892c8",
        "colab": {
          "base_uri": "https://localhost:8080/",
          "height": 219
        }
      },
      "outputs": [
        {
          "output_type": "execute_result",
          "data": {
            "text/plain": [
              "<pyspark.sql.session.SparkSession at 0x7fd6bc790460>"
            ],
            "text/html": [
              "\n",
              "            <div>\n",
              "                <p><b>SparkSession - in-memory</b></p>\n",
              "                \n",
              "        <div>\n",
              "            <p><b>SparkContext</b></p>\n",
              "\n",
              "            <p><a href=\"http://fcc4a4866f07:4040\">Spark UI</a></p>\n",
              "\n",
              "            <dl>\n",
              "              <dt>Version</dt>\n",
              "                <dd><code>v3.3.1</code></dd>\n",
              "              <dt>Master</dt>\n",
              "                <dd><code>local[*]</code></dd>\n",
              "              <dt>AppName</dt>\n",
              "                <dd><code>Regressão com Spark</code></dd>\n",
              "            </dl>\n",
              "        </div>\n",
              "        \n",
              "            </div>\n",
              "        "
            ]
          },
          "metadata": {},
          "execution_count": 2
        }
      ],
      "source": [
        "from pyspark.sql import SparkSession\n",
        "\n",
        "spark = SparkSession.builder \\\n",
        "    .master('local[*]') \\\n",
        "    .appName(\"Regressão com Spark\") \\\n",
        "    .getOrCreate()\n",
        "\n",
        "spark"
      ]
    },
    {
      "cell_type": "markdown",
      "metadata": {
        "id": "WspSSVGuz9Aj"
      },
      "source": [
        "## Carregamento dos dados"
      ]
    },
    {
      "cell_type": "code",
      "source": [
        "!wget 'https://caelum-online-public.s3.amazonaws.com/challenge-spark/semana-2.zip' && unzip semana-2.zip -d dados/"
      ],
      "metadata": {
        "colab": {
          "base_uri": "https://localhost:8080/"
        },
        "id": "SUgUPc8J3qf0",
        "outputId": "f2c8d524-d20e-472b-db2d-609576b08ec7"
      },
      "execution_count": 3,
      "outputs": [
        {
          "output_type": "stream",
          "name": "stdout",
          "text": [
            "--2022-12-05 15:23:11--  https://caelum-online-public.s3.amazonaws.com/challenge-spark/semana-2.zip\n",
            "Resolving caelum-online-public.s3.amazonaws.com (caelum-online-public.s3.amazonaws.com)... 52.216.166.35, 52.216.221.201, 54.231.199.185, ...\n",
            "Connecting to caelum-online-public.s3.amazonaws.com (caelum-online-public.s3.amazonaws.com)|52.216.166.35|:443... connected.\n",
            "HTTP request sent, awaiting response... 200 OK\n",
            "Length: 2763652 (2.6M) [application/zip]\n",
            "Saving to: ‘semana-2.zip’\n",
            "\n",
            "semana-2.zip        100%[===================>]   2.63M  14.1MB/s    in 0.2s    \n",
            "\n",
            "2022-12-05 15:23:11 (14.1 MB/s) - ‘semana-2.zip’ saved [2763652/2763652]\n",
            "\n",
            "Archive:  semana-2.zip\n",
            "   creating: dados/dataset_transformado_parquet/\n",
            "  inflating: dados/dataset_transformado_parquet/_SUCCESS  \n",
            "  inflating: dados/dataset_transformado_parquet/._SUCCESS.crc  \n",
            "  inflating: dados/dataset_transformado_parquet/part-00000-00341ba7-0a7c-4fef-a81e-1066725a64b1-c000.snappy.parquet  \n",
            "  inflating: dados/dataset_transformado_parquet/.part-00000-00341ba7-0a7c-4fef-a81e-1066725a64b1-c000.snappy.parquet.crc  \n"
          ]
        }
      ]
    },
    {
      "cell_type": "code",
      "execution_count": 4,
      "metadata": {
        "id": "4RgKf69wz9Aj",
        "outputId": "4470362b-274f-4bcf-c608-6ed1094bcaac",
        "colab": {
          "base_uri": "https://localhost:8080/"
        }
      },
      "outputs": [
        {
          "output_type": "stream",
          "name": "stdout",
          "text": [
            "+--------------------+-----+----------+---------+---------+--------------------+-------+------+------------+------------+-----------+----+------------+------------+----------+----+-----+------+\n",
            "|                  id|andar|area_total|area_util|banheiros|     caracteristicas|quartos|suites|tipo_anuncio|tipo_unidade|   tipo_uso|vaga|      bairro|        zona|condominio|iptu| tipo| valor|\n",
            "+--------------------+-----+----------+---------+---------+--------------------+-------+------+------------+------------+-----------+----+------------+------------+----------+----+-----+------+\n",
            "|03a386b6-7ab8-4ef...|    0|        43|       43|        1|[Churrasqueira, A...|      2|  null|       Usado| Apartamento|Residencial|   1|    Realengo|  Zona Oeste|       285|null|Venda| 22999|\n",
            "|1fe78d41-b8e0-4d2...|    0|        44|       44|        1|                  []|      2|     0|       Usado| Apartamento|Residencial|   0|       Irajá|  Zona Norte|       170|   0|Venda|110000|\n",
            "|1fa1c1e5-e98c-433...|    4|      null|       55|        1|                  []|      2|     0|       Usado| Apartamento|Residencial|   1|      Cosmos|  Zona Oeste|      null|null|Venda|115000|\n",
            "|a6ab01ae-3d40-40e...|    2|      null|       55|        1|                  []|      2|     0|       Usado| Apartamento|Residencial|   0|Tomás Coelho|  Zona Norte|      null|null|Venda|115000|\n",
            "|1d8ff7a2-16bd-4e3...|    0|      null|       50|        1|                  []|      1|  null|       Usado| Apartamento|Residencial|   0|      Centro|Zona Central|      1300|2679|Venda|125000|\n",
            "+--------------------+-----+----------+---------+---------+--------------------+-------+------+------------+------------+-----------+----+------------+------------+----------+----+-----+------+\n",
            "only showing top 5 rows\n",
            "\n"
          ]
        }
      ],
      "source": [
        "dados = spark.read.parquet(\"dados/dataset_transformado_parquet\")\n",
        "dados.show(5)"
      ]
    },
    {
      "cell_type": "markdown",
      "metadata": {
        "id": "A8b5ZDTFz9Ak"
      },
      "source": [
        "## Seleção de features"
      ]
    },
    {
      "cell_type": "markdown",
      "metadata": {
        "id": "0UGFz6HSz9Ak"
      },
      "source": [
        "Vamos remover algumas colunas que possuem apenas um único valor. Essas colunas estão dessa forma devido aos filtros que foram realizados na base de dados durante a semana 1."
      ]
    },
    {
      "cell_type": "code",
      "execution_count": 5,
      "metadata": {
        "id": "lP0ON7_Fz9Ak",
        "outputId": "05d3bab8-7971-4cc4-c2c7-1f277ea0c33b",
        "colab": {
          "base_uri": "https://localhost:8080/"
        }
      },
      "outputs": [
        {
          "output_type": "stream",
          "name": "stdout",
          "text": [
            "+-----+\n",
            "| tipo|\n",
            "+-----+\n",
            "|Venda|\n",
            "+-----+\n",
            "\n"
          ]
        }
      ],
      "source": [
        "dados.select(\"tipo\").distinct().show(5)"
      ]
    },
    {
      "cell_type": "code",
      "execution_count": 6,
      "metadata": {
        "id": "TZE_dUlYz9Al",
        "outputId": "b19994e1-8ec5-423b-be41-1929ab3d7d3c",
        "colab": {
          "base_uri": "https://localhost:8080/"
        }
      },
      "outputs": [
        {
          "output_type": "stream",
          "name": "stdout",
          "text": [
            "+------------+\n",
            "|tipo_anuncio|\n",
            "+------------+\n",
            "|       Usado|\n",
            "+------------+\n",
            "\n"
          ]
        }
      ],
      "source": [
        "dados.select(\"tipo_anuncio\").distinct().show(5)"
      ]
    },
    {
      "cell_type": "code",
      "execution_count": 7,
      "metadata": {
        "id": "aWKaN4QTz9Al",
        "outputId": "0855a3ff-fef0-48c3-bc35-c0361599b1c9",
        "colab": {
          "base_uri": "https://localhost:8080/"
        }
      },
      "outputs": [
        {
          "output_type": "stream",
          "name": "stdout",
          "text": [
            "+------------+\n",
            "|tipo_unidade|\n",
            "+------------+\n",
            "| Apartamento|\n",
            "+------------+\n",
            "\n"
          ]
        }
      ],
      "source": [
        "dados.select(\"tipo_unidade\").distinct().show(5)"
      ]
    },
    {
      "cell_type": "code",
      "execution_count": 8,
      "metadata": {
        "id": "RPHUBKdbz9Al",
        "outputId": "ea0f3332-bc6c-4e2f-db8c-055ef5dc3cb3",
        "colab": {
          "base_uri": "https://localhost:8080/"
        }
      },
      "outputs": [
        {
          "output_type": "stream",
          "name": "stdout",
          "text": [
            "+-----------+\n",
            "|   tipo_uso|\n",
            "+-----------+\n",
            "|Residencial|\n",
            "+-----------+\n",
            "\n"
          ]
        }
      ],
      "source": [
        "dados.select(\"tipo_uso\").distinct().show(5)"
      ]
    },
    {
      "cell_type": "markdown",
      "metadata": {
        "id": "2mEtUzoEz9Am"
      },
      "source": [
        "Além dessas colunas, vamos analisar as colunas \"area_total\" e \"area_util\""
      ]
    },
    {
      "cell_type": "code",
      "execution_count": 9,
      "metadata": {
        "id": "SlFGB8wpz9Am",
        "outputId": "4c69ddf2-9c8f-49a7-ce03-351856436bd0",
        "colab": {
          "base_uri": "https://localhost:8080/"
        }
      },
      "outputs": [
        {
          "output_type": "stream",
          "name": "stdout",
          "text": [
            "+----------+---------+\n",
            "|area_total|area_util|\n",
            "+----------+---------+\n",
            "|        43|       43|\n",
            "|        44|       44|\n",
            "|      null|       55|\n",
            "|      null|       55|\n",
            "|      null|       50|\n",
            "+----------+---------+\n",
            "only showing top 5 rows\n",
            "\n"
          ]
        }
      ],
      "source": [
        "dados.select(\"area_total\", \"area_util\").show(5)"
      ]
    },
    {
      "cell_type": "code",
      "execution_count": 10,
      "metadata": {
        "id": "lVOQcdpHz9Am",
        "outputId": "187f1139-d74c-40a0-8d6c-3e7b642f3584",
        "colab": {
          "base_uri": "https://localhost:8080/"
        }
      },
      "outputs": [
        {
          "output_type": "stream",
          "name": "stdout",
          "text": [
            "Quantidade de linhas: 57368\n",
            "Quantidade de linhas com area_util == area_total: 55384\n",
            "Quantidade de linhas diferentes: 1984\n"
          ]
        }
      ],
      "source": [
        "from pyspark.sql import functions as f\n",
        "\n",
        "dados_without_na = dados\\\n",
        "    .select('area_util', 'area_total')\\\n",
        "    .na\\\n",
        "    .drop()\n",
        "\n",
        "quantidade_total = dados_without_na.count()\n",
        "quantidade_iguais = dados_without_na.filter(f.col('area_util') == f.col('area_total')).count()\n",
        "quantidade_distintas = quantidade_total - quantidade_iguais\n",
        "\n",
        "print(f\"Quantidade de linhas: {quantidade_total}\")\n",
        "print(f\"Quantidade de linhas com area_util == area_total: {quantidade_iguais}\")\n",
        "print(f\"Quantidade de linhas diferentes: {quantidade_distintas}\")"
      ]
    },
    {
      "cell_type": "markdown",
      "metadata": {
        "id": "wHgKwIYCz9An"
      },
      "source": [
        "Podemos notar que de 57368 linhas, temos que 55384 linhas possuem os mesmos valores tanto na coluna \"area_total\" quanto na coluna \"area_util\". Dessa forma, temos que a maioria das informações dessas colunas são as mesmas e não é necessário mantermos as duas em nossa base de dados. Para escolhermos qual dessas colunas será removida, vamos analisar a quantidade de dados nulos em cada uma delas."
      ]
    },
    {
      "cell_type": "code",
      "execution_count": 11,
      "metadata": {
        "id": "Nryt8-3oz9An",
        "outputId": "ee7f5bad-3ecf-43a1-e4dc-cec9a146e8c4",
        "colab": {
          "base_uri": "https://localhost:8080/"
        }
      },
      "outputs": [
        {
          "output_type": "stream",
          "name": "stdout",
          "text": [
            "+----------+---------+\n",
            "|area_total|area_util|\n",
            "+----------+---------+\n",
            "|      9194|        0|\n",
            "+----------+---------+\n",
            "\n"
          ]
        }
      ],
      "source": [
        "colunas = [\"area_total\", \"area_util\"]\n",
        "\n",
        "dados\\\n",
        "    .select([f.count(f.when(dados[c].isNull(), True)).alias(c) for c in colunas])\\\n",
        "    .show()"
      ]
    },
    {
      "cell_type": "markdown",
      "metadata": {
        "id": "7ISJBuTLz9An"
      },
      "source": [
        "Analisando o resultado acima, podemos notar que a coluna \"area_total\" possui 9194 dados nulos, enquanto a coluna \"area_util\" não possui nenhuma. Dessa forma, vamos optar por remover a coluna \"area_total\" da nossa base de dados."
      ]
    },
    {
      "cell_type": "code",
      "execution_count": 12,
      "metadata": {
        "id": "rkPeAG2hz9Ao",
        "outputId": "683fd374-9ef3-4402-ae11-f772ef6ef7a8",
        "colab": {
          "base_uri": "https://localhost:8080/"
        }
      },
      "outputs": [
        {
          "output_type": "stream",
          "name": "stdout",
          "text": [
            "+--------------------+-----+---------+---------+--------------------+-------+------+----+------------+------------+----------+----+------+\n",
            "|                  id|andar|area_util|banheiros|     caracteristicas|quartos|suites|vaga|      bairro|        zona|condominio|iptu| valor|\n",
            "+--------------------+-----+---------+---------+--------------------+-------+------+----+------------+------------+----------+----+------+\n",
            "|03a386b6-7ab8-4ef...|    0|       43|        1|[Churrasqueira, A...|      2|  null|   1|    Realengo|  Zona Oeste|       285|null| 22999|\n",
            "|1fe78d41-b8e0-4d2...|    0|       44|        1|                  []|      2|     0|   0|       Irajá|  Zona Norte|       170|   0|110000|\n",
            "|1fa1c1e5-e98c-433...|    4|       55|        1|                  []|      2|     0|   1|      Cosmos|  Zona Oeste|      null|null|115000|\n",
            "|a6ab01ae-3d40-40e...|    2|       55|        1|                  []|      2|     0|   0|Tomás Coelho|  Zona Norte|      null|null|115000|\n",
            "|1d8ff7a2-16bd-4e3...|    0|       50|        1|                  []|      1|  null|   0|      Centro|Zona Central|      1300|2679|125000|\n",
            "+--------------------+-----+---------+---------+--------------------+-------+------+----+------------+------------+----------+----+------+\n",
            "only showing top 5 rows\n",
            "\n"
          ]
        }
      ],
      "source": [
        "dados.\\\n",
        "    drop(\"area_total\", \"tipo_anuncio\", \"tipo_unidade\", \"tipo_uso\", \"tipo\")\\\n",
        "    .show(5)"
      ]
    },
    {
      "cell_type": "code",
      "execution_count": 13,
      "metadata": {
        "id": "o6bUF4cmz9Ao",
        "outputId": "cb35a2aa-e9c3-4e25-f3fd-becf540de395",
        "colab": {
          "base_uri": "https://localhost:8080/"
        }
      },
      "outputs": [
        {
          "output_type": "stream",
          "name": "stdout",
          "text": [
            "+--------------------+-----+---------+---------+--------------------+-------+------+----+------------+------------+----------+----+------+\n",
            "|                  id|andar|area_util|banheiros|     caracteristicas|quartos|suites|vaga|      bairro|        zona|condominio|iptu| valor|\n",
            "+--------------------+-----+---------+---------+--------------------+-------+------+----+------------+------------+----------+----+------+\n",
            "|03a386b6-7ab8-4ef...|    0|       43|        1|[Churrasqueira, A...|      2|  null|   1|    Realengo|  Zona Oeste|       285|null| 22999|\n",
            "|1fe78d41-b8e0-4d2...|    0|       44|        1|                  []|      2|     0|   0|       Irajá|  Zona Norte|       170|   0|110000|\n",
            "|1fa1c1e5-e98c-433...|    4|       55|        1|                  []|      2|     0|   1|      Cosmos|  Zona Oeste|      null|null|115000|\n",
            "|a6ab01ae-3d40-40e...|    2|       55|        1|                  []|      2|     0|   0|Tomás Coelho|  Zona Norte|      null|null|115000|\n",
            "|1d8ff7a2-16bd-4e3...|    0|       50|        1|                  []|      1|  null|   0|      Centro|Zona Central|      1300|2679|125000|\n",
            "+--------------------+-----+---------+---------+--------------------+-------+------+----+------------+------------+----------+----+------+\n",
            "only showing top 5 rows\n",
            "\n"
          ]
        }
      ],
      "source": [
        "# remover as colunas area_total, tipo_anuncio, tipo_unidade, tipo_uso, tipo\n",
        "\n",
        "dataset = dados.\\\n",
        "                drop(\"area_total\", \"tipo_anuncio\", \"tipo_unidade\", \"tipo_uso\", \"tipo\")\n",
        "\n",
        "dataset.show(5)"
      ]
    },
    {
      "cell_type": "markdown",
      "metadata": {
        "id": "njnas7Unz9Ao"
      },
      "source": [
        "## Convertendo os tipos das colunas"
      ]
    },
    {
      "cell_type": "markdown",
      "metadata": {
        "id": "BXHPK8Mkz9Ao"
      },
      "source": [
        "Ao analisarmos a estrutura da nossa base de dados, vamos notar que os tipos dos dados de cada coluna estão incorretos e por isso é necessário convertê-los.\n",
        "\n",
        "Dessa forma, vamos converter o tipo de colunas numéricas, como \"andar\", \"banheiros\", \"suites\" e \"quartos\" para o tipo inteiro. Além disso vamos converter as colunas \"area_util\", \"condominio\", \"iptu\" e \"valor\" para o tipo double."
      ]
    },
    {
      "cell_type": "code",
      "execution_count": 14,
      "metadata": {
        "id": "rifm0LKjz9Ao",
        "outputId": "e289aabe-49f2-4fd9-d2f1-6a26a01a5fe5",
        "colab": {
          "base_uri": "https://localhost:8080/"
        }
      },
      "outputs": [
        {
          "output_type": "stream",
          "name": "stdout",
          "text": [
            "root\n",
            " |-- id: string (nullable = true)\n",
            " |-- andar: long (nullable = true)\n",
            " |-- area_util: string (nullable = true)\n",
            " |-- banheiros: long (nullable = true)\n",
            " |-- caracteristicas: array (nullable = true)\n",
            " |    |-- element: string (containsNull = true)\n",
            " |-- quartos: long (nullable = true)\n",
            " |-- suites: long (nullable = true)\n",
            " |-- vaga: long (nullable = true)\n",
            " |-- bairro: string (nullable = true)\n",
            " |-- zona: string (nullable = true)\n",
            " |-- condominio: string (nullable = true)\n",
            " |-- iptu: string (nullable = true)\n",
            " |-- valor: string (nullable = true)\n",
            "\n"
          ]
        }
      ],
      "source": [
        "dataset.printSchema()"
      ]
    },
    {
      "cell_type": "code",
      "execution_count": 15,
      "metadata": {
        "id": "CEENtFh5z9Ao"
      },
      "outputs": [],
      "source": [
        "from pyspark.sql.types import IntegerType, DoubleType"
      ]
    },
    {
      "cell_type": "code",
      "execution_count": 16,
      "metadata": {
        "id": "Msj6oUl2z9Ap",
        "outputId": "209107db-4866-480b-f0ab-7845da0c8868",
        "colab": {
          "base_uri": "https://localhost:8080/"
        }
      },
      "outputs": [
        {
          "output_type": "stream",
          "name": "stdout",
          "text": [
            "root\n",
            " |-- id: string (nullable = true)\n",
            " |-- andar: integer (nullable = true)\n",
            " |-- area_util: double (nullable = true)\n",
            " |-- banheiros: integer (nullable = true)\n",
            " |-- caracteristicas: array (nullable = true)\n",
            " |    |-- element: string (containsNull = true)\n",
            " |-- quartos: integer (nullable = true)\n",
            " |-- suites: integer (nullable = true)\n",
            " |-- vaga: integer (nullable = true)\n",
            " |-- bairro: string (nullable = true)\n",
            " |-- zona: string (nullable = true)\n",
            " |-- condominio: double (nullable = true)\n",
            " |-- iptu: double (nullable = true)\n",
            " |-- valor: double (nullable = true)\n",
            "\n"
          ]
        }
      ],
      "source": [
        "dataset\\\n",
        "    .withColumn('andar', dados['andar'].cast(IntegerType()))\\\n",
        "    .withColumn('area_util', dados['area_util'].cast(DoubleType()))\\\n",
        "    .withColumn('banheiros', dados['banheiros'].cast(IntegerType()))\\\n",
        "    .withColumn('quartos', dados['quartos'].cast(IntegerType()))\\\n",
        "    .withColumn('suites', dados['suites'].cast(IntegerType()))\\\n",
        "    .withColumn('condominio', dados['condominio'].cast(DoubleType()))\\\n",
        "    .withColumn('vaga', dados['vaga'].cast(IntegerType()))\\\n",
        "    .withColumn('iptu', dados['iptu'].cast(DoubleType()))\\\n",
        "    .withColumn('valor', dados['valor'].cast(DoubleType()))\\\n",
        "    .printSchema()"
      ]
    },
    {
      "cell_type": "code",
      "execution_count": 17,
      "metadata": {
        "id": "aFlH3IMMz9Ap"
      },
      "outputs": [],
      "source": [
        "dataset = dataset\\\n",
        "    .withColumn('andar', dados['andar'].cast(IntegerType()))\\\n",
        "    .withColumn('area_util', dados['area_util'].cast(IntegerType()))\\\n",
        "    .withColumn('banheiros', dados['banheiros'].cast(IntegerType()))\\\n",
        "    .withColumn('quartos', dados['quartos'].cast(IntegerType()))\\\n",
        "    .withColumn('suites', dados['suites'].cast(DoubleType()))\\\n",
        "    .withColumn('condominio', dados['condominio'].cast(DoubleType()))\\\n",
        "    .withColumn('vaga', dados['vaga'].cast(DoubleType()))\\\n",
        "    .withColumn('iptu', dados['iptu'].cast(DoubleType()))\\\n",
        "    .withColumn('valor', dados['valor'].cast(DoubleType()))"
      ]
    },
    {
      "cell_type": "markdown",
      "metadata": {
        "id": "fE2DakABz9Ap"
      },
      "source": [
        "## Tratamento da coluna \"caracteristicas\""
      ]
    },
    {
      "cell_type": "markdown",
      "metadata": {
        "id": "vvYjx1RZz9Ap"
      },
      "source": [
        "A coluna \"caracteristicas\" possui listas de strings como conteúdo de suas linhas. No entanto, algumas dessas listas estão sem elementos.\n",
        "\n",
        "Vamos transformar essas listas sem elementos em valores nulos"
      ]
    },
    {
      "cell_type": "code",
      "execution_count": 18,
      "metadata": {
        "id": "OHdGZ-5vz9Ap",
        "outputId": "01081ef4-86ff-4cbd-e04f-a4bd93d5584a",
        "colab": {
          "base_uri": "https://localhost:8080/"
        }
      },
      "outputs": [
        {
          "output_type": "execute_result",
          "data": {
            "text/plain": [
              "[Row(col='Condomínio fechado'),\n",
              " Row(col='Playground'),\n",
              " Row(col='Portão eletrônico'),\n",
              " Row(col='Piscina'),\n",
              " Row(col='Animais permitidos'),\n",
              " Row(col='Portaria 24h'),\n",
              " Row(col='Elevador'),\n",
              " Row(col='Academia'),\n",
              " Row(col='Salão de festas'),\n",
              " Row(col='Churrasqueira')]"
            ]
          },
          "metadata": {},
          "execution_count": 18
        }
      ],
      "source": [
        "# visualizando os elementos únicos das listas dessa coluna\n",
        "dataset.select(f.explode(\"caracteristicas\")).distinct().collect()"
      ]
    },
    {
      "cell_type": "code",
      "execution_count": 19,
      "metadata": {
        "id": "6jnD7KAvz9Aq",
        "outputId": "dae91491-1680-4c6c-9ebe-262b1be4bca4",
        "colab": {
          "base_uri": "https://localhost:8080/"
        }
      },
      "outputs": [
        {
          "output_type": "stream",
          "name": "stdout",
          "text": [
            "+--------------------+-----+---------+---------+--------------------+-------+------+----+--------------------+------------+----------+------+--------+\n",
            "|                  id|andar|area_util|banheiros|     caracteristicas|quartos|suites|vaga|              bairro|        zona|condominio|  iptu|   valor|\n",
            "+--------------------+-----+---------+---------+--------------------+-------+------+----+--------------------+------------+----------+------+--------+\n",
            "|03a386b6-7ab8-4ef...|    0|       43|        1|[Churrasqueira, A...|      2|  null| 1.0|            Realengo|  Zona Oeste|     285.0|  null| 22999.0|\n",
            "|1fe78d41-b8e0-4d2...|    0|       44|        1|                null|      2|   0.0| 0.0|               Irajá|  Zona Norte|     170.0|   0.0|110000.0|\n",
            "|1fa1c1e5-e98c-433...|    4|       55|        1|                null|      2|   0.0| 1.0|              Cosmos|  Zona Oeste|      null|  null|115000.0|\n",
            "|a6ab01ae-3d40-40e...|    2|       55|        1|                null|      2|   0.0| 0.0|        Tomás Coelho|  Zona Norte|      null|  null|115000.0|\n",
            "|1d8ff7a2-16bd-4e3...|    0|       50|        1|                null|      1|  null| 0.0|              Centro|Zona Central|    1300.0|2679.0|125000.0|\n",
            "|40a2cbde-946b-42d...|    2|       47|        1|[Condomínio fecha...|      2|   0.0| 1.0|        Campo Grande|  Zona Oeste|     380.0|  null|138000.0|\n",
            "|be269ddf-a4a3-4a7...|    0|       45|        1|[Churrasqueira, C...|      2|   0.0| 1.0|        Campo Grande|  Zona Oeste|     356.0|   0.0|140000.0|\n",
            "|4b7e3d59-34fd-4ba...|    3|       48|        1|[Churrasqueira, P...|      2|  null| 1.0|        Campo Grande|  Zona Oeste|       0.0|   0.0|150000.0|\n",
            "|a1a0c2ac-4fa8-4b0...|    9|       55|        1|[Churrasqueira, E...|      2|  null| 1.0|Freguesia (Jacare...|  Zona Oeste|     780.0| 660.0|160000.0|\n",
            "|390d2b88-e06d-47e...|    0|       70|        2|   [Salão de festas]|      2|   0.0| 1.0|          Praça Seca|  Zona Oeste|  420000.0|  null|159000.0|\n",
            "|07bb07c1-21cc-4da...|    2|       48|        1|[Condomínio fecha...|      1|   0.0| 0.0|             Piedade|  Zona Norte|      10.0|  10.0|170000.0|\n",
            "|7d3a1bae-988c-44b...|    5|       40|        1|[Playground, Chur...|      2|   0.0| 1.0|        Braz de Pina|  Zona Norte|     150.0| 120.0|189000.0|\n",
            "|47af17f0-1c81-474...|    0|       65|        1|                null|      2|   0.0| 1.0|            Campinho|  Zona Oeste|     432.0|  null|185000.0|\n",
            "|a9bd1575-e9f2-43d...|    2|       50|        1|[Condomínio fecha...|      1|   0.0| 1.0|           Madureira|  Zona Norte|     650.0|   1.0|185000.0|\n",
            "|cfca7253-3d02-4cd...|    5|       45|        1|[Academia, Churra...|      2|   1.0| 0.0|             Taquara|  Zona Oeste|     150.0|  40.0|199000.0|\n",
            "|b571ae97-e3d8-4fb...|    0|       48|        1|[Academia, Condom...|      2|  null| 0.0|          Bonsucesso|  Zona Norte|       0.0|   0.0|205933.0|\n",
            "|eb5fdc65-acae-45f...|    0|       44|        1|[Academia, Condom...|      2|  null| 0.0|          Bonsucesso|  Zona Norte|       0.0|   0.0|206000.0|\n",
            "|77cd0388-e3ff-40c...|    2|       64|        1|                null|      2|   0.0| 0.0|      Jardim América|  Zona Norte|       0.0|   0.0|220000.0|\n",
            "|74a91f07-7387-4a8...|    0|       55|        2|[Salão de festas,...|      1|   0.0| 1.0|        Engenho Novo|  Zona Norte|     600.0| 652.0|219130.0|\n",
            "|6aab1165-508d-455...|    3|       60|        1|[Animais permitidos]|      3|   0.0| 1.0|           Cascadura|  Zona Norte|      98.0|   1.0|230000.0|\n",
            "+--------------------+-----+---------+---------+--------------------+-------+------+----+--------------------+------------+----------+------+--------+\n",
            "only showing top 20 rows\n",
            "\n"
          ]
        }
      ],
      "source": [
        "dataset = dataset.withColumn('caracteristicas', f.when((f.size(f.col('caracteristicas')) == 0), f.lit(None)).otherwise(f.col('caracteristicas')))\n",
        "dataset.show()"
      ]
    },
    {
      "cell_type": "markdown",
      "metadata": {
        "id": "KJdAS6zZz9Aq"
      },
      "source": [
        "## Tratando dados faltantes"
      ]
    },
    {
      "cell_type": "markdown",
      "metadata": {
        "id": "BDNEt2WPz9Aq"
      },
      "source": [
        "Ao analisarmos a estrutura da nossa base de dados, vamos notar que ela possui diversos dados faltantes. Dessa maneira, é importante lidarmos com isso pois modelos de Machine Learning não costumam trabalhar corretamente com dados nulos."
      ]
    },
    {
      "cell_type": "code",
      "execution_count": 20,
      "metadata": {
        "id": "x6wasXDJz9Aq",
        "outputId": "9ecaee3a-1770-4e51-a6ad-dfcb805ee73a",
        "colab": {
          "base_uri": "https://localhost:8080/"
        }
      },
      "outputs": [
        {
          "output_type": "stream",
          "name": "stdout",
          "text": [
            "root\n",
            " |-- id: string (nullable = true)\n",
            " |-- andar: integer (nullable = true)\n",
            " |-- area_util: integer (nullable = true)\n",
            " |-- banheiros: integer (nullable = true)\n",
            " |-- caracteristicas: array (nullable = true)\n",
            " |    |-- element: string (containsNull = true)\n",
            " |-- quartos: integer (nullable = true)\n",
            " |-- suites: double (nullable = true)\n",
            " |-- vaga: double (nullable = true)\n",
            " |-- bairro: string (nullable = true)\n",
            " |-- zona: string (nullable = true)\n",
            " |-- condominio: double (nullable = true)\n",
            " |-- iptu: double (nullable = true)\n",
            " |-- valor: double (nullable = true)\n",
            "\n"
          ]
        }
      ],
      "source": [
        "dataset.printSchema()"
      ]
    },
    {
      "cell_type": "markdown",
      "metadata": {
        "id": "WJ69BTPpz9Aq"
      },
      "source": [
        "Vamos começar analisando a quantidade de dados nulos em cada uma das nossas colunas"
      ]
    },
    {
      "cell_type": "markdown",
      "metadata": {
        "id": "VUMnDjC2z9Aq"
      },
      "source": [
        "Existem diferentes maneiras de contabilizar a quantidade de dados nulos utilizando PySpark. Nas próximas células, vamos apresentar 3 soluções diferentes, sendo que a terceira delas não abrange a coluna `caracteristicas`"
      ]
    },
    {
      "cell_type": "code",
      "execution_count": 21,
      "metadata": {
        "id": "VhOHCSJ-z9Aq",
        "outputId": "f6249055-9a37-4ade-d550-879e695c93a1",
        "colab": {
          "base_uri": "https://localhost:8080/"
        }
      },
      "outputs": [
        {
          "output_type": "execute_result",
          "data": {
            "text/plain": [
              "{'id': 0,\n",
              " 'andar': 0,\n",
              " 'area_util': 0,\n",
              " 'banheiros': 0,\n",
              " 'caracteristicas': 12736,\n",
              " 'quartos': 0,\n",
              " 'suites': 5554,\n",
              " 'vaga': 3017,\n",
              " 'bairro': 0,\n",
              " 'zona': 0,\n",
              " 'condominio': 2371,\n",
              " 'iptu': 7199,\n",
              " 'valor': 0}"
            ]
          },
          "metadata": {},
          "execution_count": 21
        }
      ],
      "source": [
        "# Solução 01\n",
        "\n",
        "dicionarios_nulos = {col:dataset.filter(dataset[col].isNull()).count() for col in dataset.columns}\n",
        "dicionarios_nulos"
      ]
    },
    {
      "cell_type": "code",
      "execution_count": 22,
      "metadata": {
        "id": "Rn3Xjw0Vz9Ar",
        "outputId": "717ff22c-54bb-46f1-aa0f-11d16237888f",
        "colab": {
          "base_uri": "https://localhost:8080/"
        }
      },
      "outputs": [
        {
          "output_type": "stream",
          "name": "stdout",
          "text": [
            "+---+-----+---------+---------+---------------+-------+------+----+------+----+----------+----+-----+\n",
            "| id|andar|area_util|banheiros|caracteristicas|quartos|suites|vaga|bairro|zona|condominio|iptu|valor|\n",
            "+---+-----+---------+---------+---------------+-------+------+----+------+----+----------+----+-----+\n",
            "|  0|    0|        0|        0|          12736|      0|  5554|3017|     0|   0|      2371|7199|    0|\n",
            "+---+-----+---------+---------+---------------+-------+------+----+------+----+----------+----+-----+\n",
            "\n"
          ]
        }
      ],
      "source": [
        "# Solução 02\n",
        "\n",
        "dataset\\\n",
        "    .select([f.count(f.when(dataset[c].isNull(), True)).alias(c) for c in dataset.columns])\\\n",
        "    .show()"
      ]
    },
    {
      "cell_type": "code",
      "execution_count": 23,
      "metadata": {
        "id": "vNIdrvN3z9Ar",
        "outputId": "c601337d-9e0d-4f86-c46c-50028bd3f34e",
        "colab": {
          "base_uri": "https://localhost:8080/"
        }
      },
      "outputs": [
        {
          "output_type": "stream",
          "name": "stdout",
          "text": [
            "+---+-----+---------+---------+-------+------+----+------+----+----------+----+-----+\n",
            "| id|andar|area_util|banheiros|quartos|suites|vaga|bairro|zona|condominio|iptu|valor|\n",
            "+---+-----+---------+---------+-------+------+----+------+----+----------+----+-----+\n",
            "|  0|    0|        0|        0|      0|  5554|3017|     0|   0|      2371|7199|    0|\n",
            "+---+-----+---------+---------+-------+------+----+------+----+----------+----+-----+\n",
            "\n"
          ]
        }
      ],
      "source": [
        "# Solução 03 - sem a coluna \"caracteristicas\"\n",
        "\n",
        "dataset\\\n",
        "    .select([f.count(f.when(f.isnan(c) | f.isnull(c), True)).alias(c) for c in dataset.columns if c != 'caracteristicas' ])\\\n",
        "    .show()"
      ]
    },
    {
      "cell_type": "markdown",
      "metadata": {
        "id": "3VzWQtpwz9Ar"
      },
      "source": [
        "Para lidarmos com os dados nulos das colunas numéricas, optamos por substituí-los pelo número 0."
      ]
    },
    {
      "cell_type": "code",
      "execution_count": 24,
      "metadata": {
        "id": "-6zuAum7z9Ar",
        "outputId": "6c4ca0a9-5b82-469e-e481-1b9b2c912165",
        "colab": {
          "base_uri": "https://localhost:8080/"
        }
      },
      "outputs": [
        {
          "output_type": "stream",
          "name": "stdout",
          "text": [
            "+--------------------+-----+---------+---------+--------------------+-------+------+----+--------------------+------------+----------+------+--------+\n",
            "|                  id|andar|area_util|banheiros|     caracteristicas|quartos|suites|vaga|              bairro|        zona|condominio|  iptu|   valor|\n",
            "+--------------------+-----+---------+---------+--------------------+-------+------+----+--------------------+------------+----------+------+--------+\n",
            "|03a386b6-7ab8-4ef...|    0|       43|        1|[Churrasqueira, A...|      2|   0.0| 1.0|            Realengo|  Zona Oeste|     285.0|   0.0| 22999.0|\n",
            "|1fe78d41-b8e0-4d2...|    0|       44|        1|                null|      2|   0.0| 0.0|               Irajá|  Zona Norte|     170.0|   0.0|110000.0|\n",
            "|1fa1c1e5-e98c-433...|    4|       55|        1|                null|      2|   0.0| 1.0|              Cosmos|  Zona Oeste|       0.0|   0.0|115000.0|\n",
            "|a6ab01ae-3d40-40e...|    2|       55|        1|                null|      2|   0.0| 0.0|        Tomás Coelho|  Zona Norte|       0.0|   0.0|115000.0|\n",
            "|1d8ff7a2-16bd-4e3...|    0|       50|        1|                null|      1|   0.0| 0.0|              Centro|Zona Central|    1300.0|2679.0|125000.0|\n",
            "|40a2cbde-946b-42d...|    2|       47|        1|[Condomínio fecha...|      2|   0.0| 1.0|        Campo Grande|  Zona Oeste|     380.0|   0.0|138000.0|\n",
            "|be269ddf-a4a3-4a7...|    0|       45|        1|[Churrasqueira, C...|      2|   0.0| 1.0|        Campo Grande|  Zona Oeste|     356.0|   0.0|140000.0|\n",
            "|4b7e3d59-34fd-4ba...|    3|       48|        1|[Churrasqueira, P...|      2|   0.0| 1.0|        Campo Grande|  Zona Oeste|       0.0|   0.0|150000.0|\n",
            "|a1a0c2ac-4fa8-4b0...|    9|       55|        1|[Churrasqueira, E...|      2|   0.0| 1.0|Freguesia (Jacare...|  Zona Oeste|     780.0| 660.0|160000.0|\n",
            "|390d2b88-e06d-47e...|    0|       70|        2|   [Salão de festas]|      2|   0.0| 1.0|          Praça Seca|  Zona Oeste|  420000.0|   0.0|159000.0|\n",
            "|07bb07c1-21cc-4da...|    2|       48|        1|[Condomínio fecha...|      1|   0.0| 0.0|             Piedade|  Zona Norte|      10.0|  10.0|170000.0|\n",
            "|7d3a1bae-988c-44b...|    5|       40|        1|[Playground, Chur...|      2|   0.0| 1.0|        Braz de Pina|  Zona Norte|     150.0| 120.0|189000.0|\n",
            "|47af17f0-1c81-474...|    0|       65|        1|                null|      2|   0.0| 1.0|            Campinho|  Zona Oeste|     432.0|   0.0|185000.0|\n",
            "|a9bd1575-e9f2-43d...|    2|       50|        1|[Condomínio fecha...|      1|   0.0| 1.0|           Madureira|  Zona Norte|     650.0|   1.0|185000.0|\n",
            "|cfca7253-3d02-4cd...|    5|       45|        1|[Academia, Churra...|      2|   1.0| 0.0|             Taquara|  Zona Oeste|     150.0|  40.0|199000.0|\n",
            "|b571ae97-e3d8-4fb...|    0|       48|        1|[Academia, Condom...|      2|   0.0| 0.0|          Bonsucesso|  Zona Norte|       0.0|   0.0|205933.0|\n",
            "|eb5fdc65-acae-45f...|    0|       44|        1|[Academia, Condom...|      2|   0.0| 0.0|          Bonsucesso|  Zona Norte|       0.0|   0.0|206000.0|\n",
            "|77cd0388-e3ff-40c...|    2|       64|        1|                null|      2|   0.0| 0.0|      Jardim América|  Zona Norte|       0.0|   0.0|220000.0|\n",
            "|74a91f07-7387-4a8...|    0|       55|        2|[Salão de festas,...|      1|   0.0| 1.0|        Engenho Novo|  Zona Norte|     600.0| 652.0|219130.0|\n",
            "|6aab1165-508d-455...|    3|       60|        1|[Animais permitidos]|      3|   0.0| 1.0|           Cascadura|  Zona Norte|      98.0|   1.0|230000.0|\n",
            "+--------------------+-----+---------+---------+--------------------+-------+------+----+--------------------+------------+----------+------+--------+\n",
            "only showing top 20 rows\n",
            "\n"
          ]
        }
      ],
      "source": [
        "dataset\\\n",
        "    .select('*')\\\n",
        "    .na\\\n",
        "    .fill(0)\\\n",
        "    .show()"
      ]
    },
    {
      "cell_type": "code",
      "execution_count": 25,
      "metadata": {
        "id": "PfxeHahgz9Ar"
      },
      "outputs": [],
      "source": [
        "dataset = dataset\\\n",
        "    .select('*')\\\n",
        "    .na\\\n",
        "    .fill(0)"
      ]
    },
    {
      "cell_type": "markdown",
      "metadata": {
        "id": "BsY4_THwz9As"
      },
      "source": [
        "Nesse momento não vamos nos preocupar em tratar os dados nulos da coluna \"caracteristicas\". Faremos isso mais a frente quando formos realizar a preparação dos nossos dados para o modelo de Machine Learning."
      ]
    },
    {
      "cell_type": "markdown",
      "metadata": {
        "id": "HNEG5-2oz9As"
      },
      "source": [
        "Outra coluna que devemos nos atentar é a `zona`. Ao verificarmos os dados únicos dessa coluna, vamos notar que existe uma string vazia como conteúdo dessa coluna."
      ]
    },
    {
      "cell_type": "code",
      "execution_count": 26,
      "metadata": {
        "id": "EAN5eC9qz9As",
        "outputId": "2cb27605-2bb1-4fb8-b2dc-02cb2dfeae77",
        "colab": {
          "base_uri": "https://localhost:8080/"
        }
      },
      "outputs": [
        {
          "output_type": "stream",
          "name": "stdout",
          "text": [
            "+------------+-----+\n",
            "|        zona|count|\n",
            "+------------+-----+\n",
            "|  Zona Norte|11897|\n",
            "|  Zona Oeste|32979|\n",
            "|Zona Central| 1144|\n",
            "|    Zona Sul|20531|\n",
            "|            |   11|\n",
            "+------------+-----+\n",
            "\n"
          ]
        }
      ],
      "source": [
        "dataset\\\n",
        "    .select('zona')\\\n",
        "    .groupBy('zona')\\\n",
        "    .count()\\\n",
        "    .show()"
      ]
    },
    {
      "cell_type": "markdown",
      "metadata": {
        "id": "lPKpu-8gz9As"
      },
      "source": [
        "Podemos notar que apenas 11 das linhas da nossa base de dados possui essa string vazia. Sendo assim, podemos desconsiderar essas linhas da nossa base de dados."
      ]
    },
    {
      "cell_type": "code",
      "execution_count": 27,
      "metadata": {
        "id": "MlilGZfoz9As"
      },
      "outputs": [],
      "source": [
        "dataset = dataset\\\n",
        "    .where(f.col('zona') != '')"
      ]
    },
    {
      "cell_type": "markdown",
      "metadata": {
        "id": "ip_D3cb1z9As"
      },
      "source": [
        "## Preparação dos dados para ML "
      ]
    },
    {
      "cell_type": "markdown",
      "metadata": {
        "id": "9bn9mLkoz9As"
      },
      "source": [
        "[Documentação da Biblioteca Pyspark ML](https://spark.apache.org/docs/2.3.1/api/python/pyspark.ml.html)"
      ]
    },
    {
      "cell_type": "markdown",
      "metadata": {
        "id": "suYWpMzxz9As"
      },
      "source": [
        "Para conseguirmos utilizar nossos dados em modelos de Machine Learning, é necessário realizarmos algumas técnicas, como a transformação de variáveis categóricas em binárias.\n",
        "\n",
        "Além disso, no caso de modelos do PySpark nós também utilizaremos a técnica de vetorização dos dados."
      ]
    },
    {
      "cell_type": "markdown",
      "metadata": {
        "id": "mvonnS7cz9As"
      },
      "source": [
        "## Variáveis Dummy"
      ]
    },
    {
      "cell_type": "markdown",
      "metadata": {
        "id": "KMQN_2gYz9At"
      },
      "source": [
        "Esse processo consiste em transformar as variáveis categóricas em binárias. Precisamos realizar isso, pois modelos de regressão não conseguem lidar com variáveis textuais."
      ]
    },
    {
      "cell_type": "code",
      "execution_count": 28,
      "metadata": {
        "id": "ZIZEhyXKz9At",
        "outputId": "067b2ef8-6c19-417d-a52d-6a9b71fd53f5",
        "colab": {
          "base_uri": "https://localhost:8080/"
        }
      },
      "outputs": [
        {
          "output_type": "stream",
          "name": "stdout",
          "text": [
            "root\n",
            " |-- id: string (nullable = true)\n",
            " |-- andar: integer (nullable = true)\n",
            " |-- area_util: integer (nullable = true)\n",
            " |-- banheiros: integer (nullable = true)\n",
            " |-- caracteristicas: array (nullable = true)\n",
            " |    |-- element: string (containsNull = true)\n",
            " |-- quartos: integer (nullable = true)\n",
            " |-- suites: double (nullable = false)\n",
            " |-- vaga: double (nullable = false)\n",
            " |-- bairro: string (nullable = true)\n",
            " |-- zona: string (nullable = true)\n",
            " |-- condominio: double (nullable = false)\n",
            " |-- iptu: double (nullable = false)\n",
            " |-- valor: double (nullable = false)\n",
            "\n"
          ]
        }
      ],
      "source": [
        "dataset.printSchema()"
      ]
    },
    {
      "cell_type": "code",
      "execution_count": 29,
      "metadata": {
        "id": "GIJ2Q9QOz9At",
        "outputId": "26dfc51f-8fe4-4d62-bd5d-818479f023b5",
        "colab": {
          "base_uri": "https://localhost:8080/"
        }
      },
      "outputs": [
        {
          "output_type": "stream",
          "name": "stdout",
          "text": [
            "+--------------------+-----+---------+---------+--------------------+-------+------+----+------------+----------+----------+----+--------+------------------+\n",
            "|                  id|andar|area_util|banheiros|     caracteristicas|quartos|suites|vaga|      bairro|      zona|condominio|iptu|   valor|    caracteristica|\n",
            "+--------------------+-----+---------+---------+--------------------+-------+------+----+------------+----------+----------+----+--------+------------------+\n",
            "|03a386b6-7ab8-4ef...|    0|       43|        1|[Churrasqueira, A...|      2|   0.0| 1.0|    Realengo|Zona Oeste|     285.0| 0.0| 22999.0|     Churrasqueira|\n",
            "|03a386b6-7ab8-4ef...|    0|       43|        1|[Churrasqueira, A...|      2|   0.0| 1.0|    Realengo|Zona Oeste|     285.0| 0.0| 22999.0|          Academia|\n",
            "|03a386b6-7ab8-4ef...|    0|       43|        1|[Churrasqueira, A...|      2|   0.0| 1.0|    Realengo|Zona Oeste|     285.0| 0.0| 22999.0|        Playground|\n",
            "|03a386b6-7ab8-4ef...|    0|       43|        1|[Churrasqueira, A...|      2|   0.0| 1.0|    Realengo|Zona Oeste|     285.0| 0.0| 22999.0|   Salão de festas|\n",
            "|03a386b6-7ab8-4ef...|    0|       43|        1|[Churrasqueira, A...|      2|   0.0| 1.0|    Realengo|Zona Oeste|     285.0| 0.0| 22999.0|Condomínio fechado|\n",
            "|03a386b6-7ab8-4ef...|    0|       43|        1|[Churrasqueira, A...|      2|   0.0| 1.0|    Realengo|Zona Oeste|     285.0| 0.0| 22999.0| Portão eletrônico|\n",
            "|03a386b6-7ab8-4ef...|    0|       43|        1|[Churrasqueira, A...|      2|   0.0| 1.0|    Realengo|Zona Oeste|     285.0| 0.0| 22999.0|      Portaria 24h|\n",
            "|03a386b6-7ab8-4ef...|    0|       43|        1|[Churrasqueira, A...|      2|   0.0| 1.0|    Realengo|Zona Oeste|     285.0| 0.0| 22999.0|Animais permitidos|\n",
            "|40a2cbde-946b-42d...|    2|       47|        1|[Condomínio fecha...|      2|   0.0| 1.0|Campo Grande|Zona Oeste|     380.0| 0.0|138000.0|Condomínio fechado|\n",
            "|40a2cbde-946b-42d...|    2|       47|        1|[Condomínio fecha...|      2|   0.0| 1.0|Campo Grande|Zona Oeste|     380.0| 0.0|138000.0|      Portaria 24h|\n",
            "|40a2cbde-946b-42d...|    2|       47|        1|[Condomínio fecha...|      2|   0.0| 1.0|Campo Grande|Zona Oeste|     380.0| 0.0|138000.0|   Salão de festas|\n",
            "|40a2cbde-946b-42d...|    2|       47|        1|[Condomínio fecha...|      2|   0.0| 1.0|Campo Grande|Zona Oeste|     380.0| 0.0|138000.0|     Churrasqueira|\n",
            "|40a2cbde-946b-42d...|    2|       47|        1|[Condomínio fecha...|      2|   0.0| 1.0|Campo Grande|Zona Oeste|     380.0| 0.0|138000.0|           Piscina|\n",
            "|40a2cbde-946b-42d...|    2|       47|        1|[Condomínio fecha...|      2|   0.0| 1.0|Campo Grande|Zona Oeste|     380.0| 0.0|138000.0|Animais permitidos|\n",
            "|be269ddf-a4a3-4a7...|    0|       45|        1|[Churrasqueira, C...|      2|   0.0| 1.0|Campo Grande|Zona Oeste|     356.0| 0.0|140000.0|     Churrasqueira|\n",
            "|be269ddf-a4a3-4a7...|    0|       45|        1|[Churrasqueira, C...|      2|   0.0| 1.0|Campo Grande|Zona Oeste|     356.0| 0.0|140000.0|Condomínio fechado|\n",
            "|be269ddf-a4a3-4a7...|    0|       45|        1|[Churrasqueira, C...|      2|   0.0| 1.0|Campo Grande|Zona Oeste|     356.0| 0.0|140000.0|           Piscina|\n",
            "|4b7e3d59-34fd-4ba...|    3|       48|        1|[Churrasqueira, P...|      2|   0.0| 1.0|Campo Grande|Zona Oeste|       0.0| 0.0|150000.0|     Churrasqueira|\n",
            "|4b7e3d59-34fd-4ba...|    3|       48|        1|[Churrasqueira, P...|      2|   0.0| 1.0|Campo Grande|Zona Oeste|       0.0| 0.0|150000.0|           Piscina|\n",
            "|4b7e3d59-34fd-4ba...|    3|       48|        1|[Churrasqueira, P...|      2|   0.0| 1.0|Campo Grande|Zona Oeste|       0.0| 0.0|150000.0|        Playground|\n",
            "+--------------------+-----+---------+---------+--------------------+-------+------+----+------------+----------+----------+----+--------+------------------+\n",
            "only showing top 20 rows\n",
            "\n"
          ]
        }
      ],
      "source": [
        "dataset.select(\"*\", f.explode(\"caracteristicas\").alias(\"caracteristica\")).show()"
      ]
    },
    {
      "cell_type": "markdown",
      "metadata": {
        "id": "GLUZKlxOz9At"
      },
      "source": [
        "Vamos transformar cada uma das características da coluna `caracteristicas` em colunas separadas. Assim, nas linhas que possuírem a característica vamos preencher com o valor \"1\" e caso contrário vamos colocar o valor \"0\""
      ]
    },
    {
      "cell_type": "code",
      "execution_count": 30,
      "metadata": {
        "id": "Y14160jzz9At",
        "outputId": "f2bbdb13-697a-4a63-aa8b-a396c939d926",
        "colab": {
          "base_uri": "https://localhost:8080/"
        }
      },
      "outputs": [
        {
          "output_type": "stream",
          "name": "stdout",
          "text": [
            "+------------------------------------+--------+------------------+-------------+------------------+--------+-------+----------+------------+-----------------+---------------+\n",
            "|id                                  |Academia|Animais permitidos|Churrasqueira|Condomínio fechado|Elevador|Piscina|Playground|Portaria 24h|Portão eletrônico|Salão de festas|\n",
            "+------------------------------------+--------+------------------+-------------+------------------+--------+-------+----------+------------+-----------------+---------------+\n",
            "|fd96bbd5-d631-416a-9f84-29091cefe14c|1       |1                 |1            |1                 |1       |1      |1         |1           |1                |1              |\n",
            "|bfffedfe-99e7-4aed-9a9f-f766225a0f1f|0       |1                 |1            |1                 |1       |0      |1         |0           |1                |1              |\n",
            "|fcb67af3-5601-415f-9d1f-75280923a4e3|1       |1                 |1            |0                 |0       |1      |1         |0           |0                |1              |\n",
            "|afecddff-f4cc-4ab8-bdbf-242b7dff7241|1       |1                 |1            |1                 |1       |1      |1         |1           |1                |1              |\n",
            "|1bbc40f3-4f5c-4595-99b1-56ef42a54ede|1       |0                 |0            |1                 |1       |1      |1         |1           |1                |1              |\n",
            "|fd26aeb2-a7b3-4f80-97ed-fe3eb928c123|1       |1                 |1            |1                 |1       |1      |1         |1           |1                |1              |\n",
            "|10e9d118-dbad-43c3-879d-6def0d60f8ed|0       |1                 |1            |1                 |0       |1      |1         |1           |1                |1              |\n",
            "|ca1e84d7-86c8-4b1e-aa5a-db99c8c9d0d3|1       |0                 |1            |1                 |1       |1      |1         |1           |1                |1              |\n",
            "|d9e139a5-e85d-4e1b-b77f-1b120d146fb3|1       |1                 |1            |1                 |1       |1      |1         |1           |1                |1              |\n",
            "|156a1fa5-37ca-43db-8448-df4a35f45496|1       |0                 |1            |1                 |1       |1      |1         |1           |1                |1              |\n",
            "|e7be09eb-6223-4b41-b255-30a5f7d67771|1       |1                 |1            |1                 |1       |1      |1         |1           |1                |1              |\n",
            "|631efda0-5e10-422c-990a-f6c47f6ec4c7|1       |1                 |1            |1                 |1       |1      |1         |1           |1                |1              |\n",
            "|07cbfef2-efbf-4e89-a023-db65e76cc820|0       |1                 |0            |0                 |1       |0      |0         |1           |0                |0              |\n",
            "|62baf185-103d-4489-956a-d2cc707a66cd|1       |0                 |1            |1                 |0       |1      |1         |0           |0                |0              |\n",
            "|3030d17c-5681-4b2f-b333-3e363a92ddda|1       |1                 |1            |1                 |1       |1      |0         |1           |1                |1              |\n",
            "|6179c8a4-1fd2-4f54-a91d-68d1ba80dd26|1       |1                 |0            |1                 |1       |1      |1         |1           |1                |1              |\n",
            "|c284072a-7298-4e5a-bc0b-a90b3a0f17fc|1       |1                 |1            |1                 |1       |1      |1         |1           |1                |1              |\n",
            "|7e43514c-3b40-4fbd-9ad4-1fcac078134d|1       |1                 |1            |1                 |1       |1      |1         |1           |1                |1              |\n",
            "|6a4ce9ac-1eb0-4d4b-9a65-5e6d842777bf|1       |0                 |1            |0                 |1       |1      |1         |0           |0                |1              |\n",
            "|bdc6127a-1d97-41b4-a736-85122e76bd5e|1       |0                 |1            |0                 |0       |0      |0         |0           |0                |1              |\n",
            "+------------------------------------+--------+------------------+-------------+------------------+--------+-------+----------+------------+-----------------+---------------+\n",
            "only showing top 20 rows\n",
            "\n"
          ]
        }
      ],
      "source": [
        "dataset\\\n",
        "    .select(\"*\", f.explode(\"caracteristicas\").alias(\"cara\"))\\\n",
        "    .groupBy(\"id\")\\\n",
        "    .pivot('cara')\\\n",
        "    .agg(f.lit(1))\\\n",
        "    .na\\\n",
        "    .fill(0)\\\n",
        "    .show(truncate=False)"
      ]
    },
    {
      "cell_type": "code",
      "execution_count": 31,
      "metadata": {
        "id": "8eOlOiXyz9At"
      },
      "outputs": [],
      "source": [
        "caracteristicas = dataset\\\n",
        "    .select(\"*\", f.explode(\"caracteristicas\").alias(\"cara\"))\\\n",
        "    .groupBy(\"id\")\\\n",
        "    .pivot('cara')\\\n",
        "    .agg(f.lit(1))"
      ]
    },
    {
      "cell_type": "markdown",
      "metadata": {
        "id": "iQREjwehz9At"
      },
      "source": [
        "Da mesma forma que fizemos com a coluna `caracteristicas` anteriormente, iremos fazer agora com a coluna `zona`. Vamos transformar cada uma das zonas da coluna `zona` em colunas separadas. Assim, nas linhas que pertencerem a uma zona específica vamos preencher com o valor \"1\" e caso contrário vamos colocar o valor \"0\""
      ]
    },
    {
      "cell_type": "code",
      "execution_count": 32,
      "metadata": {
        "id": "LzADTUEbz9Au"
      },
      "outputs": [],
      "source": [
        "zona = dataset\\\n",
        "    .groupBy(\"id\")\\\n",
        "    .pivot('zona')\\\n",
        "    .agg(f.lit(1))"
      ]
    },
    {
      "cell_type": "code",
      "execution_count": 33,
      "metadata": {
        "id": "ZHWHDCy-z9Au",
        "outputId": "38fd6292-b06d-4cbd-eb7b-b8eb4e28d07d",
        "colab": {
          "base_uri": "https://localhost:8080/"
        }
      },
      "outputs": [
        {
          "output_type": "stream",
          "name": "stdout",
          "text": [
            "+------------------------------------+-----+---------+---------+-------------------------------------------------------------------------------------------------------------------------------+-------+------+----+-----------------------+------------+----------+------+--------+\n",
            "|id                                  |andar|area_util|banheiros|caracteristicas                                                                                                                |quartos|suites|vaga|bairro                 |zona        |condominio|iptu  |valor   |\n",
            "+------------------------------------+-----+---------+---------+-------------------------------------------------------------------------------------------------------------------------------+-------+------+----+-----------------------+------------+----------+------+--------+\n",
            "|03a386b6-7ab8-4eff-891d-f8a16efc1989|0    |43       |1        |[Churrasqueira, Academia, Playground, Salão de festas, Condomínio fechado, Portão eletrônico, Portaria 24h, Animais permitidos]|2      |0.0   |1.0 |Realengo               |Zona Oeste  |285.0     |0.0   |22999.0 |\n",
            "|1fe78d41-b8e0-4d21-a1a8-72cb7863f441|0    |44       |1        |null                                                                                                                           |2      |0.0   |0.0 |Irajá                  |Zona Norte  |170.0     |0.0   |110000.0|\n",
            "|1fa1c1e5-e98c-433f-9675-1b43d7d6da01|4    |55       |1        |null                                                                                                                           |2      |0.0   |1.0 |Cosmos                 |Zona Oeste  |0.0       |0.0   |115000.0|\n",
            "|a6ab01ae-3d40-40e7-bb6a-f2334e0abbe0|2    |55       |1        |null                                                                                                                           |2      |0.0   |0.0 |Tomás Coelho           |Zona Norte  |0.0       |0.0   |115000.0|\n",
            "|1d8ff7a2-16bd-4e3f-a92e-1b85f923ebb0|0    |50       |1        |null                                                                                                                           |1      |0.0   |0.0 |Centro                 |Zona Central|1300.0    |2679.0|125000.0|\n",
            "|40a2cbde-946b-42da-b7f2-b80057c7a47f|2    |47       |1        |[Condomínio fechado, Portaria 24h, Salão de festas, Churrasqueira, Piscina, Animais permitidos]                                |2      |0.0   |1.0 |Campo Grande           |Zona Oeste  |380.0     |0.0   |138000.0|\n",
            "|be269ddf-a4a3-4a72-bd54-93cdccf512dd|0    |45       |1        |[Churrasqueira, Condomínio fechado, Piscina]                                                                                   |2      |0.0   |1.0 |Campo Grande           |Zona Oeste  |356.0     |0.0   |140000.0|\n",
            "|4b7e3d59-34fd-4bac-9232-1015cb3b3a24|3    |48       |1        |[Churrasqueira, Piscina, Playground, Salão de festas, Condomínio fechado, Portão eletrônico, Portaria 24h, Animais permitidos] |2      |0.0   |1.0 |Campo Grande           |Zona Oeste  |0.0       |0.0   |150000.0|\n",
            "|a1a0c2ac-4fa8-4b02-a087-f9d76b6bccb7|9    |55       |1        |[Churrasqueira, Elevador, Salão de festas, Condomínio fechado, Portão eletrônico, Portaria 24h, Animais permitidos]            |2      |0.0   |1.0 |Freguesia (Jacarepaguá)|Zona Oeste  |780.0     |660.0 |160000.0|\n",
            "|390d2b88-e06d-47e5-ba7f-a680130ac5f0|0    |70       |2        |[Salão de festas]                                                                                                              |2      |0.0   |1.0 |Praça Seca             |Zona Oeste  |420000.0  |0.0   |159000.0|\n",
            "+------------------------------------+-----+---------+---------+-------------------------------------------------------------------------------------------------------------------------------+-------+------+----+-----------------------+------------+----------+------+--------+\n",
            "only showing top 10 rows\n",
            "\n"
          ]
        }
      ],
      "source": [
        "dataset.show(10, truncate=False)"
      ]
    },
    {
      "cell_type": "markdown",
      "metadata": {
        "id": "LQGSK6kYz9Au"
      },
      "source": [
        "Como salvamos os tratamentos feitos anteriormente nas colunas `caracteristicas` e `zona` em variáveis separadas, vamos agora juntar o conteúdo dessas variáveis com o conjunto de dados completo."
      ]
    },
    {
      "cell_type": "code",
      "execution_count": 34,
      "metadata": {
        "id": "TrysEN4Rz9Au"
      },
      "outputs": [],
      "source": [
        "# contando a quantidade total de linhas do dataset original\n",
        "count_rows_original = dataset.count()"
      ]
    },
    {
      "cell_type": "code",
      "execution_count": 35,
      "metadata": {
        "id": "hX7WSlunz9Au"
      },
      "outputs": [],
      "source": [
        "# juntando os dados utilizando o metodo join\n",
        "dataset = dataset\\\n",
        "    .join(zona, 'id', how='inner')\\\n",
        "    .join(caracteristicas, 'id', how='left')\\\n",
        "    .drop('zona', 'cara', 'caracteristicas')\\\n",
        "    .na\\\n",
        "    .fill(0)"
      ]
    },
    {
      "cell_type": "code",
      "execution_count": 36,
      "metadata": {
        "id": "yYjDwcb4z9Au",
        "outputId": "534899bb-9772-4b71-86e9-7c3fcb5b8435",
        "colab": {
          "base_uri": "https://localhost:8080/"
        }
      },
      "outputs": [
        {
          "output_type": "stream",
          "name": "stdout",
          "text": [
            "Quantidade de linhas antes:  66551\n",
            "Quantidade de linhas depois:  66551\n",
            "Quantidade de linhas perdidas:  0\n"
          ]
        }
      ],
      "source": [
        "# comparando se o join funcionou corretamente e ainda temos a mesma quantidade de linhas do dataset original\n",
        "print(\"Quantidade de linhas antes: \", count_rows_original)\n",
        "print(\"Quantidade de linhas depois: \", dataset.count())\n",
        "print(\"Quantidade de linhas perdidas: \", count_rows_original - dataset.count())"
      ]
    },
    {
      "cell_type": "code",
      "execution_count": 37,
      "metadata": {
        "id": "ElemZPGgz9Av",
        "outputId": "9545bc2a-7a54-498e-fef3-badb4bc85b37",
        "colab": {
          "base_uri": "https://localhost:8080/"
        }
      },
      "outputs": [
        {
          "output_type": "stream",
          "name": "stdout",
          "text": [
            "+--------------------+-----+---------+---------+-------+------+----+-----------+----------+------+---------+------------+----------+----------+--------+--------+------------------+-------------+------------------+--------+-------+----------+------------+-----------------+---------------+\n",
            "|                  id|andar|area_util|banheiros|quartos|suites|vaga|     bairro|condominio|  iptu|    valor|Zona Central|Zona Norte|Zona Oeste|Zona Sul|Academia|Animais permitidos|Churrasqueira|Condomínio fechado|Elevador|Piscina|Playground|Portaria 24h|Portão eletrônico|Salão de festas|\n",
            "+--------------------+-----+---------+---------+-------+------+----+-----------+----------+------+---------+------------+----------+----------+--------+--------+------------------+-------------+------------------+--------+-------+----------+------------+-----------------+---------------+\n",
            "|02fba6ef-a691-442...|    3|       64|        1|      2|   2.0| 1.0|Jacarepaguá|     784.0|  80.0| 380000.0|           0|         0|         1|       0|       1|                 1|            1|                 1|       1|      1|         1|           1|                1|              1|\n",
            "|3dd5d200-0a7f-43d...|    0|      170|        3|      4|   1.0| 1.0|Cosme Velho|    2250.0|3000.0|1450000.0|           0|         0|         0|       1|       0|                 0|            0|                 0|       1|      0|         0|           0|                0|              0|\n",
            "|4e47e4d4-3326-4eb...|    0|       90|        2|      3|   1.0| 0.0| Copacabana|     950.0|2677.0| 949020.0|           0|         0|         0|       1|       0|                 0|            0|                 0|       1|      0|         0|           0|                0|              0|\n",
            "|82707939-71bd-40c...|    0|      525|        4|      4|   2.0| 2.0|   Flamengo|    5000.0|2100.0|5199000.0|           0|         0|         0|       1|       0|                 0|            0|                 0|       0|      0|         0|           0|                0|              0|\n",
            "|ece1e671-cb4d-48a...|    0|       50|        1|      2|   0.0| 1.0|     Centro|     320.0|  80.0| 330000.0|           1|         0|         0|       0|       1|                 1|            1|                 1|       1|      1|         1|           1|                1|              1|\n",
            "+--------------------+-----+---------+---------+-------+------+----+-----------+----------+------+---------+------------+----------+----------+--------+--------+------------------+-------------+------------------+--------+-------+----------+------------+-----------------+---------------+\n",
            "only showing top 5 rows\n",
            "\n"
          ]
        }
      ],
      "source": [
        "dataset.show(5)"
      ]
    },
    {
      "cell_type": "code",
      "execution_count": 38,
      "metadata": {
        "id": "xKTxSYekz9Av",
        "outputId": "2affa95a-0079-4090-d1ea-f27d5b47b773",
        "colab": {
          "base_uri": "https://localhost:8080/"
        }
      },
      "outputs": [
        {
          "output_type": "stream",
          "name": "stdout",
          "text": [
            "+--------------------+-----+---------+---------+-------+------+----+------------+----------+----+--------+------------+----------+----------+--------+--------+------------------+-------------+------------------+--------+-------+----------+------------+-----------------+---------------+\n",
            "|                  id|andar|area_util|banheiros|quartos|suites|vaga|      bairro|condominio|iptu|   valor|Zona Central|Zona Norte|Zona Oeste|Zona Sul|Academia|Animais permitidos|Churrasqueira|Condomínio fechado|Elevador|Piscina|Playground|Portaria 24h|Portão eletrônico|Salão de festas|\n",
            "+--------------------+-----+---------+---------+-------+------+----+------------+----------+----+--------+------------+----------+----------+--------+--------+------------------+-------------+------------------+--------+-------+----------+------------+-----------------+---------------+\n",
            "|be269ddf-a4a3-4a7...|    0|       45|        1|      2|   0.0| 1.0|Campo Grande|     356.0| 0.0|140000.0|           0|         0|         1|       0|       0|                 0|            1|                 1|       0|      1|         0|           0|                0|              0|\n",
            "+--------------------+-----+---------+---------+-------+------+----+------------+----------+----+--------+------------+----------+----------+--------+--------+------------------+-------------+------------------+--------+-------+----------+------------+-----------------+---------------+\n",
            "\n"
          ]
        }
      ],
      "source": [
        "# Conferindo o ID e se as colunas dummies referentes a esse ID estão corretas.\n",
        "\n",
        "dataset.filter(f.col('id')==\"be269ddf-a4a3-4a72-bd54-93cdccf512dd\").show(5)"
      ]
    },
    {
      "cell_type": "markdown",
      "metadata": {
        "id": "ZTH-cWZiz9Av"
      },
      "source": [
        "## Salvando os dados em parquet"
      ]
    },
    {
      "cell_type": "markdown",
      "metadata": {
        "id": "MZi0N7izz9Av"
      },
      "source": [
        "Até aqui criamos uma base dados ideal para utilizar em modelos de machine learning. É importante exportar ela para conseguirmos utilizá-la em outros modelos e para treinar novamente nosso modelo, caso seja necessário. Além disso, também utilizaremos essa base de dados nas próximas semanas do projeto."
      ]
    },
    {
      "cell_type": "code",
      "execution_count": 39,
      "metadata": {
        "id": "6OBziJxhz9Av"
      },
      "outputs": [],
      "source": [
        "dataset.write.parquet(\"dados_salvos/dataset_ml_regressao\")"
      ]
    },
    {
      "cell_type": "markdown",
      "metadata": {
        "id": "ZA-x23Fhz9Aw"
      },
      "source": [
        "## Extra: Análise de correlação\n",
        "\n",
        "Vamos analisar a correlação entre as variáveis numéricas da nossa base de dados. Esse processo é importante para detectarmos redundância entre as variáveis."
      ]
    },
    {
      "cell_type": "code",
      "execution_count": 40,
      "metadata": {
        "id": "VA9zalINz9Aw"
      },
      "outputs": [],
      "source": [
        "from pyspark.ml.stat import Correlation"
      ]
    },
    {
      "cell_type": "code",
      "execution_count": 41,
      "metadata": {
        "id": "wr6Jbuzlz9Aw"
      },
      "outputs": [],
      "source": [
        "# Array das características: array_caracteristicas\n",
        "\n",
        "array_zona = ['Zona Central', 'Zona Norte', 'Zona Oeste', 'Zona Sul']\n",
        "array_caracteristicas = ['Condomínio fechado',\n",
        "                        'Playground',\n",
        "                        'Portão eletrônico',\n",
        "                        'Piscina',\n",
        "                        'Animais permitidos',\n",
        "                        'Portaria 24h',\n",
        "                        'Elevador',\n",
        "                        'Academia',\n",
        "                        'Salão de festas',\n",
        "                        'Churrasqueira']"
      ]
    },
    {
      "cell_type": "code",
      "execution_count": 42,
      "metadata": {
        "id": "eNOY1Hkkz9Aw"
      },
      "outputs": [],
      "source": [
        "input_col_corr = [i for i in dataset.columns if i not in ['id', 'bairro'] + array_caracteristicas + array_zona]"
      ]
    },
    {
      "cell_type": "code",
      "execution_count": 43,
      "metadata": {
        "id": "yymxrG8Kz9Aw",
        "outputId": "e029937e-864a-4841-fd97-9734d4df1ed6",
        "colab": {
          "base_uri": "https://localhost:8080/"
        }
      },
      "outputs": [
        {
          "output_type": "execute_result",
          "data": {
            "text/plain": [
              "['andar',\n",
              " 'area_util',\n",
              " 'banheiros',\n",
              " 'quartos',\n",
              " 'suites',\n",
              " 'vaga',\n",
              " 'condominio',\n",
              " 'iptu',\n",
              " 'valor']"
            ]
          },
          "metadata": {},
          "execution_count": 43
        }
      ],
      "source": [
        "input_col_corr"
      ]
    },
    {
      "cell_type": "code",
      "execution_count": 44,
      "metadata": {
        "id": "BbjDxWdcz9Aw"
      },
      "outputs": [],
      "source": [
        "from pyspark.ml.feature import VectorAssembler"
      ]
    },
    {
      "cell_type": "code",
      "execution_count": 45,
      "metadata": {
        "id": "c8g8eEROz9Aw"
      },
      "outputs": [],
      "source": [
        "assembler = VectorAssembler(inputCols=input_col_corr, outputCol='features')"
      ]
    },
    {
      "cell_type": "code",
      "execution_count": 46,
      "metadata": {
        "id": "wiFdK1Cuz9Ax"
      },
      "outputs": [],
      "source": [
        "df = assembler.transform(dataset).select(\"features\")"
      ]
    },
    {
      "cell_type": "code",
      "execution_count": 47,
      "metadata": {
        "id": "3Z33mi7bz9Ax"
      },
      "outputs": [],
      "source": [
        "# A correlação estará na Matriz Densa\n",
        "\n",
        "correlation = Correlation.corr(df,\"features\",\"pearson\").collect()[0][0]"
      ]
    },
    {
      "cell_type": "code",
      "execution_count": 48,
      "metadata": {
        "id": "pP0bur2Az9Ax"
      },
      "outputs": [],
      "source": [
        "# Para converter a matriz densa em DataFrame\n",
        "rows = correlation.toArray().tolist()\n",
        "df = spark.createDataFrame(rows,input_col_corr)"
      ]
    },
    {
      "cell_type": "code",
      "execution_count": 49,
      "metadata": {
        "id": "a4HGb10Nz9Ax",
        "outputId": "e638e4b5-389c-41c6-82ad-7b3533e1e938",
        "colab": {
          "base_uri": "https://localhost:8080/"
        }
      },
      "outputs": [
        {
          "output_type": "stream",
          "name": "stdout",
          "text": [
            "+--------------------+--------------------+-------------------+-------------------+--------------------+--------------------+--------------------+--------------------+--------------------+\n",
            "|               andar|           area_util|          banheiros|            quartos|              suites|                vaga|          condominio|                iptu|               valor|\n",
            "+--------------------+--------------------+-------------------+-------------------+--------------------+--------------------+--------------------+--------------------+--------------------+\n",
            "|                 1.0|0.020674885718290938|0.01757715331670636|0.01008345278433944|0.024274113790933662|0.018271843474798374| 0.00661793024888357|3.810955786364769E-4|0.016145590401857667|\n",
            "|0.020674885718290938|                 1.0| 0.6710305514515004| 0.6740755967299843|  0.6201287358481448| 0.47192843823228026| 0.04567656570607291|0.021337139034348793|  0.7586357636187985|\n",
            "| 0.01757715331670636|  0.6710305514515004|                1.0| 0.6490253601518167|   0.739838048302685| 0.44505851409237407|0.027186703575109737|0.013934405615435859|  0.5750107985373362|\n",
            "| 0.01008345278433944|  0.6740755967299843| 0.6490253601518167|                1.0|  0.5799251460934062|  0.4304416028303289|0.021652594286621783|0.017249962452910238|  0.5305709093076166|\n",
            "|0.024274113790933662|  0.6201287358481448|  0.739838048302685| 0.5799251460934062|                 1.0| 0.45818387437937025|0.029063364640755023|0.011828513398200543|  0.5834392308805962|\n",
            "+--------------------+--------------------+-------------------+-------------------+--------------------+--------------------+--------------------+--------------------+--------------------+\n",
            "only showing top 5 rows\n",
            "\n"
          ]
        }
      ],
      "source": [
        "df.show(5)"
      ]
    },
    {
      "cell_type": "code",
      "execution_count": 50,
      "metadata": {
        "id": "8AtRLkj2z9Ax",
        "outputId": "beefe002-21bc-49a5-82c8-420ebc37fc93",
        "colab": {
          "base_uri": "https://localhost:8080/",
          "height": 740
        }
      },
      "outputs": [
        {
          "output_type": "display_data",
          "data": {
            "text/plain": [
              "<Figure size 864x864 with 1 Axes>"
            ],
            "image/png": "[encoded data removed]"
          },
          "metadata": {}
        }
      ],
      "source": [
        "import numpy as np\n",
        "import matplotlib.pyplot as plt\n",
        "import seaborn as sns\n",
        "\n",
        "corr = df.toPandas().set_index([input_col_corr])\n",
        "mask = np.zeros_like(corr)\n",
        "mask[np.triu_indices_from(mask)] = True\n",
        "with sns.axes_style(\"white\"):\n",
        "    f, ax = plt.subplots(figsize=(12, 12))\n",
        "    ax = sns.heatmap(corr, mask=mask, fmt=\".2\",  annot=True, cbar=False, cmap='Oranges')\n",
        "    ax.tick_params(labelsize=14)\n",
        "    ax.set_title('Correlação entre variáveis', fontsize=20, loc='left', pad=20)"
      ]
    },
    {
      "cell_type": "markdown",
      "metadata": {
        "id": "js8CEWyJz9Ay"
      },
      "source": [
        "Podemos perceber, pelo gráfico acima, que a variável `valor` possui uma correlação mais alta com as variáveis `area_util` e `banheiros`, porém essa correlação não é tão alta. Dessa forma, não vamos descartar nenhuma dessas variáveis."
      ]
    },
    {
      "cell_type": "markdown",
      "metadata": {
        "id": "RJUFMXLtz9Ay"
      },
      "source": [
        "## Vetorizando os dados"
      ]
    },
    {
      "cell_type": "markdown",
      "metadata": {
        "id": "A7P9diD7z9Ay"
      },
      "source": [
        "Para utilizarmos nossa base de dados em modelos de machine learning do PySpark, vamos precisar utilizar uma técnica chamada de **vetorização dos dados**, para isso utilizaremos a classe `VectorAssembler` da biblioteca `pyspark.ml.feature`."
      ]
    },
    {
      "cell_type": "code",
      "execution_count": 51,
      "metadata": {
        "id": "l3DFcFhrz9Ay"
      },
      "outputs": [],
      "source": [
        "from pyspark.ml.feature import VectorAssembler"
      ]
    },
    {
      "cell_type": "code",
      "execution_count": 52,
      "metadata": {
        "id": "qdoLBCNez9Ay"
      },
      "outputs": [],
      "source": [
        "dataset = dataset.withColumnRenamed('valor','label')"
      ]
    },
    {
      "cell_type": "markdown",
      "metadata": {
        "id": "4JNPSUbrz9Ay"
      },
      "source": [
        "Vamos utilizar todas as colunas, exceto as colunas: \n",
        "* `label` - por ser nossa variável alvo;\n",
        "* `id` - por ser um identificador único; \n",
        "* `bairro` - por ser uma variável categórica que não foi transformada em dummy pois possui muitas categorias."
      ]
    },
    {
      "cell_type": "code",
      "execution_count": 53,
      "metadata": {
        "id": "1a68ldClz9Ay"
      },
      "outputs": [],
      "source": [
        "input_col = [i for i in dataset.columns if i not in ['label', 'id', 'bairro']]"
      ]
    },
    {
      "cell_type": "code",
      "execution_count": 54,
      "metadata": {
        "id": "npt6Lpwgz9Ay"
      },
      "outputs": [],
      "source": [
        "assembler = VectorAssembler(inputCols = input_col, outputCol = 'features')"
      ]
    },
    {
      "cell_type": "code",
      "execution_count": 55,
      "metadata": {
        "id": "tgOh7OFoz9Ay",
        "outputId": "f89efc6c-2fff-4a7d-9955-5e08fdd415ef",
        "colab": {
          "base_uri": "https://localhost:8080/"
        }
      },
      "outputs": [
        {
          "output_type": "stream",
          "name": "stdout",
          "text": [
            "+--------------------+-----+---------+---------+-------+------+----+-----------+----------+------+---------+------------+----------+----------+--------+--------+------------------+-------------+------------------+--------+-------+----------+------------+-----------------+---------------+\n",
            "|                  id|andar|area_util|banheiros|quartos|suites|vaga|     bairro|condominio|  iptu|    label|Zona Central|Zona Norte|Zona Oeste|Zona Sul|Academia|Animais permitidos|Churrasqueira|Condomínio fechado|Elevador|Piscina|Playground|Portaria 24h|Portão eletrônico|Salão de festas|\n",
            "+--------------------+-----+---------+---------+-------+------+----+-----------+----------+------+---------+------------+----------+----------+--------+--------+------------------+-------------+------------------+--------+-------+----------+------------+-----------------+---------------+\n",
            "|02fba6ef-a691-442...|    3|       64|        1|      2|   2.0| 1.0|Jacarepaguá|     784.0|  80.0| 380000.0|           0|         0|         1|       0|       1|                 1|            1|                 1|       1|      1|         1|           1|                1|              1|\n",
            "|3dd5d200-0a7f-43d...|    0|      170|        3|      4|   1.0| 1.0|Cosme Velho|    2250.0|3000.0|1450000.0|           0|         0|         0|       1|       0|                 0|            0|                 0|       1|      0|         0|           0|                0|              0|\n",
            "|4e47e4d4-3326-4eb...|    0|       90|        2|      3|   1.0| 0.0| Copacabana|     950.0|2677.0| 949020.0|           0|         0|         0|       1|       0|                 0|            0|                 0|       1|      0|         0|           0|                0|              0|\n",
            "|82707939-71bd-40c...|    0|      525|        4|      4|   2.0| 2.0|   Flamengo|    5000.0|2100.0|5199000.0|           0|         0|         0|       1|       0|                 0|            0|                 0|       0|      0|         0|           0|                0|              0|\n",
            "|ece1e671-cb4d-48a...|    0|       50|        1|      2|   0.0| 1.0|     Centro|     320.0|  80.0| 330000.0|           1|         0|         0|       0|       1|                 1|            1|                 1|       1|      1|         1|           1|                1|              1|\n",
            "+--------------------+-----+---------+---------+-------+------+----+-----------+----------+------+---------+------------+----------+----------+--------+--------+------------------+-------------+------------------+--------+-------+----------+------------+-----------------+---------------+\n",
            "only showing top 5 rows\n",
            "\n"
          ]
        }
      ],
      "source": [
        "dataset.show(5)"
      ]
    },
    {
      "cell_type": "code",
      "execution_count": 56,
      "metadata": {
        "id": "PavORSjGz9Ay"
      },
      "outputs": [],
      "source": [
        "dataset_prep = assembler.transform(dataset).select('features', 'label')"
      ]
    },
    {
      "cell_type": "code",
      "execution_count": 57,
      "metadata": {
        "id": "G4wwpH4jz9Az",
        "outputId": "e5bb9bd0-6f61-46ae-f831-bbab7a279cef",
        "colab": {
          "base_uri": "https://localhost:8080/"
        }
      },
      "outputs": [
        {
          "output_type": "stream",
          "name": "stdout",
          "text": [
            "+--------------------+---------+\n",
            "|            features|    label|\n",
            "+--------------------+---------+\n",
            "|(22,[1,2,3,4,5,6,...|4600000.0|\n",
            "|(22,[0,1,2,3,5,6,...| 360000.0|\n",
            "|(22,[1,2,3,4,5,10...|1200000.0|\n",
            "|(22,[1,2,3,6,7,11...| 750000.0|\n",
            "|(22,[1,2,3,5,6,7,...|1025000.0|\n",
            "+--------------------+---------+\n",
            "only showing top 5 rows\n",
            "\n"
          ]
        }
      ],
      "source": [
        "dataset_prep.show(5)"
      ]
    },
    {
      "cell_type": "markdown",
      "metadata": {
        "id": "LTagrLkdz9Az"
      },
      "source": [
        "## Construindo modelos de regressão"
      ]
    },
    {
      "cell_type": "markdown",
      "metadata": {
        "id": "gQMWBum_z9Az"
      },
      "source": [
        "Com os nossos dados já vetorizados pelo `VectorAssembler`, vamos construir modelos de regressão para nos auxiliar na previsão dos valores de imóveis. Para isso, vamos utilizar a biblioteca `pyspark.ml.regression` do PySpark."
      ]
    },
    {
      "cell_type": "markdown",
      "metadata": {
        "id": "pit0CpLDz9Az"
      },
      "source": [
        "### Random Forest\n",
        "\n",
        "[Documentação da classe Random Forest Regressor](https://spark.apache.org/docs/latest/api/python/reference/api/pyspark.ml.regression.RandomForestRegressor.html)\n",
        "\n",
        "Random Forest é um modelo de Machine Learning que utiliza a técnica de ensemble learning. Esse modelo é composto por uma coleção de árvores de decisão. Cada uma dessas árvores é treinada com uma amostra aleatória do conjunto de dados. Ao final, o modelo faz a média dos resultados de cada uma das árvores."
      ]
    },
    {
      "cell_type": "code",
      "execution_count": 58,
      "metadata": {
        "id": "IxwD_3CJz9Az"
      },
      "outputs": [],
      "source": [
        "from pyspark.ml.regression import RandomForestRegressor"
      ]
    },
    {
      "cell_type": "code",
      "execution_count": 59,
      "metadata": {
        "id": "AwpyrCW1z9Az"
      },
      "outputs": [],
      "source": [
        "treino, teste = dataset_prep.randomSplit([0.7, 0.3], seed=101)"
      ]
    },
    {
      "cell_type": "code",
      "execution_count": 60,
      "metadata": {
        "id": "-mB3onIQz9Az"
      },
      "outputs": [],
      "source": [
        "rfr = RandomForestRegressor(seed=13, maxDepth=13, numTrees=13)"
      ]
    },
    {
      "cell_type": "code",
      "execution_count": 61,
      "metadata": {
        "id": "0125hy1fz9Az"
      },
      "outputs": [],
      "source": [
        "modelo_rfr = rfr.fit(treino)"
      ]
    },
    {
      "cell_type": "code",
      "execution_count": 62,
      "metadata": {
        "id": "2yOreJHzz9A0"
      },
      "outputs": [],
      "source": [
        "previsoes_rfr_treino = modelo_rfr.transform(treino)"
      ]
    },
    {
      "cell_type": "code",
      "execution_count": 63,
      "metadata": {
        "id": "EIByc9nez9A0",
        "outputId": "76620940-33cb-48b6-9d75-1550ec23320a",
        "colab": {
          "base_uri": "https://localhost:8080/"
        }
      },
      "outputs": [
        {
          "output_type": "stream",
          "name": "stdout",
          "text": [
            "+--------------------+---------+------------------+\n",
            "|            features|    label|        prediction|\n",
            "+--------------------+---------+------------------+\n",
            "|(22,[0,1,2,3,4,5,...| 445000.0|  415835.172778227|\n",
            "|(22,[0,1,2,3,4,5,...| 539000.0| 451560.2728834482|\n",
            "|(22,[0,1,2,3,4,5,...| 262000.0|501521.83331228397|\n",
            "|(22,[0,1,2,3,4,5,...| 460000.0| 321846.5134059897|\n",
            "|(22,[0,1,2,3,4,5,...| 540000.0| 587197.4810444112|\n",
            "|(22,[0,1,2,3,4,5,...|1047795.0| 677568.1166344186|\n",
            "|(22,[0,1,2,3,4,5,...| 750000.0| 641681.7497135588|\n",
            "|(22,[0,1,2,3,4,5,...| 795000.0|  781051.640558442|\n",
            "|(22,[0,1,2,3,4,5,...| 391000.0|338108.94432804355|\n",
            "|(22,[0,1,2,3,4,5,...| 473400.0| 523395.6773296465|\n",
            "|(22,[0,1,2,3,4,5,...| 659900.0|  552581.348329965|\n",
            "|(22,[0,1,2,3,4,5,...| 797204.0| 630255.9862432061|\n",
            "|(22,[0,1,2,3,4,5,...| 499000.0| 604594.9032376832|\n",
            "|(22,[0,1,2,3,4,5,...| 550000.0| 618637.9682132212|\n",
            "|(22,[0,1,2,3,4,5,...|1400000.0|1403356.5624312793|\n",
            "|(22,[0,1,2,3,4,5,...|2450000.0| 2286687.554945055|\n",
            "|(22,[0,1,2,3,4,5,...| 580000.0| 495410.0809725797|\n",
            "|(22,[0,1,2,3,4,5,...| 550000.0| 558426.3109719038|\n",
            "|(22,[0,1,2,3,4,5,...| 689500.0| 540897.0242665503|\n",
            "|(22,[0,1,2,3,4,5,...| 980000.0| 858926.5497294029|\n",
            "+--------------------+---------+------------------+\n",
            "only showing top 20 rows\n",
            "\n"
          ]
        }
      ],
      "source": [
        "previsoes_rfr_treino.show()"
      ]
    },
    {
      "cell_type": "markdown",
      "metadata": {
        "id": "SR-XjEy4z9A0"
      },
      "source": [
        "### Métricas"
      ]
    },
    {
      "cell_type": "markdown",
      "metadata": {
        "id": "ql8Qcj-Cz9A0"
      },
      "source": [
        "As métricas que vamos utilizar para fazer a avaliação de como nossos modelos estão se comportando são:\n",
        "\n",
        "**RMSE** - Raiz do Erro Quadrático Médio. É a métrica que calcula a raiz quadrada do erro médio entre os valores reais e as predições da regressão. Quanto menor esse valor, melhor será o modelo, uma vez que estará cometendo menos erros. Matematicamente, pode ser definida como:\n",
        "\n",
        "<center>\n",
        "<img src =\"https://caelum-online-public.s3.amazonaws.com/2277-spark/03/aula3-img3.png\" width = 30% alt=\"Fórmula: RMSE igual à raiz quadrada de 1 sobre n multiplicado pelo somatório de j indo de 1 a n do quadrado de y_j menos y_j chapéu\">\n",
        "</center>\n",
        "\n",
        "**R2** - ou **coeficiente de determinação** é uma medida estatística que representa a porcentagem de variação da variável resposta que é explicada pelo modelo de regressão. Por se tratar de uma porcentagem, seu valor varia de 0 a 1, onde:\n",
        "\n",
        "- 0 indica que o modelo não explica nada da variabilidade dos dados de resposta ao redor de sua média;\n",
        "- 1 indica que o modelo explica toda a variabilidade dos dados de resposta ao redor de sua média.\n",
        "\n",
        "Portanto, quanto mais próximo de 1 for o valor de R2, melhor será o desempenho do modelo de regressão. Se estivermos trabalhando com apenas duas variáveis, o coeficiente R2 será o quadrado do coeficiente de correlação de Pearson entre as duas variáveis.\n",
        "\n",
        "Para fazer a análise de como os modelos estão se comportando, vamos utilizar a classe `RegressionEvaluator` da biblioteca `pyspark.ml.evaluation`.\n"
      ]
    },
    {
      "cell_type": "code",
      "execution_count": 64,
      "metadata": {
        "id": "jVt9pOhmz9A0"
      },
      "outputs": [],
      "source": [
        "from pyspark.ml.evaluation import RegressionEvaluator"
      ]
    },
    {
      "cell_type": "code",
      "execution_count": 65,
      "metadata": {
        "id": "FdyrYmNFz9A0"
      },
      "outputs": [],
      "source": [
        "evaluator = RegressionEvaluator()"
      ]
    },
    {
      "cell_type": "code",
      "execution_count": 66,
      "metadata": {
        "id": "i3TfPCUIz9A0",
        "outputId": "2812ee7f-3198-406c-f4d8-77683f4981eb",
        "colab": {
          "base_uri": "https://localhost:8080/"
        }
      },
      "outputs": [
        {
          "output_type": "stream",
          "name": "stdout",
          "text": [
            "0.9185122785765222\n",
            "421124.5207677481\n"
          ]
        }
      ],
      "source": [
        "# Métricas do treino\n",
        "\n",
        "print(evaluator.evaluate(previsoes_rfr_treino, {evaluator.metricName: \"r2\"}))\n",
        "print(evaluator.evaluate(previsoes_rfr_treino, {evaluator.metricName: \"rmse\"}))"
      ]
    },
    {
      "cell_type": "code",
      "execution_count": 67,
      "metadata": {
        "id": "sYVTrtR5z9A0",
        "outputId": "1f92544a-c98a-485b-a977-ef41b95129e1",
        "colab": {
          "base_uri": "https://localhost:8080/"
        }
      },
      "outputs": [
        {
          "output_type": "stream",
          "name": "stdout",
          "text": [
            "+--------------------+---------+------------------+\n",
            "|            features|    label|        prediction|\n",
            "+--------------------+---------+------------------+\n",
            "|(22,[0,1,2,3,4,5,...| 349000.0| 365287.9827562858|\n",
            "|(22,[0,1,2,3,4,5,...| 400000.0|417602.46887839545|\n",
            "|(22,[0,1,2,3,4,5,...| 318000.0| 499290.2801867109|\n",
            "|(22,[0,1,2,3,4,5,...| 335000.0| 571997.7163192163|\n",
            "|(22,[0,1,2,3,4,5,...| 950000.0| 1181778.364511306|\n",
            "|(22,[0,1,2,3,4,5,...|1250000.0|1211884.9239160526|\n",
            "|(22,[0,1,2,3,4,5,...| 355000.0|384207.83408775344|\n",
            "|(22,[0,1,2,3,4,5,...| 300000.0|501852.43024278467|\n",
            "|(22,[0,1,2,3,4,5,...|1540000.0|1220799.2352450895|\n",
            "|(22,[0,1,2,3,4,5,...| 290000.0| 457282.2008590971|\n",
            "|(22,[0,1,2,3,4,5,...| 750000.0| 663088.2884516991|\n",
            "|(22,[0,1,2,3,4,5,...| 852288.0| 568112.7585863753|\n",
            "|(22,[0,1,2,3,4,5,...| 940000.0| 753980.2156219502|\n",
            "|(22,[0,1,2,3,4,5,...| 650000.0| 952100.4342018175|\n",
            "|(22,[0,1,2,3,4,5,...| 750000.0| 420883.1981937607|\n",
            "|(22,[0,1,2,3,4,5,...| 650000.0| 565136.3869482089|\n",
            "|(22,[0,1,2,3,4,5,...| 580000.0| 631535.9143053319|\n",
            "|(22,[0,1,2,3,4,5,...|1350000.0| 1155872.243859619|\n",
            "|(22,[0,1,2,3,4,5,...| 730000.0| 751945.5824017791|\n",
            "|(22,[0,1,2,3,4,5,...| 816000.0| 625441.3483113241|\n",
            "+--------------------+---------+------------------+\n",
            "only showing top 20 rows\n",
            "\n"
          ]
        }
      ],
      "source": [
        "previsoes_rfr_teste = modelo_rfr.transform(teste)\n",
        "previsoes_rfr_teste.show()"
      ]
    },
    {
      "cell_type": "code",
      "execution_count": 68,
      "metadata": {
        "id": "lrhmF6B1z9A1",
        "outputId": "202d4388-b2b2-400a-b38a-4f9e0316b82d",
        "colab": {
          "base_uri": "https://localhost:8080/"
        }
      },
      "outputs": [
        {
          "output_type": "stream",
          "name": "stdout",
          "text": [
            "Random Forest Regression\n",
            "==============================\n",
            "Dados de Treino\n",
            "==============================\n",
            "R²: 0.918512\n",
            "RMSE: 421124.520768\n",
            "\n",
            "==============================\n",
            "Dados de Teste\n",
            "==============================\n",
            "R²: 0.831875\n",
            "RMSE: 600174.289064\n"
          ]
        }
      ],
      "source": [
        "print('Random Forest Regression')\n",
        "print(\"=\"*30)\n",
        "print(\"Dados de Treino\")\n",
        "print(\"=\"*30)\n",
        "print(\"R²: %f\" % evaluator.evaluate(previsoes_rfr_treino, {evaluator.metricName: \"r2\"}))\n",
        "print(\"RMSE: %f\" % evaluator.evaluate(previsoes_rfr_treino, {evaluator.metricName: \"rmse\"}))\n",
        "print(\"\")\n",
        "print(\"=\"*30)\n",
        "print(\"Dados de Teste\")\n",
        "print(\"=\"*30)\n",
        "print(\"R²: %f\" % evaluator.evaluate(previsoes_rfr_teste, {evaluator.metricName: \"r2\"}))\n",
        "print(\"RMSE: %f\" % evaluator.evaluate(previsoes_rfr_teste, {evaluator.metricName: \"rmse\"}))"
      ]
    },
    {
      "cell_type": "markdown",
      "metadata": {
        "id": "JX-7Tk5lz9A1"
      },
      "source": [
        "## Extra: Otimização\n",
        "\n",
        "Vamos tentar melhorar o desempenho do nosso modelo utilizando a técnica de otimização de hiperparâmetros, utilzando validação cruzada. Para isso, vamos utilizar a classe `CrossValidator` da biblioteca `pyspark.ml.tuning` e para definir o espaço de busca dos hiperparâmetros, vamos utilizar a classe `ParamGridBuilder`."
      ]
    },
    {
      "cell_type": "code",
      "execution_count": 69,
      "metadata": {
        "id": "3zly50wFz9A1"
      },
      "outputs": [],
      "source": [
        "from pyspark.ml.tuning import CrossValidator, ParamGridBuilder"
      ]
    },
    {
      "cell_type": "code",
      "execution_count": 70,
      "metadata": {
        "id": "nw0rkF1yz9A1"
      },
      "outputs": [],
      "source": [
        "rfr = RandomForestRegressor()"
      ]
    },
    {
      "cell_type": "code",
      "execution_count": 71,
      "metadata": {
        "id": "peEYagI7z9A1"
      },
      "outputs": [],
      "source": [
        "grid = ParamGridBuilder() \\\n",
        "    .addGrid(rfr.numTrees, [10, 20, 30]) \\\n",
        "    .addGrid(rfr.maxDepth, [5, 10]) \\\n",
        "    .addGrid(rfr.maxBins, [10, 32, 45]) \\\n",
        "    .build()"
      ]
    },
    {
      "cell_type": "code",
      "execution_count": 72,
      "metadata": {
        "id": "8mJOdZ-Jz9A1"
      },
      "outputs": [],
      "source": [
        "evaluator = RegressionEvaluator()"
      ]
    },
    {
      "cell_type": "code",
      "execution_count": 73,
      "metadata": {
        "id": "ITj9X-ROz9A1"
      },
      "outputs": [],
      "source": [
        "rfr_cv = CrossValidator(\n",
        "    estimator=rfr,\n",
        "    estimatorParamMaps=grid,\n",
        "    evaluator=evaluator,\n",
        "    numFolds=3\n",
        ")"
      ]
    },
    {
      "cell_type": "code",
      "execution_count": 74,
      "metadata": {
        "id": "ul47Egd4z9A1"
      },
      "outputs": [],
      "source": [
        "modelo_rfr_cv = rfr_cv.fit(treino)"
      ]
    },
    {
      "cell_type": "code",
      "execution_count": 75,
      "metadata": {
        "id": "cISRsR17z9A2",
        "outputId": "99bec2c6-06ca-4cca-a74a-717f9ae1f4df",
        "colab": {
          "base_uri": "https://localhost:8080/"
        }
      },
      "outputs": [
        {
          "output_type": "execute_result",
          "data": {
            "text/plain": [
              "RandomForestRegressionModel: uid=RandomForestRegressor_4d651b47277b, numTrees=30, numFeatures=22"
            ]
          },
          "metadata": {},
          "execution_count": 75
        }
      ],
      "source": [
        "# Quais os melhores parâmetros para o modelo?\n",
        "\n",
        "modelo_rfr_cv.bestModel"
      ]
    },
    {
      "cell_type": "code",
      "execution_count": 76,
      "metadata": {
        "id": "QXOp79ytz9A2"
      },
      "outputs": [],
      "source": [
        "previsoes_rfr_cv_teste = modelo_rfr_cv.transform(teste)"
      ]
    },
    {
      "cell_type": "code",
      "execution_count": 77,
      "metadata": {
        "id": "NKP2dduYz9A2",
        "outputId": "507ed982-1948-4fa3-92d8-3e75e6d1e954",
        "colab": {
          "base_uri": "https://localhost:8080/"
        }
      },
      "outputs": [
        {
          "output_type": "stream",
          "name": "stdout",
          "text": [
            "Random Forest\n",
            "==============================\n",
            "Sem Cross Validation\n",
            "==============================\n",
            "R²: 0.831875\n",
            "RMSE: 600174.289064\n",
            "\n",
            "==============================\n",
            "Com Cross Validation\n",
            "==============================\n",
            "R²: 0.831931\n",
            "RMSE: 600074.385190\n"
          ]
        }
      ],
      "source": [
        "print('Random Forest')\n",
        "print(\"=\"*30)\n",
        "print(\"Sem Cross Validation\")\n",
        "print(\"=\"*30)\n",
        "print(\"R²: %f\" % evaluator.evaluate(previsoes_rfr_teste, {evaluator.metricName: \"r2\"}))\n",
        "print(\"RMSE: %f\" % evaluator.evaluate(previsoes_rfr_teste, {evaluator.metricName: \"rmse\"}))\n",
        "print(\"\")\n",
        "print(\"=\"*30)\n",
        "print(\"Com Cross Validation\")\n",
        "print(\"=\"*30)\n",
        "print(\"R²: %f\" % evaluator.evaluate(previsoes_rfr_cv_teste, {evaluator.metricName: \"r2\"}))\n",
        "print(\"RMSE: %f\" % evaluator.evaluate(previsoes_rfr_cv_teste, {evaluator.metricName: \"rmse\"}))"
      ]
    },
    {
      "cell_type": "markdown",
      "metadata": {
        "id": "PEHcrihMz9A2"
      },
      "source": [
        "## Extra: Implementando o Gradient-boosted tree regression"
      ]
    },
    {
      "cell_type": "markdown",
      "metadata": {
        "id": "ntAnXPxxz9A2"
      },
      "source": [
        "**Implemente o algoritmo Gradiente Boosted e o avalie**"
      ]
    },
    {
      "cell_type": "code",
      "execution_count": 78,
      "metadata": {
        "id": "NYsvqlVGz9A2"
      },
      "outputs": [],
      "source": [
        "from pyspark.ml.regression import GBTRegressor\n",
        "\n",
        "gbt = GBTRegressor()"
      ]
    },
    {
      "cell_type": "code",
      "execution_count": 79,
      "metadata": {
        "id": "SZ2_dd8Xz9A2"
      },
      "outputs": [],
      "source": [
        "modelo_gbt = gbt.fit(treino)"
      ]
    },
    {
      "cell_type": "code",
      "execution_count": 80,
      "metadata": {
        "id": "bIGTnF-Jz9A3"
      },
      "outputs": [],
      "source": [
        "previsoes_gbt_treino = modelo_gbt.transform(treino);"
      ]
    },
    {
      "cell_type": "code",
      "execution_count": 81,
      "metadata": {
        "id": "hZUAAjwfz9A3",
        "outputId": "cf374f12-9b89-416a-f437-da57dab4ace7",
        "colab": {
          "base_uri": "https://localhost:8080/"
        }
      },
      "outputs": [
        {
          "output_type": "stream",
          "name": "stdout",
          "text": [
            "+------------------+--------+--------------------+\n",
            "|        prediction|   label|            features|\n",
            "+------------------+--------+--------------------+\n",
            "| 266978.9336378105|445000.0|(22,[0,1,2,3,4,5,...|\n",
            "| 266978.9336378105|539000.0|(22,[0,1,2,3,4,5,...|\n",
            "|488267.31398731645|262000.0|(22,[0,1,2,3,4,5,...|\n",
            "|290328.93906646885|460000.0|(22,[0,1,2,3,4,5,...|\n",
            "| 604025.2835299133|540000.0|(22,[0,1,2,3,4,5,...|\n",
            "+------------------+--------+--------------------+\n",
            "only showing top 5 rows\n",
            "\n"
          ]
        }
      ],
      "source": [
        "previsoes_gbt_treino.select(\"prediction\", \"label\", \"features\").show(5)"
      ]
    },
    {
      "cell_type": "code",
      "execution_count": 82,
      "metadata": {
        "id": "K5I6PJ4dz9A3"
      },
      "outputs": [],
      "source": [
        "previsoes_gbt_teste = modelo_gbt.transform(teste);"
      ]
    },
    {
      "cell_type": "code",
      "execution_count": 83,
      "metadata": {
        "id": "EUt-UNf3z9A3",
        "outputId": "e9f66a0a-4e0c-477d-e12c-d73f59732305",
        "colab": {
          "base_uri": "https://localhost:8080/"
        }
      },
      "outputs": [
        {
          "output_type": "stream",
          "name": "stdout",
          "text": [
            "Root Mean Squared Error (RMSE) nos dados de teste: 650607\n",
            "R2 nos dados de teste: 0.802432\n"
          ]
        }
      ],
      "source": [
        "print(\"Root Mean Squared Error (RMSE) nos dados de teste: %g\" % evaluator.evaluate(previsoes_gbt_teste, {evaluator.metricName: \"rmse\"}))\n",
        "\n",
        "print(\"R2 nos dados de teste: %g\" % evaluator.evaluate(previsoes_gbt_teste, {evaluator.metricName: \"r2\"}))"
      ]
    }
  ],
  "metadata": {
    "kernelspec": {
      "display_name": "Python 3.9.12 ('ds-conda')",
      "language": "python",
      "name": "python3"
    },
    "language_info": {
      "codemirror_mode": {
        "name": "ipython",
        "version": 3
      },
      "file_extension": ".py",
      "mimetype": "text/x-python",
      "name": "python",
      "nbconvert_exporter": "python",
      "pygments_lexer": "ipython3",
      "version": "3.9.12"
    },
    "orig_nbformat": 4,
    "vscode": {
      "interpreter": {
        "hash": "f376ac459482aba7b305c50f2067a782822cb4387569295007fcf226aacd147b"
      }
    },
    "colab": {
      "provenance": [],
      "include_colab_link": true
    }
  },
  "nbformat": 4,
  "nbformat_minor": 0
}